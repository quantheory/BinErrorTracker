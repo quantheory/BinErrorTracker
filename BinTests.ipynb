{
 "cells": [
  {
   "cell_type": "markdown",
   "id": "8b3e17a4",
   "metadata": {
    "toc": true
   },
   "source": [
    "<h1>Table of Contents<span class=\"tocSkip\"></span></h1>\n",
    "<div class=\"toc\"><ul class=\"toc-item\"><li><span><a href=\"#Comparison-plots\" data-toc-modified-id=\"Comparison-plots-1\"><span class=\"toc-item-num\">1&nbsp;&nbsp;</span>Comparison plots</a></span></li></ul></div>"
   ]
  },
  {
   "cell_type": "code",
   "execution_count": null,
   "id": "0385dd25",
   "metadata": {
    "ExecuteTime": {
     "end_time": "2022-02-08T16:35:13.781622Z",
     "start_time": "2022-02-08T16:35:13.674321Z"
    }
   },
   "outputs": [],
   "source": [
    "from math import isqrt\n",
    "import os.path\n",
    "from time import perf_counter\n",
    "\n",
    "import numpy as np\n",
    "from scipy.special import gamma, gammaln, gammainc\n",
    "import scipy.linalg as la\n",
    "import scipy.integrate as spi\n",
    "import matplotlib\n",
    "import matplotlib.pyplot as plt\n",
    "import netCDF4 as nc4\n",
    "import matplotlib.animation as animation"
   ]
  },
  {
   "cell_type": "code",
   "execution_count": null,
   "id": "c79bb545",
   "metadata": {
    "ExecuteTime": {
     "end_time": "2022-02-08T16:35:13.908296Z",
     "start_time": "2022-02-08T16:35:13.903068Z"
    }
   },
   "outputs": [],
   "source": [
    "kc_long = 9.44e9 # cm^3/g^2/s\n",
    "kr_long = 5.78e3 # cm^3/g/s\n",
    "kc_si = kc_long # m^3/kg^2/s is the same\n",
    "kr_si = kr_long * 1.e-3 # m^3/kg/s\n",
    "rho_air = 1.2 # kg/m^3\n",
    "rho_water = 1000. # kg/m^3\n",
    "mass_100_micron_diameter = rho_water * (np.pi/6.) * 1.e-4**3 # kg\n",
    "kc = kc_si * rho_air * mass_100_micron_diameter**2 # kg/s\n",
    "kr = kr_si * rho_air * mass_100_micron_diameter # kg/s\n",
    "kr_over_kc = kr/kc"
   ]
  },
  {
   "cell_type": "code",
   "execution_count": null,
   "id": "b3c51461",
   "metadata": {
    "ExecuteTime": {
     "end_time": "2022-02-08T16:35:14.001727Z",
     "start_time": "2022-02-08T16:35:13.996814Z"
    }
   },
   "outputs": [],
   "source": [
    "def diameter_to_scaled_mass(d):\n",
    "    return (d*1.e4)**3\n",
    "def scaled_mass_to_diameter(x):\n",
    "    return 1.e-4 * x**(1./3.)"
   ]
  },
  {
   "cell_type": "code",
   "execution_count": null,
   "id": "93840cac",
   "metadata": {
    "ExecuteTime": {
     "end_time": "2022-02-08T16:35:14.357254Z",
     "start_time": "2022-02-08T16:35:14.336533Z"
    }
   },
   "outputs": [],
   "source": [
    "def add_logs(x, y):\n",
    "    \"\"\"Returns log(exp(x)+exp(y)).\"\"\"\n",
    "    return x + np.log(1. + np.exp(y-x))\n",
    "\n",
    "def sub_logs(x, y):\n",
    "    \"\"\"Returns log(exp(x)-exp(y)).\"\"\"\n",
    "    assert y < x\n",
    "    return x + np.log(1. - np.exp(y-x))\n",
    "\n",
    "def height(lx, ly1, ly2, lz1, lz2):\n",
    "    \"\"\"Range of possible ly values such that add_logs(lx, ly) is in range for lz.\"\"\"\n",
    "    bottom = ly1\n",
    "    if lz1 > lx:\n",
    "        bottom = max(bottom, sub_logs(lz1, lx))\n",
    "    return max(0., min(ly2, sub_logs(lz2, lx)) - bottom)\n",
    "\n",
    "def calc_area(vertex_lxs, heights):\n",
    "    dlxs = vertex_lxs[1:] - vertex_lxs[:-1]\n",
    "    avg_hts = 0.5 * (heights[1:] + heights[:-1])\n",
    "    return np.dot(dlxs, avg_hts)\n",
    "\n",
    "def long_kernel_top_hat(kr_over_kc, lx1, lx2, ly1, ly2, lz1, lz2):\n",
    "    \"\"\"Integrated nondimensionalized Long's (1974) kernel over a pair of top hat bins.\n",
    "\n",
    "    Arguments:\n",
    "    kr_over_kc - kr/kc\n",
    "    lx1, lx2 - Logarithm of bounds of bin of first particle.\n",
    "    ly1, ly2 - Logarithm of bounds of bin of second particle.\n",
    "    lz1, lz2 - Logarithm of bounds of bin of outgoing particle.\n",
    "    Output:\n",
    "    Long's kernel in a nondimensionalized representation.\n",
    "\n",
    "    Nondimensionalized representation in this case means scaling masses such that the\n",
    "    the mass of a particle on the rain-cloud boundary (100 micron diameter) is 1, and\n",
    "    kc = 1.\n",
    "\n",
    "    For efficiency in the mass-conserving scheme, we use an asymmetric kernel; the\n",
    "    result represents the mass moved from the first bin to the outgoing bin,\n",
    "    rather than the number of collisions.\n",
    "    \"\"\"\n",
    "    mean_lx = (lx1 + lx2) / 2\n",
    "    mean_ly = (ly1 + ly2) / 2\n",
    "    # Area of intersection calculation\n",
    "    min_output = add_logs(lx1, ly1)\n",
    "    max_output = add_logs(lx2, ly2)\n",
    "    if min_output > lz2 or max_output < lz1:\n",
    "        return 0.\n",
    "    if lz1 > ly2:\n",
    "        start = max(lx1, sub_logs(lz1, ly2))\n",
    "    else:\n",
    "        start = lx1\n",
    "    end = min(lx2, sub_logs(lz2, ly1))\n",
    "    vertex_lxs = [start, end]\n",
    "    if lz1 > ly1:\n",
    "        low_intersect = sub_logs(lz1, ly1)\n",
    "        if start < low_intersect < end:\n",
    "            vertex_lxs.append(low_intersect)\n",
    "    if lz2 > ly2:\n",
    "        high_intersect = sub_logs(lz2, ly2)\n",
    "        if start < high_intersect < end:\n",
    "            vertex_lxs.append(high_intersect)\n",
    "    vertex_lxs = np.array(sorted(vertex_lxs))\n",
    "    heights = np.array([height(lx, ly1, ly2, lz1, lz2) for lx in vertex_lxs])\n",
    "    area = calc_area(vertex_lxs, heights)\n",
    "    if mean_lx < 0. and mean_ly < 0.:\n",
    "        return area * (np.exp(2.*mean_lx - mean_ly) + np.exp(mean_ly))\n",
    "    else:\n",
    "        return area * kr_over_kc * (np.exp(mean_lx - mean_ly) + 1)"
   ]
  },
  {
   "cell_type": "code",
   "execution_count": null,
   "id": "24b6a68a",
   "metadata": {
    "ExecuteTime": {
     "end_time": "2022-02-08T16:35:14.550024Z",
     "start_time": "2022-02-08T16:35:14.543564Z"
    }
   },
   "outputs": [],
   "source": [
    "def find_bin(bin_bounds, val, check_bottom=True):\n",
    "    if check_bottom:\n",
    "        assert val > bin_bounds[0]\n",
    "    else:\n",
    "        if val <= bin_bounds[0]:\n",
    "            return -1\n",
    "    for i in range(1, len(bin_bounds)):\n",
    "        if val < bin_bounds[i]:\n",
    "            return i-1\n",
    "    return -1"
   ]
  },
  {
   "cell_type": "code",
   "execution_count": null,
   "id": "5472329f",
   "metadata": {
    "ExecuteTime": {
     "end_time": "2022-02-08T16:35:15.738869Z",
     "start_time": "2022-02-08T16:35:14.765153Z"
    }
   },
   "outputs": [],
   "source": [
    "d_min = 1.e-6\n",
    "d_max = 1.e-3\n",
    "x_min = diameter_to_scaled_mass(d_min)\n",
    "x_max = diameter_to_scaled_mass(d_max)\n",
    "lx_min = np.log(x_min)\n",
    "lx_max = np.log(x_max)\n",
    "num_bins = 90\n",
    "bin_bounds = np.linspace(lx_min, lx_max, num_bins+1)\n",
    "dls = bin_bounds[1:] - bin_bounds[:-1]\n",
    "sum_idxs = np.zeros((num_bins, num_bins), dtype=np.int32)\n",
    "num_sum_bins = np.zeros((num_bins, num_bins), dtype=np.int32)\n",
    "for i in range(num_bins):\n",
    "    for j in range(num_bins):\n",
    "        low_sum_log = add_logs(bin_bounds[i], bin_bounds[j])\n",
    "        high_sum_log = add_logs(bin_bounds[i+1], bin_bounds[j+1])\n",
    "        low_sum_idx = find_bin(bin_bounds, low_sum_log)\n",
    "        if low_sum_idx == -1:\n",
    "            low_sum_idx = num_bins-1\n",
    "        high_sum_idx = find_bin(bin_bounds, high_sum_log)\n",
    "        if high_sum_idx == -1:\n",
    "            high_sum_idx = num_bins-1\n",
    "        sum_idxs[i,j] = low_sum_idx\n",
    "        num_sum_bins[i,j] = high_sum_idx - low_sum_idx + 1\n",
    "max_sum_bins = num_sum_bins.max()\n",
    "kernel = np.zeros((num_bins, num_bins, max_sum_bins))\n",
    "# Using num_bins-1 here causes the top bin to be non-interacting with the others.\n",
    "for i in range(num_bins):\n",
    "    for j in range(num_bins):\n",
    "        idx = sum_idxs[i,j]\n",
    "        for k in range(num_sum_bins[i,j]):\n",
    "            if idx+k == num_bins-1:\n",
    "                high_bound = np.inf\n",
    "            else:\n",
    "                high_bound = bin_bounds[idx+k+1]\n",
    "            kernel[i,j,k] = long_kernel_top_hat(kr_over_kc, bin_bounds[i], bin_bounds[i+1],\n",
    "                                                bin_bounds[j], bin_bounds[j+1],\n",
    "                                                bin_bounds[idx+k], high_bound)"
   ]
  },
  {
   "cell_type": "code",
   "execution_count": null,
   "id": "150ca30f",
   "metadata": {
    "ExecuteTime": {
     "end_time": "2022-02-08T16:35:16.601541Z",
     "start_time": "2022-02-08T16:35:16.595166Z"
    }
   },
   "outputs": [],
   "source": [
    "mass_init = 2.e-3 # kg/kg mass mixing ratio\n",
    "nc_init = 400. # cm^-3 number concentration\n",
    "nu_init = 5. # shape parameter\n",
    "m3_scaled_init = mass_init / mass_100_micron_diameter # kg^-1\n",
    "m3_init = mass_init / (rho_water * np.pi/6.) # m^3 / kg 3rd moment\n",
    "m0_init = nc_init * 1.e6 * rho_air # kg^-1 number concentration\n",
    "lambda_init = ( m0_init * gamma(nu_init + 3)/ (m3_init * gamma(nu_init)) )**(1./3.) # m^-1 scale parameter"
   ]
  },
  {
   "cell_type": "code",
   "execution_count": null,
   "id": "01eb2fec",
   "metadata": {
    "ExecuteTime": {
     "end_time": "2022-02-08T16:35:17.033968Z",
     "start_time": "2022-02-08T16:35:17.022669Z"
    }
   },
   "outputs": [],
   "source": [
    "bin_bounds_d = np.array([scaled_mass_to_diameter(np.exp(lx)) for lx in bin_bounds])\n",
    "def f_initialize_gamma(bin_bounds_d, dls, lam, nu):\n",
    "    gamma_integrals = gammainc(nu+3., lam*bin_bounds_d)\n",
    "    return (gamma_integrals[1:] - gamma_integrals[:-1]) / dls\n",
    "\n",
    "def dfdlambda_initialize(bin_bounds_d, dls, lam, nu):\n",
    "    bin_func = bin_bounds_d * (lam*bin_bounds_d)**(nu+2) * np.exp(-lam*bin_bounds_d) / gamma(nu+3)\n",
    "    return (bin_func[1:] - bin_func[:-1]) / dls\n",
    "\n",
    "def dfdnu_initialize(bin_bounds_d, dls, lam, nu):\n",
    "    # Use finite difference with Richardson extrapolation.\n",
    "    perturb = 1.e-6\n",
    "    return (4.*f_initialize_gamma(bin_bounds_d, dls, lam, nu+perturb) -\n",
    "            f_initialize_gamma(bin_bounds_d, dls, lam, nu+2.*perturb) -\n",
    "            3.*f_initialize_gamma(bin_bounds_d, dls, lam, nu)           ) / (2.*perturb)"
   ]
  },
  {
   "cell_type": "code",
   "execution_count": null,
   "id": "08f34a90",
   "metadata": {
    "ExecuteTime": {
     "end_time": "2022-02-08T16:35:17.905460Z",
     "start_time": "2022-02-08T16:35:17.844535Z"
    }
   },
   "outputs": [],
   "source": [
    "f_init = f_initialize_gamma(bin_bounds_d, dls, lambda_init, nu_init)\n",
    "bin_midpoints = 0.5 * (bin_bounds[:-1] + bin_bounds[1:])\n",
    "plot_lxs = 2. + bin_midpoints / (3.*np.log(10))\n",
    "fig = plt.figure(figsize=(5, 4))\n",
    "plt.plot(plot_lxs, f_init)"
   ]
  },
  {
   "cell_type": "code",
   "execution_count": null,
   "id": "f0b291b3",
   "metadata": {
    "ExecuteTime": {
     "end_time": "2022-02-08T16:35:21.466796Z",
     "start_time": "2022-02-08T16:35:21.417538Z"
    }
   },
   "outputs": [],
   "source": [
    "dfdlambda_init = dfdlambda_initialize(bin_bounds_d, dls, lambda_init, nu_init)\n",
    "perturb = 1.e-5 * lambda_init\n",
    "f_perturb = f_initialize_gamma(bin_bounds_d, dls, lambda_init + perturb, nu_init)\n",
    "dfdlambda_approx = (f_perturb-f_init)/perturb\n",
    "fig = plt.figure(figsize=(5, 4))\n",
    "plt.plot(plot_lxs, (dfdlambda_init - dfdlambda_approx)/dfdlambda_init.max())"
   ]
  },
  {
   "cell_type": "code",
   "execution_count": null,
   "id": "d5a454ba",
   "metadata": {
    "ExecuteTime": {
     "end_time": "2022-02-08T16:35:24.307650Z",
     "start_time": "2022-02-08T16:35:24.267952Z"
    }
   },
   "outputs": [],
   "source": [
    "dfdnu_init = dfdnu_initialize(bin_bounds_d, dls, lambda_init, nu_init)\n",
    "perturb = 1.e-5 * nu_init\n",
    "f_perturb = f_initialize_gamma(bin_bounds_d, dls, lambda_init, nu_init + perturb)\n",
    "dfdnu_approx = (f_perturb-f_init)/perturb\n",
    "fig = plt.figure(figsize=(5, 4))\n",
    "plt.plot(plot_lxs, (dfdnu_init - dfdnu_approx)/dfdnu_approx.max())"
   ]
  },
  {
   "cell_type": "code",
   "execution_count": null,
   "id": "4dd9249f",
   "metadata": {
    "ExecuteTime": {
     "end_time": "2022-02-08T16:35:27.508927Z",
     "start_time": "2022-02-08T16:35:27.503469Z"
    }
   },
   "outputs": [],
   "source": [
    "y_init = np.zeros((3*num_bins,))\n",
    "y_init[:num_bins] = f_init\n",
    "y_init[num_bins:2*num_bins] = dfdlambda_init\n",
    "y_init[2*num_bins:] = dfdnu_init"
   ]
  },
  {
   "cell_type": "code",
   "execution_count": null,
   "id": "82c8db51",
   "metadata": {
    "ExecuteTime": {
     "end_time": "2022-02-08T16:35:28.164099Z",
     "start_time": "2022-02-08T16:35:28.144613Z"
    }
   },
   "outputs": [],
   "source": [
    "def dfdt(t, f, dls, kernel, sum_idxs, num_sum_bins):\n",
    "    num_bins = len(f)\n",
    "    if len(f.shape) == 1:\n",
    "        f = f[:,None]\n",
    "    f_outer = np.dot(f, np.transpose(f))\n",
    "    output = np.zeros((num_bins,))\n",
    "    for i in range(num_bins):\n",
    "        for j in range(num_bins):\n",
    "            idx = sum_idxs[i,j]\n",
    "            fprod = f_outer[i,j]\n",
    "            for k in range(num_sum_bins[i,j]):\n",
    "                dfdt_term = fprod * kernel[i,j,k]\n",
    "                output[i] -= dfdt_term\n",
    "                output[idx+k] += dfdt_term\n",
    "    output /= dls\n",
    "    return output\n",
    "\n",
    "def dfdt_and_djdt(t, y, dls, kernel, sum_idxs, num_sum_bins):\n",
    "    num_bins = len(y) // 3\n",
    "    f = y[:num_bins,None]\n",
    "    dfdlam = y[num_bins:2*num_bins,None]\n",
    "    dfdnu = y[2*num_bins:,None]\n",
    "    f_outer = np.dot(f, np.transpose(f))\n",
    "    doutdlam = np.dot(f, np.transpose(dfdlam))\n",
    "    doutdlam += np.transpose(doutdlam)\n",
    "    doutdnu = np.dot(f, np.transpose(dfdnu))\n",
    "    doutdnu += np.transpose(doutdnu)\n",
    "    output = np.zeros((3*num_bins,))\n",
    "    for i in range(num_bins):\n",
    "        for j in range(num_bins):\n",
    "            idx = sum_idxs[i,j]\n",
    "            fprod = f_outer[i,j]\n",
    "            dpdlam = doutdlam[i,j]\n",
    "            dpdnu = doutdnu[i,j]\n",
    "            for k in range(num_sum_bins[i,j]):\n",
    "                dfdt_term = fprod * kernel[i,j,k]\n",
    "                output[i] -= dfdt_term\n",
    "                output[idx+k] += dfdt_term\n",
    "                dtermdlam = dpdlam * kernel[i,j,k]\n",
    "                output[num_bins+i] -= dtermdlam\n",
    "                output[num_bins+idx+k] += dtermdlam\n",
    "                dtermdnu = dpdnu * kernel[i,j,k]\n",
    "                output[2*num_bins+i] -= dtermdnu\n",
    "                output[2*num_bins+idx+k] += dtermdnu\n",
    "    output[:num_bins] /= dls\n",
    "    output[num_bins:2*num_bins] /= dls\n",
    "    output[2*num_bins:] /= dls\n",
    "    return output"
   ]
  },
  {
   "cell_type": "code",
   "execution_count": null,
   "id": "18ba0022",
   "metadata": {
    "ExecuteTime": {
     "end_time": "2022-02-08T16:35:32.752762Z",
     "start_time": "2022-02-08T16:35:32.635263Z"
    }
   },
   "outputs": [],
   "source": [
    "dfdt_init = dfdt(0., f_init, dls, kernel, sum_idxs, num_sum_bins)\n",
    "fig = plt.figure(figsize=(5, 4))\n",
    "plt.plot(plot_lxs, dfdt_init)"
   ]
  },
  {
   "cell_type": "code",
   "execution_count": null,
   "id": "5fde86be",
   "metadata": {
    "ExecuteTime": {
     "end_time": "2022-02-08T16:36:02.876693Z",
     "start_time": "2022-02-08T16:35:45.997103Z"
    }
   },
   "outputs": [],
   "source": [
    "end_time = 900.\n",
    "num_time_steps = 60\n",
    "dt = end_time / num_time_steps\n",
    "end_time_scaled = end_time * m3_scaled_init * kc\n",
    "t_eval = np.linspace(0., end_time_scaled, num_time_steps+1)\n",
    "ivp_out = spi.solve_ivp(dfdt_and_djdt, (0., end_time_scaled),\n",
    "                        y_init, args=(dls, kernel, sum_idxs, num_sum_bins),\n",
    "                        t_eval=t_eval)"
   ]
  },
  {
   "cell_type": "code",
   "execution_count": null,
   "id": "680bc3e7",
   "metadata": {
    "ExecuteTime": {
     "end_time": "2022-02-08T16:36:04.524051Z",
     "start_time": "2022-02-08T16:36:02.902396Z"
    }
   },
   "outputs": [],
   "source": [
    "mass_convert = mass_init * 1.e3 * (3.*np.log(10))\n",
    "ymin = 0.\n",
    "ymax = 0.4*mass_convert\n",
    "fig = plt.figure(figsize=(5, 4))\n",
    "ax = fig.add_subplot(autoscale_on=False,\n",
    "                     xlim=(2. + lx_min/(3.*np.log(10)), 2. + lx_max/(3.*np.log(10))),\n",
    "                     ylim=(ymin, ymax))\n",
    "ax.set_xlabel(\"$log_{10}(D)$ ($D$ in microns)\")\n",
    "ax.set_ylabel(\"$dm/dlog_{10}(D)$ (g/kg)\")\n",
    "ax.grid()\n",
    "\n",
    "line, = ax.plot(plot_lxs, f_init, 'o-', lw=2)\n",
    "time_template = 'time = %.1fs'\n",
    "time_text = ax.text(0.05, 0.9, '', transform=ax.transAxes)\n",
    "plt.vlines(2., ymin, ymax, 'k')\n",
    "\n",
    "def animate(i):\n",
    "    thisy = mass_convert*ivp_out.y[:num_bins,i]\n",
    "    line.set_data(plot_lxs, thisy)\n",
    "    time_text.set_text(time_template % (i*dt))\n",
    "    return line, time_text\n",
    "\n",
    "ani = animation.FuncAnimation(\n",
    "    fig, animate, len(t_eval), interval=dt*1000*(5./end_time), blit=True)\n",
    "ani.save(\"mass_evolution.gif\")\n",
    "plt.show()"
   ]
  },
  {
   "cell_type": "code",
   "execution_count": null,
   "id": "d26f18dd",
   "metadata": {
    "ExecuteTime": {
     "end_time": "2022-02-08T16:36:10.888375Z",
     "start_time": "2022-02-08T16:36:10.760921Z"
    }
   },
   "outputs": [],
   "source": [
    "ymin = -1.e-5\n",
    "ymax = 1.e-5\n",
    "fig = plt.figure(figsize=(5, 4))\n",
    "ax = fig.add_subplot(autoscale_on=False,\n",
    "                     xlim=(2. + lx_min/(3.*np.log(10)), 2. + lx_max/(3.*np.log(10))),\n",
    "                     ylim=(ymin, ymax))\n",
    "ax.set_xlabel(\"$log_{10}(D)$ ($D$ in microns)\")\n",
    "ax.grid()\n",
    "\n",
    "line, = ax.plot(plot_lxs, f_init, 'o-', lw=2)\n",
    "time_template = 'time = %.1fs'\n",
    "time_text = ax.text(0.05, 0.9, '', transform=ax.transAxes)\n",
    "plt.vlines(2., ymin, ymax, 'k')\n",
    "\n",
    "def animate(i):\n",
    "    thisy = ivp_out.y[num_bins:2*num_bins,i]\n",
    "    line.set_data(plot_lxs, thisy)\n",
    "    time_text.set_text(time_template % (i*dt))\n",
    "    return line, time_text\n",
    "\n",
    "ani = animation.FuncAnimation(\n",
    "    fig, animate, len(t_eval), interval=dt*1000*(5./end_time), blit=True)\n",
    "plt.show()"
   ]
  },
  {
   "cell_type": "code",
   "execution_count": null,
   "id": "86ac789b",
   "metadata": {
    "ExecuteTime": {
     "end_time": "2022-02-08T16:36:13.818103Z",
     "start_time": "2022-02-08T16:36:13.756055Z"
    }
   },
   "outputs": [],
   "source": [
    "ymin = -1.e-1\n",
    "ymax = 1.e-1\n",
    "fig = plt.figure(figsize=(5, 4))\n",
    "ax = fig.add_subplot(autoscale_on=False,\n",
    "                     xlim=(2. + lx_min/(3.*np.log(10)), 2. + lx_max/(3.*np.log(10))),\n",
    "                     ylim=(ymin, ymax))\n",
    "ax.set_xlabel(\"$log_{10}(D)$ ($D$ in microns)\")\n",
    "ax.grid()\n",
    "\n",
    "line, = ax.plot(plot_lxs, f_init, 'o-', lw=2)\n",
    "time_template = 'time = %.1fs'\n",
    "time_text = ax.text(0.05, 0.9, '', transform=ax.transAxes)\n",
    "plt.vlines(2., ymin, ymax, 'k')\n",
    "\n",
    "def animate(i):\n",
    "    thisy = ivp_out.y[2*num_bins:,i]\n",
    "    line.set_data(plot_lxs, thisy)\n",
    "    time_text.set_text(time_template % (i*dt))\n",
    "    return line, time_text\n",
    "\n",
    "ani = animation.FuncAnimation(\n",
    "    fig, animate, len(t_eval), interval=dt*1000*(5./end_time), blit=True)\n",
    "plt.show()"
   ]
  },
  {
   "cell_type": "code",
   "execution_count": null,
   "id": "1317ddce",
   "metadata": {
    "ExecuteTime": {
     "end_time": "2022-02-08T16:36:20.119942Z",
     "start_time": "2022-02-08T16:36:19.470335Z"
    }
   },
   "outputs": [],
   "source": [
    "perturb = 1.e-4 * lambda_init\n",
    "f_perturb = f_initialize_gamma(bin_bounds_d, dls, lambda_init+perturb, nu_init)\n",
    "end_time_perturb = dt * m3_scaled_init * kc\n",
    "ivp_perturb = spi.solve_ivp(dfdt, (0., end_time_perturb),\n",
    "                            f_perturb, args=(dls, kernel, sum_idxs, num_sum_bins),\n",
    "                            t_eval=np.array([0., end_time_perturb]))\n",
    "dfdlam_approx = (ivp_perturb.y[:,1] - ivp_out.y[:num_bins,1]) / perturb\n",
    "fig = plt.figure(figsize=(5, 4))\n",
    "plt.plot(plot_lxs, ivp_out.y[num_bins:2*num_bins,1])\n",
    "plt.plot(plot_lxs, dfdlam_approx)"
   ]
  },
  {
   "cell_type": "code",
   "execution_count": null,
   "id": "ce9e1a07",
   "metadata": {
    "ExecuteTime": {
     "end_time": "2022-02-08T16:36:23.983111Z",
     "start_time": "2022-02-08T16:36:23.324039Z"
    }
   },
   "outputs": [],
   "source": [
    "perturb = 1.e-4 * nu_init\n",
    "f_perturb = f_initialize_gamma(bin_bounds_d, dls, lambda_init, nu_init+perturb)\n",
    "end_time_perturb = dt * m3_scaled_init * kc\n",
    "ivp_perturb = spi.solve_ivp(dfdt, (0., end_time_perturb),\n",
    "                            f_perturb, args=(dls, kernel, sum_idxs, num_sum_bins),\n",
    "                            t_eval=np.array([0., end_time_perturb]))\n",
    "dfdnu_approx = (ivp_perturb.y[:,1] - ivp_out.y[:num_bins,1]) / perturb\n",
    "fig = plt.figure(figsize=(5, 4))\n",
    "plt.plot(plot_lxs, ivp_out.y[2*num_bins:,1])\n",
    "plt.plot(plot_lxs, dfdnu_approx)"
   ]
  },
  {
   "cell_type": "code",
   "execution_count": null,
   "id": "8bb77e99",
   "metadata": {
    "ExecuteTime": {
     "end_time": "2022-02-08T16:36:28.272469Z",
     "start_time": "2022-02-08T16:36:28.263096Z"
    }
   },
   "outputs": [],
   "source": [
    "def calc_moment(f, n, m3, bin_bounds, dls, bin_midpoints, min_d, max_d):\n",
    "    min_idx = find_bin(bin_midpoints, np.log(diameter_to_scaled_mass(min_d)), check_bottom=False) + 1\n",
    "    max_idx = find_bin(bin_bounds, np.log(diameter_to_scaled_mass(max_d)), check_bottom=False)\n",
    "    if max_idx == -1:\n",
    "        max_idx = num_bins-1\n",
    "    bin_midpoints_d = np.array([scaled_mass_to_diameter(np.exp(p)) for p in bin_midpoints[min_idx:max_idx+1]])\n",
    "    mom_func = bin_midpoints_d**(n-3)\n",
    "    int_func = m3 * f[min_idx:max_idx+1] * dls[min_idx:max_idx+1]\n",
    "    return np.dot(int_func, mom_func)"
   ]
  },
  {
   "cell_type": "code",
   "execution_count": null,
   "id": "ed18a2ce",
   "metadata": {
    "ExecuteTime": {
     "end_time": "2022-02-08T16:36:28.959713Z",
     "start_time": "2022-02-08T16:36:28.953325Z"
    }
   },
   "outputs": [],
   "source": [
    "m3_init"
   ]
  },
  {
   "cell_type": "code",
   "execution_count": null,
   "id": "ffece9cd",
   "metadata": {
    "ExecuteTime": {
     "end_time": "2022-02-08T16:36:29.601338Z",
     "start_time": "2022-02-08T16:36:29.593701Z"
    },
    "scrolled": true
   },
   "outputs": [],
   "source": [
    "calc_moment(f_init, 3, m3_init, bin_bounds, dls, bin_midpoints, 1.e-6, 1.e-3)"
   ]
  },
  {
   "cell_type": "code",
   "execution_count": null,
   "id": "fb243930",
   "metadata": {
    "ExecuteTime": {
     "end_time": "2022-02-08T16:36:30.102074Z",
     "start_time": "2022-02-08T16:36:30.094322Z"
    }
   },
   "outputs": [],
   "source": [
    "calc_moment(ivp_out.y[:num_bins,-1], 3, m3_init, bin_bounds, dls, bin_midpoints, 1.e-6, 1.e-3)"
   ]
  },
  {
   "cell_type": "code",
   "execution_count": null,
   "id": "76440506",
   "metadata": {
    "ExecuteTime": {
     "end_time": "2022-02-08T16:36:31.078526Z",
     "start_time": "2022-02-08T16:36:31.066524Z"
    }
   },
   "outputs": [],
   "source": [
    "def calc_moment_and_gradient(y, dfdt_val, n, m3, bin_bounds, dls, bin_midpoints, min_d, max_d):\n",
    "    num_bins = len(dls)\n",
    "    f = y[:num_bins]\n",
    "    dfdlam = y[num_bins:2*num_bins]\n",
    "    dfdnu = y[2*num_bins:]\n",
    "    min_idx = find_bin(bin_midpoints, np.log(diameter_to_scaled_mass(min_d)), check_bottom=False) + 1\n",
    "    max_idx = find_bin(bin_midpoints, np.log(diameter_to_scaled_mass(max_d)), check_bottom=False)\n",
    "    if max_idx == -1:\n",
    "        max_idx = num_bins-1\n",
    "    bin_midpoints_d = np.array([scaled_mass_to_diameter(np.exp(p)) for p in bin_midpoints[min_idx:max_idx+1]])\n",
    "    int_func = m3 * bin_midpoints_d**(n-3) * dls[min_idx:max_idx+1]\n",
    "    mom = np.dot(f[min_idx:max_idx+1], int_func)\n",
    "    grad = np.zeros((3,))\n",
    "    grad[0] = np.dot(dfdt_val[min_idx:max_idx+1], int_func)\n",
    "    grad[1] = np.dot(dfdlam[min_idx:max_idx+1], int_func)\n",
    "    grad[2] = np.dot(dfdnu[min_idx:max_idx+1], int_func)\n",
    "    return mom, grad / mom"
   ]
  },
  {
   "cell_type": "code",
   "execution_count": null,
   "id": "6a0beec5",
   "metadata": {
    "ExecuteTime": {
     "end_time": "2022-02-08T16:36:36.508488Z",
     "start_time": "2022-02-08T16:36:36.488083Z"
    }
   },
   "outputs": [],
   "source": [
    "def autoconversion_accretion_and_grads(y, dfdt_val, dls, kernel, sum_idxs, num_sum_bins,\n",
    "                                       bin_midpoints, cutoff_diameter, m3, tscale):\n",
    "    max_cld_idx = find_bin(bin_midpoints, np.log(diameter_to_scaled_mass(cutoff_diameter)))\n",
    "    assert max_cld_idx != -1\n",
    "    num_bins = len(bin_midpoints)\n",
    "    is_cloud = np.zeros((num_bins,), dtype=np.int8)\n",
    "    is_cloud[:max_cld_idx+1] = True\n",
    "    f = y[:num_bins,None]\n",
    "    dfdlam = y[num_bins:2*num_bins,None]\n",
    "    dfdnu = y[2*num_bins:,None]\n",
    "    if len(dfdt_val.shape) == 1:\n",
    "        dfdt_val = dfdt_val[:,None]\n",
    "    f_outer = np.dot(f, np.transpose(f))\n",
    "    doutdt = np.dot(f, np.transpose(dfdt_val))\n",
    "    doutdt += np.transpose(doutdt)\n",
    "    doutdlam = np.dot(f, np.transpose(dfdlam))\n",
    "    doutdlam += np.transpose(doutdlam)\n",
    "    doutdnu = np.dot(f, np.transpose(dfdnu))\n",
    "    doutdnu += np.transpose(doutdnu)\n",
    "    auto = 0.\n",
    "    accr = 0.\n",
    "    grad_auto = np.zeros((3,))\n",
    "    grad_accr = np.zeros((3,))\n",
    "    for i in range(num_bins):\n",
    "        if not is_cloud[i]:\n",
    "            break\n",
    "        for j in range(num_bins):\n",
    "            idx = sum_idxs[i,j]\n",
    "            fprod = f_outer[i,j]\n",
    "            dpdt = doutdt[i,j]\n",
    "            dpdlam = doutdlam[i,j]\n",
    "            dpdnu = doutdnu[i,j]\n",
    "            for k in range(num_sum_bins[i,j]):\n",
    "                if is_cloud[idx+k]:\n",
    "                    continue\n",
    "                dfdt_term = fprod * kernel[i,j,k]\n",
    "                dtermdt = dpdt * kernel[i,j,k]\n",
    "                dtermdlam = dpdlam * kernel[i,j,k]\n",
    "                dtermdnu = dpdnu * kernel[i,j,k]\n",
    "                if is_cloud[j]:\n",
    "                    auto += dfdt_term\n",
    "                    grad_auto[0] += dtermdt\n",
    "                    grad_auto[1] += dtermdlam\n",
    "                    grad_auto[2] += dtermdnu\n",
    "                else:\n",
    "                    accr += dfdt_term\n",
    "                    grad_accr[0] += dtermdt\n",
    "                    grad_accr[1] += dtermdlam\n",
    "                    grad_accr[2] += dtermdnu\n",
    "    auto *= m3 / tscale\n",
    "    accr *= m3 / tscale\n",
    "    grad_auto *= m3 / tscale\n",
    "    grad_accr *= m3 / tscale\n",
    "    return auto, accr, auto+accr, grad_auto / auto, grad_accr / accr, grad_auto+grad_accr / (auto+accr)"
   ]
  },
  {
   "cell_type": "code",
   "execution_count": null,
   "id": "d5fb2e82",
   "metadata": {
    "ExecuteTime": {
     "end_time": "2022-02-08T16:36:41.781048Z",
     "start_time": "2022-02-08T16:36:37.496721Z"
    }
   },
   "outputs": [],
   "source": [
    "tscale = 1. / (m3_scaled_init * kc)\n",
    "mom0s = np.zeros((num_time_steps+1,))\n",
    "mom3s = np.zeros((num_time_steps+1,))\n",
    "mom6s = np.zeros((num_time_steps+1,))\n",
    "mom9s = np.zeros((num_time_steps+1,))\n",
    "mom_jacobian = np.zeros((num_time_steps+1, 4, 3))\n",
    "autos = np.zeros((num_time_steps+1,))\n",
    "accrs = np.zeros((num_time_steps+1,))\n",
    "rps = np.zeros((num_time_steps+1,))\n",
    "process_jacobian = np.zeros((num_time_steps+1, 3, 3))\n",
    "for i in range(num_time_steps+1):\n",
    "    y = ivp_out.y[:,i]\n",
    "    dfdt_val = dfdt(0., y[:num_bins], dls, kernel, sum_idxs, num_sum_bins)\n",
    "    mom0s[i], mom_jacobian[i,0,:] = calc_moment_and_gradient(y, dfdt_val, 0, m3_init, bin_bounds, dls,\n",
    "                                                             bin_midpoints, 1.e-6, 1.e-3)\n",
    "    mom3s[i], mom_jacobian[i,1,:] = calc_moment_and_gradient(y, dfdt_val, 3, m3_init, bin_bounds, dls,\n",
    "                                                             bin_midpoints, 1.e-6, 1.e-3)\n",
    "    mom6s[i], mom_jacobian[i,2,:] = calc_moment_and_gradient(y, dfdt_val, 6, m3_init, bin_bounds, dls,\n",
    "                                                             bin_midpoints, 1.e-6, 1.e-3)\n",
    "    mom9s[i], mom_jacobian[i,3,:] = calc_moment_and_gradient(y, dfdt_val, 9, m3_init, bin_bounds, dls,\n",
    "                                                             bin_midpoints, 1.e-6, 1.e-3)\n",
    "    proc_out = autoconversion_accretion_and_grads(y, dfdt_val, dls, kernel, sum_idxs, num_sum_bins,\n",
    "                                                  bin_midpoints, 1.e-4, m3_init, tscale)\n",
    "    autos[i], accrs[i], rps[i], process_jacobian[i,0,:], process_jacobian[i,1,:], process_jacobian[i,2,:] = proc_out"
   ]
  },
  {
   "cell_type": "code",
   "execution_count": null,
   "id": "e03fc735",
   "metadata": {
    "ExecuteTime": {
     "end_time": "2022-02-08T16:36:41.824745Z",
     "start_time": "2022-02-08T16:36:41.800391Z"
    }
   },
   "outputs": [],
   "source": [
    "fig = plt.figure(figsize=(5, 4))\n",
    "plt.plot(t_eval * tscale, mom0s)"
   ]
  },
  {
   "cell_type": "code",
   "execution_count": null,
   "id": "0fe3dd8e",
   "metadata": {
    "ExecuteTime": {
     "end_time": "2022-02-08T16:36:45.993634Z",
     "start_time": "2022-02-08T16:36:45.949483Z"
    }
   },
   "outputs": [],
   "source": [
    "fig = plt.figure(figsize=(5, 4))\n",
    "plt.plot(t_eval * tscale, mom3s)"
   ]
  },
  {
   "cell_type": "code",
   "execution_count": null,
   "id": "b357b442",
   "metadata": {
    "ExecuteTime": {
     "end_time": "2022-02-08T16:36:50.768200Z",
     "start_time": "2022-02-08T16:36:50.721105Z"
    }
   },
   "outputs": [],
   "source": [
    "fig = plt.figure(figsize=(5, 4))\n",
    "plt.plot(t_eval * tscale, mom6s)"
   ]
  },
  {
   "cell_type": "code",
   "execution_count": null,
   "id": "22872501",
   "metadata": {
    "ExecuteTime": {
     "end_time": "2022-02-08T16:36:53.556232Z",
     "start_time": "2022-02-08T16:36:53.506535Z"
    }
   },
   "outputs": [],
   "source": [
    "fig = plt.figure(figsize=(5, 4))\n",
    "plt.plot(t_eval * tscale, mom9s)"
   ]
  },
  {
   "cell_type": "code",
   "execution_count": null,
   "id": "51e0cd15",
   "metadata": {
    "ExecuteTime": {
     "end_time": "2022-02-08T16:36:58.518862Z",
     "start_time": "2022-02-08T16:36:58.476021Z"
    }
   },
   "outputs": [],
   "source": [
    "fig = plt.figure(figsize=(5, 4))\n",
    "plt.plot(t_eval * tscale, autos)"
   ]
  },
  {
   "cell_type": "code",
   "execution_count": null,
   "id": "a43fda5b",
   "metadata": {
    "ExecuteTime": {
     "end_time": "2022-02-08T16:37:02.281518Z",
     "start_time": "2022-02-08T16:37:02.171704Z"
    }
   },
   "outputs": [],
   "source": [
    "fig = plt.figure(figsize=(5, 4))\n",
    "plt.plot(t_eval * tscale, accrs)"
   ]
  },
  {
   "cell_type": "code",
   "execution_count": null,
   "id": "ec6b6c61",
   "metadata": {
    "ExecuteTime": {
     "end_time": "2022-02-08T16:37:04.923984Z",
     "start_time": "2022-02-08T16:37:04.874038Z"
    }
   },
   "outputs": [],
   "source": [
    "fig = plt.figure(figsize=(5, 4))\n",
    "plt.plot(t_eval * tscale, rps)"
   ]
  },
  {
   "cell_type": "code",
   "execution_count": null,
   "id": "2ed8f0e1",
   "metadata": {
    "ExecuteTime": {
     "end_time": "2022-02-08T16:37:07.887194Z",
     "start_time": "2022-02-08T16:37:07.866425Z"
    }
   },
   "outputs": [],
   "source": [
    "sigma_auto = np.zeros((num_time_steps+1,))\n",
    "sigma_accr = np.zeros((num_time_steps+1,))\n",
    "sigma_rp = np.zeros((num_time_steps+1,))\n",
    "for i in range(num_time_steps+1):\n",
    "    mom_inv = la.pinv(mom_jacobian[i,:,:])\n",
    "    pj = process_jacobian[i,:,:]\n",
    "    cov = pj @ mom_inv @ np.eye(4) @ mom_inv.T @ pj.T\n",
    "    sigma_auto[i] = np.sqrt(cov[0,0])\n",
    "    sigma_accr[i] = np.sqrt(cov[1,1])\n",
    "    sigma_rp[i] = np.sqrt(cov[2,2])"
   ]
  },
  {
   "cell_type": "code",
   "execution_count": null,
   "id": "ea7ce1f1",
   "metadata": {
    "ExecuteTime": {
     "end_time": "2022-02-08T16:37:15.051070Z",
     "start_time": "2022-02-08T16:37:15.008463Z"
    }
   },
   "outputs": [],
   "source": [
    "fig = plt.figure(figsize=(5, 4))\n",
    "plt.plot(t_eval * tscale, sigma_auto)\n",
    "plt.plot(t_eval * tscale, sigma_accr)\n",
    "plt.plot(t_eval * tscale, sigma_rp)\n",
    "for i in range(num_time_steps+1):\n",
    "    if autos[i] < accrs[i]:\n",
    "        time = t_eval[i] * tscale\n",
    "        break\n",
    "plt.vlines(time, 0., 30., 'k')\n",
    "for i in range(num_time_steps+1):\n",
    "    if autos[i] > 0.01 * autos.max():\n",
    "        time = t_eval[i] * tscale\n",
    "        break\n",
    "plt.vlines(time, 0., 30., 'r', linestyle='--')\n",
    "plt.ylim([0., 30.])"
   ]
  },
  {
   "cell_type": "code",
   "execution_count": null,
   "id": "4b845d49",
   "metadata": {
    "ExecuteTime": {
     "end_time": "2022-02-08T18:25:06.557836Z",
     "start_time": "2022-02-08T18:25:03.997381Z"
    }
   },
   "outputs": [],
   "source": [
    "momc0s = np.zeros((num_time_steps+1,))\n",
    "momc3s = np.zeros((num_time_steps+1,))\n",
    "momr0s = np.zeros((num_time_steps+1,))\n",
    "momr3s = np.zeros((num_time_steps+1,))\n",
    "mom_2cat_jacobian = np.zeros((num_time_steps+1, 4, 3))\n",
    "for i in range(num_time_steps+1):\n",
    "    y = ivp_out.y[:,i]\n",
    "    dfdt_val = dfdt(0., y[:num_bins], dls, kernel, sum_idxs, num_sum_bins)\n",
    "    momc0s[i], mom_2cat_jacobian[i,0,:] = calc_moment_and_gradient(y, dfdt_val, 0, m3_init, bin_bounds, dls,\n",
    "                                                                   bin_midpoints, 1.e-6, 1.e-4)\n",
    "    momc3s[i], mom_2cat_jacobian[i,1,:] = calc_moment_and_gradient(y, dfdt_val, 3, m3_init, bin_bounds, dls,\n",
    "                                                                   bin_midpoints, 1.e-6, 1.e-4)\n",
    "    momr0s[i], mom_2cat_jacobian[i,2,:] = calc_moment_and_gradient(y, dfdt_val, 0, m3_init, bin_bounds, dls,\n",
    "                                                                   bin_midpoints, 1.e-4, 1.e-3)\n",
    "    momr3s[i], mom_2cat_jacobian[i,3,:] = calc_moment_and_gradient(y, dfdt_val, 3, m3_init, bin_bounds, dls,\n",
    "                                                                   bin_midpoints, 1.e-4, 1.e-3)"
   ]
  },
  {
   "cell_type": "code",
   "execution_count": null,
   "id": "ffc63696",
   "metadata": {
    "ExecuteTime": {
     "end_time": "2022-02-08T16:37:23.399517Z",
     "start_time": "2022-02-08T16:37:23.356077Z"
    }
   },
   "outputs": [],
   "source": [
    "fig = plt.figure(figsize=(5, 4))\n",
    "plt.plot(t_eval * tscale, momc0s)"
   ]
  },
  {
   "cell_type": "code",
   "execution_count": null,
   "id": "1ca12041",
   "metadata": {
    "ExecuteTime": {
     "end_time": "2022-02-08T16:37:26.721397Z",
     "start_time": "2022-02-08T16:37:26.672592Z"
    }
   },
   "outputs": [],
   "source": [
    "fig = plt.figure(figsize=(5, 4))\n",
    "plt.plot(t_eval * tscale, momc3s)"
   ]
  },
  {
   "cell_type": "code",
   "execution_count": null,
   "id": "144d6c23",
   "metadata": {
    "ExecuteTime": {
     "end_time": "2022-02-08T16:37:30.096033Z",
     "start_time": "2022-02-08T16:37:30.049641Z"
    }
   },
   "outputs": [],
   "source": [
    "fig = plt.figure(figsize=(5, 4))\n",
    "plt.plot(t_eval * tscale, momr0s)"
   ]
  },
  {
   "cell_type": "code",
   "execution_count": null,
   "id": "f7d6b27d",
   "metadata": {
    "ExecuteTime": {
     "end_time": "2022-02-08T16:37:43.404236Z",
     "start_time": "2022-02-08T16:37:43.354569Z"
    }
   },
   "outputs": [],
   "source": [
    "fig = plt.figure(figsize=(5, 4))\n",
    "plt.plot(t_eval * tscale, momr3s)"
   ]
  },
  {
   "cell_type": "code",
   "execution_count": null,
   "id": "712e884c",
   "metadata": {
    "ExecuteTime": {
     "end_time": "2022-02-08T16:37:47.559068Z",
     "start_time": "2022-02-08T16:37:47.536591Z"
    }
   },
   "outputs": [],
   "source": [
    "sigma_auto_2cat = np.zeros((num_time_steps+1,))\n",
    "sigma_accr_2cat = np.zeros((num_time_steps+1,))\n",
    "sigma_rp_2cat = np.zeros((num_time_steps+1,))\n",
    "for i in range(num_time_steps+1):\n",
    "    mom_inv = la.pinv(mom_2cat_jacobian[i,:,:])\n",
    "    pj = process_jacobian[i,:,:]\n",
    "    cov = pj @ mom_inv @ np.eye(4) @ mom_inv.T @ pj.T\n",
    "    sigma_auto_2cat[i] = np.sqrt(cov[0,0])\n",
    "    sigma_accr_2cat[i] = np.sqrt(cov[1,1])\n",
    "    sigma_rp_2cat[i] = np.sqrt(cov[2,2])"
   ]
  },
  {
   "cell_type": "code",
   "execution_count": null,
   "id": "14ae9ab5",
   "metadata": {
    "ExecuteTime": {
     "end_time": "2022-02-08T16:37:48.177834Z",
     "start_time": "2022-02-08T16:37:48.120822Z"
    }
   },
   "outputs": [],
   "source": [
    "fig = plt.figure(figsize=(5, 4))\n",
    "plt.plot(t_eval * tscale, sigma_auto_2cat)\n",
    "plt.plot(t_eval * tscale, sigma_accr_2cat)\n",
    "plt.plot(t_eval * tscale, sigma_rp_2cat)\n",
    "for i in range(num_time_steps+1):\n",
    "    if autos[i] < accrs[i]:\n",
    "        time = t_eval[i] * tscale\n",
    "        break\n",
    "plt.vlines(time, 0., 30., 'k')\n",
    "for i in range(num_time_steps+1):\n",
    "    if autos[i] > 0.01 * autos.max():\n",
    "        time = t_eval[i] * tscale\n",
    "        break\n",
    "plt.vlines(time, 0., 30., 'r', linestyle='--')\n",
    "plt.ylim([0., 30.])"
   ]
  },
  {
   "cell_type": "code",
   "execution_count": null,
   "id": "198a798a",
   "metadata": {
    "ExecuteTime": {
     "end_time": "2022-02-08T16:37:54.234990Z",
     "start_time": "2022-02-08T16:37:51.428759Z"
    }
   },
   "outputs": [],
   "source": [
    "mom0s = np.zeros((num_time_steps+1,))\n",
    "mom3s = np.zeros((num_time_steps+1,))\n",
    "mom4s = np.zeros((num_time_steps+1,))\n",
    "mom5s = np.zeros((num_time_steps+1,))\n",
    "mom_small_jacobian = np.zeros((num_time_steps+1, 4, 3))\n",
    "for i in range(num_time_steps+1):\n",
    "    y = ivp_out.y[:,i]\n",
    "    dfdt_val = dfdt(0., y[:num_bins], dls, kernel, sum_idxs, num_sum_bins)\n",
    "    mom0s[i], mom_small_jacobian[i,0,:] = calc_moment_and_gradient(y, dfdt_val, 0, m3_init, bin_bounds, dls,\n",
    "                                                             bin_midpoints, 1.e-6, 1.e-3)\n",
    "    mom3s[i], mom_small_jacobian[i,1,:] = calc_moment_and_gradient(y, dfdt_val, 3, m3_init, bin_bounds, dls,\n",
    "                                                             bin_midpoints, 1.e-6, 1.e-3)\n",
    "    mom4s[i], mom_small_jacobian[i,2,:] = calc_moment_and_gradient(y, dfdt_val, 4, m3_init, bin_bounds, dls,\n",
    "                                                             bin_midpoints, 1.e-6, 1.e-3)\n",
    "    mom5s[i], mom_small_jacobian[i,3,:] = calc_moment_and_gradient(y, dfdt_val, 5, m3_init, bin_bounds, dls,\n",
    "                                                             bin_midpoints, 1.e-6, 1.e-3)"
   ]
  },
  {
   "cell_type": "code",
   "execution_count": null,
   "id": "1b671f0d",
   "metadata": {
    "ExecuteTime": {
     "end_time": "2022-02-08T16:37:54.267790Z",
     "start_time": "2022-02-08T16:37:54.241454Z"
    }
   },
   "outputs": [],
   "source": [
    "fig = plt.figure(figsize=(5, 4))\n",
    "plt.plot(t_eval * tscale, mom4s)"
   ]
  },
  {
   "cell_type": "code",
   "execution_count": null,
   "id": "12d5cb5e",
   "metadata": {
    "ExecuteTime": {
     "end_time": "2022-02-08T16:37:57.879201Z",
     "start_time": "2022-02-08T16:37:57.829738Z"
    }
   },
   "outputs": [],
   "source": [
    "fig = plt.figure(figsize=(5, 4))\n",
    "plt.plot(t_eval * tscale, mom5s)"
   ]
  },
  {
   "cell_type": "code",
   "execution_count": null,
   "id": "63b1e2b9",
   "metadata": {
    "ExecuteTime": {
     "end_time": "2022-02-08T16:38:01.146526Z",
     "start_time": "2022-02-08T16:38:01.126017Z"
    }
   },
   "outputs": [],
   "source": [
    "sigma_auto_small = np.zeros((num_time_steps+1,))\n",
    "sigma_accr_small = np.zeros((num_time_steps+1,))\n",
    "sigma_rp_small = np.zeros((num_time_steps+1,))\n",
    "for i in range(num_time_steps+1):\n",
    "    mom_inv = la.pinv(mom_small_jacobian[i,:,:])\n",
    "    pj = process_jacobian[i,:,:]\n",
    "    cov = pj @ mom_inv @ np.eye(4) @ mom_inv.T @ pj.T\n",
    "    sigma_auto_small[i] = np.sqrt(cov[0,0])\n",
    "    sigma_accr_small[i] = np.sqrt(cov[1,1])\n",
    "    sigma_rp_small[i] = np.sqrt(cov[2,2])"
   ]
  },
  {
   "cell_type": "code",
   "execution_count": null,
   "id": "65c9d673",
   "metadata": {
    "ExecuteTime": {
     "end_time": "2022-02-08T16:38:01.639743Z",
     "start_time": "2022-02-08T16:38:01.585027Z"
    }
   },
   "outputs": [],
   "source": [
    "fig = plt.figure(figsize=(5, 4))\n",
    "plt.plot(t_eval * tscale, sigma_auto_small)\n",
    "plt.plot(t_eval * tscale, sigma_accr_small)\n",
    "plt.plot(t_eval * tscale, sigma_rp_small)\n",
    "for i in range(num_time_steps+1):\n",
    "    if autos[i] < accrs[i]:\n",
    "        time = t_eval[i] * tscale\n",
    "        break\n",
    "plt.vlines(time, 0., 30., 'k')\n",
    "for i in range(num_time_steps+1):\n",
    "    if autos[i] > 0.01 * autos.max():\n",
    "        time = t_eval[i] * tscale\n",
    "        break\n",
    "plt.vlines(time, 0., 30., 'r', linestyle='--')\n",
    "plt.ylim([0., 30.])"
   ]
  },
  {
   "cell_type": "code",
   "execution_count": null,
   "id": "ff432c89",
   "metadata": {
    "ExecuteTime": {
     "end_time": "2022-02-08T18:03:03.291994Z",
     "start_time": "2022-02-08T18:03:00.710370Z"
    }
   },
   "outputs": [],
   "source": [
    "mom_6_jacobian = np.zeros((num_time_steps+1, 6, 3))\n",
    "mom_6_jacobian[:,0,:] = mom_small_jacobian[:,0,:]\n",
    "mom_6_jacobian[:,3:,:] = mom_small_jacobian[:,1:,:]\n",
    "mom1s = np.zeros((num_time_steps+1,))\n",
    "mom2s = np.zeros((num_time_steps+1,))\n",
    "for i in range(num_time_steps+1):\n",
    "    y = ivp_out.y[:,i]\n",
    "    dfdt_val = dfdt(0., y[:num_bins], dls, kernel, sum_idxs, num_sum_bins)\n",
    "    mom1s[i], mom_6_jacobian[i,1,:] = calc_moment_and_gradient(y, dfdt_val, 1, m3_init, bin_bounds, dls,\n",
    "                                                             bin_midpoints, 1.e-6, 1.e-3)\n",
    "    mom2s[i], mom_6_jacobian[i,2,:] = calc_moment_and_gradient(y, dfdt_val, 2, m3_init, bin_bounds, dls,\n",
    "                                                             bin_midpoints, 1.e-6, 1.e-3)"
   ]
  },
  {
   "cell_type": "code",
   "execution_count": null,
   "id": "c0491436",
   "metadata": {
    "ExecuteTime": {
     "end_time": "2022-02-08T18:03:11.602740Z",
     "start_time": "2022-02-08T18:03:11.578915Z"
    }
   },
   "outputs": [],
   "source": [
    "sigma_auto_6 = np.zeros((num_time_steps+1,))\n",
    "sigma_accr_6 = np.zeros((num_time_steps+1,))\n",
    "sigma_rp_6 = np.zeros((num_time_steps+1,))\n",
    "for i in range(num_time_steps+1):\n",
    "    mom_inv = la.pinv(mom_6_jacobian[i,:,:])\n",
    "    pj = process_jacobian[i,:,:]\n",
    "    cov = pj @ mom_inv @ np.eye(6) @ mom_inv.T @ pj.T\n",
    "    sigma_auto_6[i] = np.sqrt(cov[0,0])\n",
    "    sigma_accr_6[i] = np.sqrt(cov[1,1])\n",
    "    sigma_rp_6[i] = np.sqrt(cov[2,2])"
   ]
  },
  {
   "cell_type": "code",
   "execution_count": null,
   "id": "d7cac60d",
   "metadata": {
    "ExecuteTime": {
     "end_time": "2022-02-08T18:03:12.142916Z",
     "start_time": "2022-02-08T18:03:12.080189Z"
    }
   },
   "outputs": [],
   "source": [
    "fig = plt.figure(figsize=(5, 4))\n",
    "plt.plot(t_eval * tscale, sigma_auto_6)\n",
    "plt.plot(t_eval * tscale, sigma_accr_6)\n",
    "plt.plot(t_eval * tscale, sigma_rp_6)\n",
    "for i in range(num_time_steps+1):\n",
    "    if autos[i] < accrs[i]:\n",
    "        time = t_eval[i] * tscale\n",
    "        break\n",
    "plt.vlines(time, 0., 30., 'k')\n",
    "for i in range(num_time_steps+1):\n",
    "    if autos[i] > 0.01 * autos.max():\n",
    "        time = t_eval[i] * tscale\n",
    "        break\n",
    "plt.vlines(time, 0., 30., 'r', linestyle='--')\n",
    "plt.ylim([0., 30.])"
   ]
  },
  {
   "cell_type": "code",
   "execution_count": null,
   "id": "1fcd4a04",
   "metadata": {
    "ExecuteTime": {
     "end_time": "2022-02-08T16:38:11.975908Z",
     "start_time": "2022-02-08T16:38:11.955081Z"
    }
   },
   "outputs": [],
   "source": [
    "def moment_rate_and_grad(n, y, dfdt_val, dls, kernel, sum_idxs, num_sum_bins,\n",
    "                         bin_midpoints, min_d, max_d, m3, tscale):\n",
    "    num_bins = len(bin_midpoints)\n",
    "    min_idx = find_bin(bin_midpoints, np.log(diameter_to_scaled_mass(min_d)), check_bottom=False) + 1\n",
    "    max_idx = find_bin(bin_midpoints, np.log(diameter_to_scaled_mass(max_d)), check_bottom=False)\n",
    "    if max_idx == -1:\n",
    "        max_idx = num_bins-1\n",
    "    bin_midpoints_d = np.array([scaled_mass_to_diameter(np.exp(p)) for p in bin_midpoints])\n",
    "    d_pow = bin_midpoints_d**(n-3)\n",
    "    f = y[:num_bins,None]\n",
    "    dfdlam = y[num_bins:2*num_bins,None]\n",
    "    dfdnu = y[2*num_bins:,None]\n",
    "    if len(dfdt_val.shape) == 1:\n",
    "        dfdt_val = dfdt_val[:,None]\n",
    "    f_outer = np.dot(f, np.transpose(f))\n",
    "    doutdt = np.dot(f, np.transpose(dfdt_val))\n",
    "    doutdt += np.transpose(doutdt)\n",
    "    doutdlam = np.dot(f, np.transpose(dfdlam))\n",
    "    doutdlam += np.transpose(doutdlam)\n",
    "    doutdnu = np.dot(f, np.transpose(dfdnu))\n",
    "    doutdnu += np.transpose(doutdnu)\n",
    "    rate = 0.\n",
    "    grad = np.zeros((3,))\n",
    "    for i in range(num_bins):\n",
    "        if i > max_idx:\n",
    "            break\n",
    "        for j in range(num_bins):\n",
    "            idx = sum_idxs[i,j]\n",
    "            fprod = f_outer[i,j]\n",
    "            dpdt = doutdt[i,j]\n",
    "            dpdlam = doutdlam[i,j]\n",
    "            dpdnu = doutdnu[i,j]\n",
    "            for k in range(num_sum_bins[i,j]):\n",
    "                dfdt_term = fprod * kernel[i,j,k]\n",
    "                dtermdt = dpdt * kernel[i,j,k]\n",
    "                dtermdlam = dpdlam * kernel[i,j,k]\n",
    "                dtermdnu = dpdnu * kernel[i,j,k]\n",
    "                if i >= min_idx:\n",
    "                    rate -= d_pow[i] * dfdt_term\n",
    "                    grad[0] -= d_pow[i] * dtermdt\n",
    "                    grad[1] -= d_pow[i] * dtermdlam\n",
    "                    grad[2] -= d_pow[i] * dtermdnu\n",
    "                if min_idx <= idx+k <= max_idx:\n",
    "                    rate += d_pow[idx+k] * dfdt_term\n",
    "                    grad[0] += d_pow[idx+k] * dtermdt\n",
    "                    grad[1] += d_pow[idx+k] * dtermdlam\n",
    "                    grad[2] += d_pow[idx+k] * dtermdnu\n",
    "    rate *= m3 / tscale\n",
    "    grad *= m3 / tscale\n",
    "    return rate, grad / rate"
   ]
  },
  {
   "cell_type": "code",
   "execution_count": null,
   "id": "4a53692d",
   "metadata": {
    "ExecuteTime": {
     "end_time": "2022-02-08T16:39:02.654986Z",
     "start_time": "2022-02-08T16:38:14.627388Z"
    }
   },
   "outputs": [],
   "source": [
    "mom0_rates = np.zeros((num_time_steps+1,))\n",
    "mom3_rates = np.zeros((num_time_steps+1,))\n",
    "mom6_rates = np.zeros((num_time_steps+1,))\n",
    "mom9_rates = np.zeros((num_time_steps+1,))\n",
    "process_mom_jacobian = np.zeros((num_time_steps+1, 4, 3))\n",
    "for i in range(num_time_steps+1):\n",
    "    y = ivp_out.y[:,i]\n",
    "    dfdt_val = dfdt(0., y[:num_bins], dls, kernel, sum_idxs, num_sum_bins)\n",
    "    rate_out = moment_rate_and_grad(0, y, dfdt_val, dls, kernel, sum_idxs, num_sum_bins,\n",
    "                                    bin_midpoints, 1.e-6, 1.e-3, m3_init, tscale)\n",
    "    mom0_rates[i], process_mom_jacobian[i,0,:] = rate_out\n",
    "    rate_out = moment_rate_and_grad(3, y, dfdt_val, dls, kernel, sum_idxs, num_sum_bins,\n",
    "                                    bin_midpoints, 1.e-6, 1.e-3, m3_init, tscale)\n",
    "    mom3_rates[i], process_mom_jacobian[i,1,:] = rate_out\n",
    "    rate_out = moment_rate_and_grad(6, y, dfdt_val, dls, kernel, sum_idxs, num_sum_bins,\n",
    "                                    bin_midpoints, 1.e-6, 1.e-3, m3_init, tscale)\n",
    "    mom6_rates[i], process_mom_jacobian[i,2,:] = rate_out\n",
    "    rate_out = moment_rate_and_grad(9, y, dfdt_val, dls, kernel, sum_idxs, num_sum_bins,\n",
    "                                    bin_midpoints, 1.e-6, 1.e-3, m3_init, tscale)\n",
    "    mom9_rates[i], process_mom_jacobian[i,3,:] = rate_out"
   ]
  },
  {
   "cell_type": "code",
   "execution_count": null,
   "id": "8d3b7db3",
   "metadata": {
    "ExecuteTime": {
     "end_time": "2022-02-08T16:39:02.704029Z",
     "start_time": "2022-02-08T16:39:02.678107Z"
    }
   },
   "outputs": [],
   "source": [
    "fig = plt.figure(figsize=(5, 4))\n",
    "plt.plot(t_eval * tscale, mom9_rates)"
   ]
  },
  {
   "cell_type": "code",
   "execution_count": null,
   "id": "cd40d997",
   "metadata": {
    "ExecuteTime": {
     "end_time": "2022-02-08T17:29:23.992438Z",
     "start_time": "2022-02-08T17:29:23.962513Z"
    }
   },
   "outputs": [],
   "source": [
    "sigma_mom0_rate = np.zeros((num_time_steps+1,))\n",
    "sigma_mom3_rate = np.zeros((num_time_steps+1,))\n",
    "sigma_mom6_rate = np.zeros((num_time_steps+1,))\n",
    "sigma_mom9_rate = np.zeros((num_time_steps+1,))\n",
    "for i in range(num_time_steps+1):\n",
    "    mom_inv = la.pinv(mom_jacobian[i,:,:])\n",
    "    pj = process_mom_jacobian[i,:,:]\n",
    "    pj[0,:] = mom0_rates[i] / mom0s[i] * (pj[0,:] - mom_jacobian[i,0,:])\n",
    "    pj[1,:] = mom3_rates[i] / mom3s[i] * (pj[1,:] - mom_jacobian[i,1,:])\n",
    "    pj[2,:] = mom6_rates[i] / mom6s[i] * (pj[2,:] - mom_jacobian[i,2,:])\n",
    "    pj[3,:] = mom9_rates[i] / mom9s[i] * (pj[3,:] - mom_jacobian[i,3,:])\n",
    "    cov = pj @ mom_inv @ np.eye(4) @ mom_inv.T @ pj.T\n",
    "    sigma_mom0_rate[i] = np.sqrt(cov[0,0])\n",
    "    sigma_mom3_rate[i] = np.sqrt(cov[1,1])\n",
    "    sigma_mom6_rate[i] = np.sqrt(cov[2,2])\n",
    "    sigma_mom9_rate[i] = np.sqrt(cov[3,3])"
   ]
  },
  {
   "cell_type": "code",
   "execution_count": null,
   "id": "423f4a62",
   "metadata": {
    "ExecuteTime": {
     "end_time": "2022-02-08T17:36:00.925921Z",
     "start_time": "2022-02-08T17:36:00.792906Z"
    }
   },
   "outputs": [],
   "source": [
    "fig = plt.figure(figsize=(5, 4))\n",
    "plt.plot(t_eval * tscale, sigma_mom0_rate, label=\"M0\")\n",
    "#plt.plot(t_eval * tscale, sigma_mom3_rate)\n",
    "plt.plot(t_eval * tscale, sigma_mom6_rate, label=\"M6\")\n",
    "plt.plot(t_eval * tscale, sigma_mom9_rate, label=\"M9\")\n",
    "ymax = 0.1\n",
    "for i in range(num_time_steps+1):\n",
    "    if autos[i] < accrs[i]:\n",
    "        time = t_eval[i] * tscale\n",
    "        break\n",
    "plt.vlines(time, 0., ymax, 'k', label='Accr > Auto')\n",
    "for i in range(num_time_steps+1):\n",
    "    if autos[i] > 0.01 * autos.max():\n",
    "        time = t_eval[i] * tscale\n",
    "        break\n",
    "plt.vlines(time, 0., ymax, 'r', linestyle='--', label='Auto at 1% max')\n",
    "plt.ylim([0., ymax])\n",
    "plt.legend(loc='best')\n",
    "plt.savefig('m0369_predictability.png')"
   ]
  },
  {
   "cell_type": "code",
   "execution_count": null,
   "id": "3f0dec8f",
   "metadata": {
    "ExecuteTime": {
     "end_time": "2022-02-08T16:40:06.121186Z",
     "start_time": "2022-02-08T16:39:40.768021Z"
    }
   },
   "outputs": [],
   "source": [
    "mom4_rates = np.zeros((num_time_steps+1,))\n",
    "mom5_rates = np.zeros((num_time_steps+1,))\n",
    "process_small_jacobian = np.zeros((num_time_steps+1, 4, 3))\n",
    "process_small_jacobian[:,:2,:] = process_mom_jacobian[:,:2,:]\n",
    "for i in range(num_time_steps+1):\n",
    "    y = ivp_out.y[:,i]\n",
    "    dfdt_val = dfdt(0., y[:num_bins], dls, kernel, sum_idxs, num_sum_bins)\n",
    "    rate_out = moment_rate_and_grad(4, y, dfdt_val, dls, kernel, sum_idxs, num_sum_bins,\n",
    "                                    bin_midpoints, 1.e-6, 1.e-3, m3_init, tscale)\n",
    "    mom4_rates[i], process_small_jacobian[i,2,:] = rate_out\n",
    "    rate_out = moment_rate_and_grad(5, y, dfdt_val, dls, kernel, sum_idxs, num_sum_bins,\n",
    "                                    bin_midpoints, 1.e-6, 1.e-3, m3_init, tscale)\n",
    "    mom5_rates[i], process_small_jacobian[i,3,:] = rate_out"
   ]
  },
  {
   "cell_type": "code",
   "execution_count": null,
   "id": "ab0cb5ea",
   "metadata": {
    "ExecuteTime": {
     "end_time": "2022-02-08T17:29:00.168598Z",
     "start_time": "2022-02-08T17:29:00.137416Z"
    }
   },
   "outputs": [],
   "source": [
    "sigma_small_mom0_rate = np.zeros((num_time_steps+1,))\n",
    "sigma_small_mom3_rate = np.zeros((num_time_steps+1,))\n",
    "sigma_small_mom4_rate = np.zeros((num_time_steps+1,))\n",
    "sigma_small_mom5_rate = np.zeros((num_time_steps+1,))\n",
    "for i in range(num_time_steps+1):\n",
    "    mom_inv = la.pinv(mom_small_jacobian[i,:,:])\n",
    "    pj = process_small_jacobian[i,:,:]\n",
    "    pj[0,:] = mom0_rates[i] / mom0s[i] * (pj[0,:] - mom_small_jacobian[i,0,:])\n",
    "    pj[1,:] = mom3_rates[i] / mom3s[i] * (pj[1,:] - mom_small_jacobian[i,1,:])\n",
    "    pj[2,:] = mom4_rates[i] / mom4s[i] * (pj[2,:] - mom_small_jacobian[i,2,:])\n",
    "    pj[3,:] = mom5_rates[i] / mom5s[i] * (pj[3,:] - mom_small_jacobian[i,3,:])\n",
    "    cov = pj @ mom_inv @ np.eye(4) @ mom_inv.T @ pj.T\n",
    "    sigma_small_mom0_rate[i] = np.sqrt(cov[0,0])\n",
    "    sigma_small_mom3_rate[i] = np.sqrt(cov[1,1])\n",
    "    sigma_small_mom4_rate[i] = np.sqrt(cov[2,2])\n",
    "    sigma_small_mom5_rate[i] = np.sqrt(cov[3,3])"
   ]
  },
  {
   "cell_type": "code",
   "execution_count": null,
   "id": "a14e2edd",
   "metadata": {
    "ExecuteTime": {
     "end_time": "2022-02-08T17:36:22.614293Z",
     "start_time": "2022-02-08T17:36:22.483653Z"
    }
   },
   "outputs": [],
   "source": [
    "fig = plt.figure(figsize=(5, 4))\n",
    "plt.plot(t_eval * tscale, sigma_small_mom0_rate, label=\"M0\")\n",
    "#plt.plot(t_eval * tscale, sigma_small_mom3_rate)\n",
    "plt.plot(t_eval * tscale, sigma_small_mom4_rate, label=\"M4\")\n",
    "plt.plot(t_eval * tscale, sigma_small_mom5_rate, label=\"M5\")\n",
    "ymax = 0.1\n",
    "for i in range(num_time_steps+1):\n",
    "    if autos[i] < accrs[i]:\n",
    "        time = t_eval[i] * tscale\n",
    "        break\n",
    "plt.vlines(time, 0., ymax, 'k', label='Accr > Auto')\n",
    "for i in range(num_time_steps+1):\n",
    "    if autos[i] > 0.01 * autos.max():\n",
    "        time = t_eval[i] * tscale\n",
    "        break\n",
    "plt.vlines(time, 0., ymax, 'r', linestyle='--', label='Auto at 1% max')\n",
    "plt.ylim([0., ymax])\n",
    "plt.legend(loc='best')\n",
    "plt.savefig('m0345_predictability.png')"
   ]
  },
  {
   "cell_type": "code",
   "execution_count": null,
   "id": "6913fb1b",
   "metadata": {
    "ExecuteTime": {
     "end_time": "2022-02-08T16:40:49.453501Z",
     "start_time": "2022-02-08T16:40:49.404548Z"
    }
   },
   "outputs": [],
   "source": [
    "fig = plt.figure(figsize=(5, 4))\n",
    "ax = fig.gca()\n",
    "ax.plot(t_eval * tscale, 10.*np.log10(mom5s), 'k')\n",
    "ax.plot(t_eval * tscale, 10.*np.log10(mom5_rates), 'r--')"
   ]
  },
  {
   "cell_type": "code",
   "execution_count": null,
   "id": "c69d3628",
   "metadata": {
    "ExecuteTime": {
     "end_time": "2022-02-08T16:40:52.680336Z",
     "start_time": "2022-02-08T16:40:52.629440Z"
    }
   },
   "outputs": [],
   "source": [
    "fig = plt.figure(figsize=(5, 4))\n",
    "ax = fig.gca()\n",
    "ax.plot(t_eval * tscale, 10.*np.log10(mom9s), 'k')\n",
    "ax.plot(t_eval * tscale, 10.*np.log10(mom9_rates), 'r--')"
   ]
  },
  {
   "cell_type": "code",
   "execution_count": null,
   "id": "f4aa4d27",
   "metadata": {
    "ExecuteTime": {
     "end_time": "2022-02-08T16:41:25.304143Z",
     "start_time": "2022-02-08T16:40:55.744199Z"
    }
   },
   "outputs": [],
   "source": [
    "momc0_rates = np.zeros((num_time_steps+1,))\n",
    "momc3_rates = np.zeros((num_time_steps+1,))\n",
    "momr0_rates = np.zeros((num_time_steps+1,))\n",
    "momr3_rates = np.zeros((num_time_steps+1,))\n",
    "process_2cat_jacobian = np.zeros((num_time_steps+1, 4, 3))\n",
    "for i in range(num_time_steps+1):\n",
    "    y = ivp_out.y[:,i]\n",
    "    dfdt_val = dfdt(0., y[:num_bins], dls, kernel, sum_idxs, num_sum_bins)\n",
    "    rate_out = moment_rate_and_grad(0, y, dfdt_val, dls, kernel, sum_idxs, num_sum_bins,\n",
    "                                    bin_midpoints, 1.e-6, 1.e-4, m3_init, tscale)\n",
    "    momc0_rates[i], process_2cat_jacobian[i,0,:] = rate_out\n",
    "    rate_out = moment_rate_and_grad(3, y, dfdt_val, dls, kernel, sum_idxs, num_sum_bins,\n",
    "                                    bin_midpoints, 1.e-6, 1.e-4, m3_init, tscale)\n",
    "    momc3_rates[i], process_2cat_jacobian[i,1,:] = rate_out\n",
    "    rate_out = moment_rate_and_grad(0, y, dfdt_val, dls, kernel, sum_idxs, num_sum_bins,\n",
    "                                    bin_midpoints, 1.e-4, 1.e-3, m3_init, tscale)\n",
    "    momr0_rates[i], process_2cat_jacobian[i,2,:] = rate_out\n",
    "    rate_out = moment_rate_and_grad(3, y, dfdt_val, dls, kernel, sum_idxs, num_sum_bins,\n",
    "                                    bin_midpoints, 1.e-4, 1.e-3, m3_init, tscale)\n",
    "    momr3_rates[i], process_2cat_jacobian[i,3,:] = rate_out"
   ]
  },
  {
   "cell_type": "code",
   "execution_count": null,
   "id": "1f84cd5c",
   "metadata": {
    "ExecuteTime": {
     "end_time": "2022-02-08T16:41:25.309863Z",
     "start_time": "2022-02-08T16:41:25.305895Z"
    }
   },
   "outputs": [],
   "source": [
    "(momr3s[46]-momr3s[45])/(dt)"
   ]
  },
  {
   "cell_type": "code",
   "execution_count": null,
   "id": "7c28ff8d",
   "metadata": {
    "ExecuteTime": {
     "end_time": "2022-02-08T16:41:25.323729Z",
     "start_time": "2022-02-08T16:41:25.310861Z"
    }
   },
   "outputs": [],
   "source": [
    "print(rps[45])"
   ]
  },
  {
   "cell_type": "code",
   "execution_count": null,
   "id": "ec7fc142",
   "metadata": {
    "ExecuteTime": {
     "end_time": "2022-02-08T16:41:25.332489Z",
     "start_time": "2022-02-08T16:41:25.325464Z"
    }
   },
   "outputs": [],
   "source": [
    "print(mom_2cat_jacobian[45,3,0]*momr3s[45]/tscale)"
   ]
  },
  {
   "cell_type": "code",
   "execution_count": null,
   "id": "8c0472c8",
   "metadata": {
    "ExecuteTime": {
     "end_time": "2022-02-08T16:41:25.341092Z",
     "start_time": "2022-02-08T16:41:25.333656Z"
    }
   },
   "outputs": [],
   "source": [
    "print(momr3_rates[45])"
   ]
  },
  {
   "cell_type": "code",
   "execution_count": null,
   "id": "90c38aa5",
   "metadata": {
    "ExecuteTime": {
     "end_time": "2022-02-08T17:30:44.270467Z",
     "start_time": "2022-02-08T17:30:44.238897Z"
    }
   },
   "outputs": [],
   "source": [
    "sigma_2cat_momc0_rate = np.zeros((num_time_steps+1,))\n",
    "sigma_2cat_momc3_rate = np.zeros((num_time_steps+1,))\n",
    "sigma_2cat_momr0_rate = np.zeros((num_time_steps+1,))\n",
    "sigma_2cat_momr3_rate = np.zeros((num_time_steps+1,))\n",
    "for i in range(num_time_steps+1):\n",
    "    mom_inv = la.pinv(mom_2cat_jacobian[i,:,:])\n",
    "    pj = process_2cat_jacobian[i,:,:]\n",
    "    pj[0,:] = momc0_rates[i] / momc0s[i] * (pj[0,:] - mom_2cat_jacobian[i,0,:])\n",
    "    pj[1,:] = momc3_rates[i] / momc3s[i] * (pj[1,:] - mom_2cat_jacobian[i,1,:])\n",
    "    pj[2,:] = momr0_rates[i] / momr0s[i] * (pj[2,:] - mom_2cat_jacobian[i,2,:])\n",
    "    pj[3,:] = momr3_rates[i] / momr3s[i] * (pj[3,:] - mom_2cat_jacobian[i,3,:])\n",
    "    cov = pj @ mom_inv @ np.eye(4) @ mom_inv.T @ pj.T\n",
    "    sigma_2cat_momc0_rate[i] = np.sqrt(cov[0,0])\n",
    "    sigma_2cat_momc3_rate[i] = np.sqrt(cov[1,1])\n",
    "    sigma_2cat_momr0_rate[i] = np.sqrt(cov[2,2])\n",
    "    sigma_2cat_momr3_rate[i] = np.sqrt(cov[3,3])"
   ]
  },
  {
   "cell_type": "code",
   "execution_count": null,
   "id": "e1524cab",
   "metadata": {
    "ExecuteTime": {
     "end_time": "2022-02-08T18:28:07.238651Z",
     "start_time": "2022-02-08T18:28:07.106395Z"
    }
   },
   "outputs": [],
   "source": [
    "fig = plt.figure(figsize=(5, 4))\n",
    "plt.plot(t_eval * tscale, sigma_2cat_momc0_rate, label=\"Cloud M0\")\n",
    "#plt.plot(t_eval * tscale, sigma_2cat_momc3_rate)\n",
    "plt.plot(t_eval * tscale, sigma_2cat_momr0_rate, label=\"Rain M0\")\n",
    "plt.plot(t_eval * tscale, sigma_2cat_momr3_rate, label=\"Rain M3\")\n",
    "ymax = 0.1\n",
    "for i in range(num_time_steps+1):\n",
    "    if autos[i] < accrs[i]:\n",
    "        time = t_eval[i] * tscale\n",
    "        break\n",
    "plt.vlines(time, 0., ymax, 'k', label='Accr > Auto')\n",
    "for i in range(num_time_steps+1):\n",
    "    if autos[i] > 0.01 * autos.max():\n",
    "        time = t_eval[i] * tscale\n",
    "        break\n",
    "plt.vlines(time, 0., ymax, 'r', linestyle='--', label='Auto at 1% max')\n",
    "plt.ylim([0., ymax])\n",
    "plt.legend(loc='best')\n",
    "plt.savefig('cm03_rm03_predictability.png')"
   ]
  },
  {
   "cell_type": "code",
   "execution_count": null,
   "id": "765f42b6",
   "metadata": {
    "ExecuteTime": {
     "end_time": "2022-02-08T18:05:17.449705Z",
     "start_time": "2022-02-08T18:04:51.916981Z"
    }
   },
   "outputs": [],
   "source": [
    "process_6_jacobian = np.zeros((num_time_steps+1, 6, 3))\n",
    "process_6_jacobian[:,0,:] = process_small_jacobian[:,0,:]\n",
    "process_6_jacobian[:,3:,:] = process_small_jacobian[:,1:,:]\n",
    "mom1_rates = np.zeros((num_time_steps+1,))\n",
    "mom2_rates = np.zeros((num_time_steps+1,))\n",
    "for i in range(num_time_steps+1):\n",
    "    y = ivp_out.y[:,i]\n",
    "    dfdt_val = dfdt(0., y[:num_bins], dls, kernel, sum_idxs, num_sum_bins)\n",
    "    rate_out = moment_rate_and_grad(1, y, dfdt_val, dls, kernel, sum_idxs, num_sum_bins,\n",
    "                                    bin_midpoints, 1.e-6, 1.e-3, m3_init, tscale)\n",
    "    mom1_rates[i], process_small_jacobian[i,1,:] = rate_out\n",
    "    rate_out = moment_rate_and_grad(2, y, dfdt_val, dls, kernel, sum_idxs, num_sum_bins,\n",
    "                                    bin_midpoints, 1.e-6, 1.e-3, m3_init, tscale)\n",
    "    mom2_rates[i], process_small_jacobian[i,2,:] = rate_out"
   ]
  },
  {
   "cell_type": "code",
   "execution_count": null,
   "id": "644cdda3",
   "metadata": {
    "ExecuteTime": {
     "end_time": "2022-02-08T18:06:47.517198Z",
     "start_time": "2022-02-08T18:06:47.480703Z"
    }
   },
   "outputs": [],
   "source": [
    "sigma_6_mom0_rate = np.zeros((num_time_steps+1,))\n",
    "sigma_6_mom1_rate = np.zeros((num_time_steps+1,))\n",
    "sigma_6_mom2_rate = np.zeros((num_time_steps+1,))\n",
    "sigma_6_mom3_rate = np.zeros((num_time_steps+1,))\n",
    "sigma_6_mom4_rate = np.zeros((num_time_steps+1,))\n",
    "sigma_6_mom5_rate = np.zeros((num_time_steps+1,))\n",
    "for i in range(num_time_steps+1):\n",
    "    mom_inv = la.pinv(mom_6_jacobian[i,:,:])\n",
    "    pj = process_6_jacobian[i,:,:]\n",
    "    pj[0,:] = mom0_rates[i] / mom0s[i] * (pj[0,:] - mom_6_jacobian[i,0,:])\n",
    "    pj[1,:] = mom1_rates[i] / mom1s[i] * (pj[1,:] - mom_6_jacobian[i,1,:])\n",
    "    pj[2,:] = mom2_rates[i] / mom2s[i] * (pj[2,:] - mom_6_jacobian[i,2,:])\n",
    "    pj[3,:] = mom3_rates[i] / mom3s[i] * (pj[3,:] - mom_6_jacobian[i,3,:])\n",
    "    pj[4,:] = mom4_rates[i] / mom4s[i] * (pj[4,:] - mom_6_jacobian[i,4,:])\n",
    "    pj[5,:] = mom5_rates[i] / mom5s[i] * (pj[5,:] - mom_6_jacobian[i,5,:])\n",
    "    cov = pj @ mom_inv @ np.eye(6) @ mom_inv.T @ pj.T\n",
    "    sigma_6_mom0_rate[i] = np.sqrt(cov[0,0])\n",
    "    sigma_6_mom1_rate[i] = np.sqrt(cov[1,1])\n",
    "    sigma_6_mom2_rate[i] = np.sqrt(cov[2,2])\n",
    "    sigma_6_mom3_rate[i] = np.sqrt(cov[3,3])\n",
    "    sigma_6_mom4_rate[i] = np.sqrt(cov[4,4])\n",
    "    sigma_6_mom5_rate[i] = np.sqrt(cov[5,5])"
   ]
  },
  {
   "cell_type": "code",
   "execution_count": null,
   "id": "ed59c0dc",
   "metadata": {
    "ExecuteTime": {
     "end_time": "2022-02-08T18:07:39.181607Z",
     "start_time": "2022-02-08T18:07:39.025022Z"
    }
   },
   "outputs": [],
   "source": [
    "fig = plt.figure(figsize=(5, 4))\n",
    "plt.plot(t_eval * tscale, sigma_6_mom0_rate, label=\"M0\")\n",
    "plt.plot(t_eval * tscale, sigma_6_mom1_rate, label=\"M1\")\n",
    "plt.plot(t_eval * tscale, sigma_6_mom2_rate, label=\"M2\")\n",
    "plt.plot(t_eval * tscale, sigma_6_mom4_rate, label=\"M4\")\n",
    "plt.plot(t_eval * tscale, sigma_6_mom5_rate, label=\"M5\")\n",
    "ymax = 0.1\n",
    "for i in range(num_time_steps+1):\n",
    "    if autos[i] < accrs[i]:\n",
    "        time = t_eval[i] * tscale\n",
    "        break\n",
    "plt.vlines(time, 0., ymax, 'k', label='Accr > Auto')\n",
    "for i in range(num_time_steps+1):\n",
    "    if autos[i] > 0.01 * autos.max():\n",
    "        time = t_eval[i] * tscale\n",
    "        break\n",
    "plt.vlines(time, 0., ymax, 'r', linestyle='--', label='Auto at 1% max')\n",
    "plt.ylim([0., ymax])\n",
    "plt.legend(loc='best')\n",
    "plt.savefig('m012345_predictability.png')"
   ]
  },
  {
   "cell_type": "code",
   "execution_count": null,
   "id": "c21b73ca",
   "metadata": {
    "ExecuteTime": {
     "end_time": "2022-02-08T19:48:45.570001Z",
     "start_time": "2022-02-08T19:48:43.040739Z"
    }
   },
   "outputs": [],
   "source": [
    "momc6s = np.zeros((num_time_steps+1,))\n",
    "momr6s = np.zeros((num_time_steps+1,))\n",
    "mom_2cat_3m_jacobian = np.zeros((num_time_steps+1, 6, 3))\n",
    "mom_2cat_3m_jacobian[:,:2,:] = mom_2cat_jacobian[:,:2,:]\n",
    "mom_2cat_3m_jacobian[:,3:5,:] = mom_2cat_jacobian[:,2:,:]\n",
    "for i in range(num_time_steps+1):\n",
    "    y = ivp_out.y[:,i]\n",
    "    dfdt_val = dfdt(0., y[:num_bins], dls, kernel, sum_idxs, num_sum_bins)\n",
    "    mom_out = calc_moment_and_gradient(y, dfdt_val, 6, m3_init, bin_bounds, dls,\n",
    "                                       bin_midpoints, 1.e-6, 1.e-4)\n",
    "    momc6s[i], mom_2cat_3m_jacobian[i,2,:] = mom_out\n",
    "    mom_out = calc_moment_and_gradient(y, dfdt_val, 6, m3_init, bin_bounds, dls,\n",
    "                                       bin_midpoints, 1.e-4, 1.e-3)\n",
    "    momr6s[i], mom_2cat_3m_jacobian[i,5,:] = mom_out"
   ]
  },
  {
   "cell_type": "code",
   "execution_count": null,
   "id": "f6e50241",
   "metadata": {
    "ExecuteTime": {
     "end_time": "2022-02-08T18:21:41.458582Z",
     "start_time": "2022-02-08T18:21:25.472780Z"
    }
   },
   "outputs": [],
   "source": [
    "momc6_rates = np.zeros((num_time_steps+1,))\n",
    "momr6_rates = np.zeros((num_time_steps+1,))\n",
    "process_2cat_3m_jacobian = np.zeros((num_time_steps+1, 6, 3))\n",
    "process_2cat_3m_jacobian[:,:2,:] = process_2cat_jacobian[:,:2,:]\n",
    "process_2cat_3m_jacobian[:,3:5,:] = process_2cat_jacobian[:,2:,:]\n",
    "for i in range(num_time_steps+1):\n",
    "    y = ivp_out.y[:,i]\n",
    "    dfdt_val = dfdt(0., y[:num_bins], dls, kernel, sum_idxs, num_sum_bins)\n",
    "    rate_out = moment_rate_and_grad(6, y, dfdt_val, dls, kernel, sum_idxs, num_sum_bins,\n",
    "                                    bin_midpoints, 1.e-6, 1.e-4, m3_init, tscale)\n",
    "    momc6_rates[i], process_2cat_3m_jacobian[i,2,:] = rate_out\n",
    "    rate_out = moment_rate_and_grad(6, y, dfdt_val, dls, kernel, sum_idxs, num_sum_bins,\n",
    "                                    bin_midpoints, 1.e-4, 1.e-3, m3_init, tscale)\n",
    "    momr6_rates[i], process_2cat_3m_jacobian[i,5,:] = rate_out"
   ]
  },
  {
   "cell_type": "code",
   "execution_count": null,
   "id": "cfbd6c8a",
   "metadata": {
    "ExecuteTime": {
     "end_time": "2022-02-08T18:27:32.793946Z",
     "start_time": "2022-02-08T18:27:32.759007Z"
    }
   },
   "outputs": [],
   "source": [
    "sigma_2cat_3m_momc0_rate = np.zeros((num_time_steps+1,))\n",
    "sigma_2cat_3m_momc3_rate = np.zeros((num_time_steps+1,))\n",
    "sigma_2cat_3m_momc6_rate = np.zeros((num_time_steps+1,))\n",
    "sigma_2cat_3m_momr0_rate = np.zeros((num_time_steps+1,))\n",
    "sigma_2cat_3m_momr3_rate = np.zeros((num_time_steps+1,))\n",
    "sigma_2cat_3m_momr6_rate = np.zeros((num_time_steps+1,))\n",
    "for i in range(num_time_steps+1):\n",
    "    mom_inv = la.pinv(mom_2cat_3m_jacobian[i,:,:])\n",
    "    pj = process_2cat_3m_jacobian[i,:,:]\n",
    "    pj[0,:] = momc0_rates[i] / momc0s[i] * (pj[0,:] - mom_2cat_3m_jacobian[i,0,:])\n",
    "    pj[1,:] = momc3_rates[i] / momc3s[i] * (pj[1,:] - mom_2cat_3m_jacobian[i,1,:])\n",
    "    pj[2,:] = momc6_rates[i] / momc6s[i] * (pj[2,:] - mom_2cat_3m_jacobian[i,2,:])\n",
    "    pj[3,:] = momr0_rates[i] / momr0s[i] * (pj[3,:] - mom_2cat_3m_jacobian[i,3,:])\n",
    "    pj[4,:] = momr3_rates[i] / momr3s[i] * (pj[4,:] - mom_2cat_3m_jacobian[i,4,:])\n",
    "    pj[5,:] = momr6_rates[i] / momr6s[i] * (pj[5,:] - mom_2cat_3m_jacobian[i,5,:])\n",
    "    cov = pj @ mom_inv @ np.eye(6) @ mom_inv.T @ pj.T\n",
    "    sigma_2cat_3m_momc0_rate[i] = np.sqrt(cov[0,0])\n",
    "    sigma_2cat_3m_momc3_rate[i] = np.sqrt(cov[1,1])\n",
    "    sigma_2cat_3m_momc6_rate[i] = np.sqrt(cov[2,2])\n",
    "    sigma_2cat_3m_momr0_rate[i] = np.sqrt(cov[3,3])\n",
    "    sigma_2cat_3m_momr3_rate[i] = np.sqrt(cov[4,4])\n",
    "    sigma_2cat_3m_momr6_rate[i] = np.sqrt(cov[5,5])"
   ]
  },
  {
   "cell_type": "code",
   "execution_count": null,
   "id": "d35ed7e9",
   "metadata": {
    "ExecuteTime": {
     "end_time": "2022-02-08T18:32:55.690510Z",
     "start_time": "2022-02-08T18:32:55.477878Z"
    }
   },
   "outputs": [],
   "source": [
    "fig = plt.figure(figsize=(5, 4))\n",
    "plt.plot(t_eval * tscale, sigma_2cat_3m_momc0_rate, label=\"Cloud M0\")\n",
    "#plt.plot(t_eval * tscale, sigma_2cat_momc3_rate)\n",
    "plt.plot(t_eval * tscale, sigma_2cat_3m_momc6_rate, label=\"Cloud M6\")\n",
    "plt.plot(t_eval * tscale, sigma_2cat_3m_momr0_rate, label=\"Rain M0\")\n",
    "plt.plot(t_eval * tscale, sigma_2cat_3m_momr3_rate, label=\"Rain M3\")\n",
    "plt.plot(t_eval * tscale, sigma_2cat_3m_momr6_rate, label=\"Rain M6\")\n",
    "ymax = 0.1\n",
    "for i in range(num_time_steps+1):\n",
    "    if autos[i] < accrs[i]:\n",
    "        time = t_eval[i] * tscale\n",
    "        break\n",
    "plt.vlines(time, 0., ymax, 'k', label='Accr > Auto')\n",
    "for i in range(num_time_steps+1):\n",
    "    if autos[i] > 0.01 * autos.max():\n",
    "        time = t_eval[i] * tscale\n",
    "        break\n",
    "plt.vlines(time, 0., ymax, 'r', linestyle='--', label='Auto at 1% max')\n",
    "plt.ylim([0., ymax])\n",
    "plt.legend(loc='best')\n",
    "plt.savefig('cm036_rm036_predictability.png')"
   ]
  },
  {
   "cell_type": "markdown",
   "id": "2c2e448c",
   "metadata": {},
   "source": [
    "# Comparison plots"
   ]
  },
  {
   "cell_type": "code",
   "execution_count": null,
   "id": "784ca2bc",
   "metadata": {
    "ExecuteTime": {
     "end_time": "2022-02-08T20:03:48.644501Z",
     "start_time": "2022-02-08T20:03:48.639393Z"
    }
   },
   "outputs": [],
   "source": [
    "for i in range(num_time_steps+1):\n",
    "    if momr3s[i] >= 0.99*mom3s[i]:\n",
    "        half_time = i//2\n",
    "        break"
   ]
  },
  {
   "cell_type": "code",
   "execution_count": null,
   "id": "cdfb8616",
   "metadata": {
    "ExecuteTime": {
     "end_time": "2022-02-08T20:04:02.606040Z",
     "start_time": "2022-02-08T20:04:02.597504Z"
    }
   },
   "outputs": [],
   "source": [
    "t_eval[half_time]*tscale"
   ]
  },
  {
   "cell_type": "code",
   "execution_count": null,
   "id": "7c40a1f6",
   "metadata": {
    "ExecuteTime": {
     "end_time": "2022-02-08T19:52:56.677840Z",
     "start_time": "2022-02-08T19:50:58.751951Z"
    }
   },
   "outputs": [],
   "source": [
    "nmom = 10\n",
    "full_moms = np.zeros((num_time_steps+1, nmom))\n",
    "full_mom_rates = np.zeros((num_time_steps+1, nmom))\n",
    "full_mom_jacobian = np.zeros((num_time_steps+1, nmom, 3))\n",
    "full_mom_rate_jacobian = np.zeros((num_time_steps+1, nmom, 3))\n",
    "for i in range(num_time_steps+1):\n",
    "    y = ivp_out.y[:,i]\n",
    "    dfdt_val = dfdt(0., y[:num_bins], dls, kernel, sum_idxs, num_sum_bins)\n",
    "    for n in range(nmom):\n",
    "        mom_out = calc_moment_and_gradient(y, dfdt_val, n, m3_init, bin_bounds, dls,\n",
    "                                           bin_midpoints, 1.e-6, 1.e-3)\n",
    "        full_moms[i,n], full_mom_jacobian[i,n,:] = mom_out\n",
    "        rate_out = moment_rate_and_grad(n, y, dfdt_val, dls, kernel, sum_idxs, num_sum_bins,\n",
    "                                        bin_midpoints, 1.e-6, 1.e-3, m3_init, tscale)\n",
    "        full_mom_rates[i,n], full_mom_rate_jacobian[i,n,:] = rate_out"
   ]
  },
  {
   "cell_type": "code",
   "execution_count": null,
   "id": "97eb515a",
   "metadata": {
    "ExecuteTime": {
     "end_time": "2022-02-08T20:20:24.669502Z",
     "start_time": "2022-02-08T20:20:24.654991Z"
    }
   },
   "outputs": [],
   "source": [
    "full_scaled_rate_jacobian = np.zeros((num_time_steps+1, nmom, 3))\n",
    "for i in range(num_time_steps+1):\n",
    "    mj = full_mom_jacobian[i,:,:]\n",
    "    pj = full_mom_rate_jacobian[i,:,:]\n",
    "    for n in range(nmom):\n",
    "        full_scaled_rate_jacobian[i,n,:] = full_mom_rates[i,n] / full_moms[i,n] * (pj[n,:] - mj[n,:])"
   ]
  },
  {
   "cell_type": "code",
   "execution_count": null,
   "id": "db352441-cabf-4a5c-b451-50572e9108a8",
   "metadata": {},
   "outputs": [],
   "source": [
    "moments = [0, 4, 5]\n",
    "nmom = len(moments)\n",
    "j_eigs = np.zeros((num_time_steps+1, nmom), dtype=np.complex128)\n",
    "j_evals = np.zeros((num_time_steps+1, nmom, nmom), dtype=np.complex128)\n",
    "for i in range(num_time_steps):\n",
    "    mom_inv = la.pinv(full_mom_jacobian[i,moments,:])\n",
    "    pj = full_scaled_rate_jacobian[i,moments,:]\n",
    "    j_eigs[i,:], j_evals[i,:,:] = la.eig(pj @ mom_inv)"
   ]
  },
  {
   "cell_type": "code",
   "execution_count": null,
   "id": "bf346afe-6b9c-466e-afc3-68677d8bb642",
   "metadata": {},
   "outputs": [],
   "source": [
    "print(j_eigs[0,:], j_evals[0,:,:])"
   ]
  },
  {
   "cell_type": "code",
   "execution_count": null,
   "id": "7e60286f-a352-47db-9113-3e257c590f31",
   "metadata": {},
   "outputs": [],
   "source": [
    "plt.scatter(np.repeat(t_eval * tscale, len(moments)), np.ravel(np.real(j_eigs)))"
   ]
  },
  {
   "cell_type": "code",
   "execution_count": null,
   "id": "07b7d83c-70e4-4c2e-8541-48c164de35b9",
   "metadata": {},
   "outputs": [],
   "source": [
    "plt.scatter(np.repeat(t_eval * tscale, len(moments)), np.ravel(np.imag(j_eigs)))"
   ]
  },
  {
   "cell_type": "code",
   "execution_count": null,
   "id": "4246f37b-6432-459b-8b52-b70064fd12b4",
   "metadata": {},
   "outputs": [],
   "source": [
    "full_mom_jacobian[0,[0,3,6,9],:]"
   ]
  },
  {
   "cell_type": "code",
   "execution_count": null,
   "id": "4f7f8128-9c63-4fb0-ac94-93b20fabf665",
   "metadata": {},
   "outputs": [],
   "source": [
    "mom_jacobian[0,:,:]"
   ]
  },
  {
   "cell_type": "code",
   "execution_count": null,
   "id": "05a881fa",
   "metadata": {},
   "outputs": [],
   "source": [
    "moments = [0, 6, 9]\n",
    "nmom = len(moments)\n",
    "sigma_diags = np.zeros((num_time_steps+1, nmom))\n",
    "for i in range(num_time_steps):\n",
    "    mom_inv = la.pinv(full_mom_jacobian[i,moments,:])\n",
    "    pj = full_scaled_rate_jacobian[i,moments,:]\n",
    "    cov = pj @ mom_inv @ np.eye(nmom) @ mom_inv.T @ pj.T\n",
    "    for n in range(nmom):\n",
    "        sigma_diags[i,n] = np.sqrt(cov[n,n])"
   ]
  },
  {
   "cell_type": "code",
   "execution_count": null,
   "id": "3a64abaa-ff42-41d5-8efe-f718284fc126",
   "metadata": {},
   "outputs": [],
   "source": [
    "fig = plt.figure(figsize=(5, 4))\n",
    "for n in range(nmom):\n",
    "    plt.plot(t_eval * tscale, sigma_diags[:,n], label=\"M{}\".format(moments[n]))\n",
    "ymax = 0.1\n",
    "for i in range(num_time_steps+1):\n",
    "    if autos[i] < accrs[i]:\n",
    "        time = t_eval[i] * tscale\n",
    "        break\n",
    "plt.vlines(time, 0., ymax, 'k', label='Accr > Auto')\n",
    "for i in range(num_time_steps+1):\n",
    "    if autos[i] > 0.01 * autos.max():\n",
    "        time = t_eval[i] * tscale\n",
    "        break\n",
    "plt.vlines(time, 0., ymax, 'r', linestyle='--', label='Auto at 1% max')\n",
    "plt.ylim([0., ymax])\n",
    "plt.legend(loc='best')"
   ]
  },
  {
   "cell_type": "code",
   "execution_count": null,
   "id": "420f04c2-429c-4f2d-a8fd-c309d84da841",
   "metadata": {},
   "outputs": [],
   "source": [
    "initial_error = 0.0005 * np.log(10.)\n",
    "error_per_sec = 0.005 * np.log(10.) / 60."
   ]
  },
  {
   "cell_type": "code",
   "execution_count": null,
   "id": "199f71dc-9676-4193-990a-0ac75efc665a",
   "metadata": {},
   "outputs": [],
   "source": [
    "moments = [0, 6, 9]\n",
    "nmom = len(moments)\n",
    "sigma_diags = np.zeros((num_time_steps+1, nmom))\n",
    "cum_cov = initial_error * np.eye(nmom)\n",
    "for i in range(num_time_steps):\n",
    "    cum_cov += dt * error_per_sec * np.eye(nmom)\n",
    "    mom_inv = la.pinv(full_mom_jacobian[i,moments,:])\n",
    "    pj = full_scaled_rate_jacobian[i,moments,:]\n",
    "    h = (np.eye(nmom) + dt * (pj @ mom_inv))\n",
    "    new_cov = h @ cum_cov @ h.T\n",
    "    cum_cov = new_cov\n",
    "    for n in range(nmom):\n",
    "        sigma_diags[i,n] = np.sqrt(cum_cov[n,n])"
   ]
  },
  {
   "cell_type": "code",
   "execution_count": null,
   "id": "59885fc7-06af-44ca-98f2-b05a52e02634",
   "metadata": {},
   "outputs": [],
   "source": [
    "fig = plt.figure(figsize=(5, 4))\n",
    "for n in range(nmom):\n",
    "    plt.plot(t_eval * tscale, sigma_diags[:,n], label=\"M{}\".format(moments[n]))\n",
    "ymax = 20.\n",
    "for i in range(num_time_steps+1):\n",
    "    if autos[i] < accrs[i]:\n",
    "        time = t_eval[i] * tscale\n",
    "        break\n",
    "plt.vlines(time, 0., ymax, 'k', label='Accr > Auto')\n",
    "for i in range(num_time_steps+1):\n",
    "    if autos[i] > 0.01 * autos.max():\n",
    "        time = t_eval[i] * tscale\n",
    "        break\n",
    "plt.vlines(time, 0., ymax, 'r', linestyle='--', label='Auto at 1% max')\n",
    "plt.ylim([0., ymax])\n",
    "plt.legend(loc='best')"
   ]
  },
  {
   "cell_type": "code",
   "execution_count": null,
   "id": "2d97ce3d-3533-498e-9c37-ae5c0862e410",
   "metadata": {},
   "outputs": [],
   "source": [
    "moments = [0, 1, 2]\n",
    "nmom = len(moments)\n",
    "sigma_diags = np.zeros((num_time_steps+1, nmom))\n",
    "cum_cov = initial_error * np.eye(nmom)\n",
    "for i in range(num_time_steps):\n",
    "    cum_cov += dt * error_per_sec * np.eye(nmom)\n",
    "    mom_inv = la.pinv(full_mom_jacobian[i,moments,:])\n",
    "    pj = full_scaled_rate_jacobian[i,moments,:]\n",
    "    h = (np.eye(nmom) + dt * (pj @ mom_inv))\n",
    "    new_cov = h @ cum_cov @ h.T\n",
    "    cum_cov = new_cov\n",
    "    for n in range(nmom):\n",
    "        sigma_diags[i,n] = np.sqrt(cum_cov[n,n])"
   ]
  },
  {
   "cell_type": "code",
   "execution_count": null,
   "id": "6860f79b-c3d9-4f8b-bdfa-10a2cbd80279",
   "metadata": {},
   "outputs": [],
   "source": [
    "fig = plt.figure(figsize=(5, 4))\n",
    "for n in range(nmom):\n",
    "    plt.plot(t_eval * tscale, sigma_diags[:,n], label=\"M{}\".format(moments[n]))\n",
    "ymax = 20.\n",
    "for i in range(num_time_steps+1):\n",
    "    if autos[i] < accrs[i]:\n",
    "        time = t_eval[i] * tscale\n",
    "        break\n",
    "plt.vlines(time, 0., ymax, 'k', label='Accr > Auto')\n",
    "for i in range(num_time_steps+1):\n",
    "    if autos[i] > 0.01 * autos.max():\n",
    "        time = t_eval[i] * tscale\n",
    "        break\n",
    "plt.vlines(time, 0., ymax, 'r', linestyle='--', label='Auto at 1% max')\n",
    "plt.ylim([0., ymax])\n",
    "plt.legend(loc='best')"
   ]
  },
  {
   "cell_type": "code",
   "execution_count": null,
   "id": "c573da94-fb50-4878-b16c-ffae820cb0fe",
   "metadata": {},
   "outputs": [],
   "source": [
    "moments = [0, 4, 5]\n",
    "nmom = len(moments)\n",
    "sigma_diags = np.zeros((num_time_steps+1, nmom))\n",
    "cum_cov = initial_error * np.eye(nmom)\n",
    "for i in range(num_time_steps):\n",
    "    cum_cov += dt * error_per_sec * np.eye(nmom)\n",
    "    mom_inv = la.pinv(full_mom_jacobian[i,moments,:])\n",
    "    pj = full_scaled_rate_jacobian[i,moments,:]\n",
    "    h = (np.eye(nmom) + dt * (pj @ mom_inv))\n",
    "    new_cov = h @ cum_cov @ h.T\n",
    "    cum_cov = new_cov\n",
    "    for n in range(nmom):\n",
    "        sigma_diags[i,n] = np.sqrt(cum_cov[n,n])"
   ]
  },
  {
   "cell_type": "code",
   "execution_count": null,
   "id": "0ab6e1f9-96db-48c2-aeb7-5e562fea2f0a",
   "metadata": {},
   "outputs": [],
   "source": [
    "fig = plt.figure(figsize=(5, 4))\n",
    "for n in range(nmom):\n",
    "    plt.plot(t_eval * tscale, sigma_diags[:,n], label=\"M{}\".format(moments[n]))\n",
    "ymax = 20.\n",
    "for i in range(num_time_steps+1):\n",
    "    if autos[i] < accrs[i]:\n",
    "        time = t_eval[i] * tscale\n",
    "        break\n",
    "plt.vlines(time, 0., ymax, 'k', label='Accr > Auto')\n",
    "for i in range(num_time_steps+1):\n",
    "    if autos[i] > 0.01 * autos.max():\n",
    "        time = t_eval[i] * tscale\n",
    "        break\n",
    "plt.vlines(time, 0., ymax, 'r', linestyle='--', label='Auto at 1% max')\n",
    "plt.ylim([0., ymax])\n",
    "plt.legend(loc='best')"
   ]
  },
  {
   "cell_type": "code",
   "execution_count": null,
   "id": "7f81015d-e035-44d2-bebc-d9a14d88b20d",
   "metadata": {},
   "outputs": [],
   "source": [
    "moments = [0, 5, 6]\n",
    "nmom = len(moments)\n",
    "sigma_diags = np.zeros((num_time_steps+1, nmom))\n",
    "cum_cov = initial_error * np.eye(nmom)\n",
    "for i in range(num_time_steps):\n",
    "    cum_cov += dt * error_per_sec * np.eye(nmom)\n",
    "    mom_inv = la.pinv(full_mom_jacobian[i,moments,:])\n",
    "    pj = full_scaled_rate_jacobian[i,moments,:]\n",
    "    h = (np.eye(nmom) + dt * (pj @ mom_inv))\n",
    "    new_cov = h @ cum_cov @ h.T\n",
    "    cum_cov = new_cov\n",
    "    for n in range(nmom):\n",
    "        sigma_diags[i,n] = np.sqrt(cum_cov[n,n])"
   ]
  },
  {
   "cell_type": "code",
   "execution_count": null,
   "id": "70fc146a-c072-4aba-ad76-2dd155467c28",
   "metadata": {},
   "outputs": [],
   "source": [
    "fig = plt.figure(figsize=(5, 4))\n",
    "for n in range(nmom):\n",
    "    plt.plot(t_eval * tscale, sigma_diags[:,n], label=\"M{}\".format(moments[n]))\n",
    "ymax = 20.\n",
    "for i in range(num_time_steps+1):\n",
    "    if autos[i] < accrs[i]:\n",
    "        time = t_eval[i] * tscale\n",
    "        break\n",
    "plt.vlines(time, 0., ymax, 'k', label='Accr > Auto')\n",
    "for i in range(num_time_steps+1):\n",
    "    if autos[i] > 0.01 * autos.max():\n",
    "        time = t_eval[i] * tscale\n",
    "        break\n",
    "plt.vlines(time, 0., ymax, 'r', linestyle='--', label='Auto at 1% max')\n",
    "plt.ylim([0., ymax])\n",
    "plt.legend(loc='best')"
   ]
  },
  {
   "cell_type": "markdown",
   "id": "6a2b136c-6940-4eea-b31f-0c48573d18d4",
   "metadata": {},
   "source": [
    "# Accumulating random errors"
   ]
  },
  {
   "cell_type": "code",
   "execution_count": null,
   "id": "6afe5a33-279e-4e8c-8f27-610f9b6f0c23",
   "metadata": {},
   "outputs": [],
   "source": [
    "import pymc3 as pm\n",
    "half_decibel = 0.05 * np.log(10)"
   ]
  },
  {
   "cell_type": "code",
   "execution_count": null,
   "id": "ec7bb064-cbb5-4c90-927c-32077901c283",
   "metadata": {},
   "outputs": [],
   "source": [
    "moments = [0, 6, 9]\n",
    "nmom = len(moments)\n",
    "errs = np.zeros((num_time_steps+1, nmom))\n",
    "cum_err = np.zeros(nmom)\n",
    "err_source = pm.MvNormal.dist(mu=np.zeros((nmom,)), cov=np.eye(nmom), shape=(nmom,))\n",
    "for i in range(num_time_steps):\n",
    "    cum_err += dt * half_decibel * err_source.random(1)\n",
    "    mom_inv = la.pinv(full_mom_jacobian[i,moments,:])\n",
    "    pj = full_scaled_rate_jacobian[i,moments,:]\n",
    "    new_err = pj @ mom_inv @ cum_err\n",
    "    cum_err += dt * new_err\n",
    "    for n in range(nmom):\n",
    "        errs[i,n] = np.abs(cum_err[n])"
   ]
  },
  {
   "cell_type": "code",
   "execution_count": null,
   "id": "f5ceff1f-87ee-4148-a304-1f227b1e0a2f",
   "metadata": {},
   "outputs": [],
   "source": [
    "fig = plt.figure(figsize=(5, 4))\n",
    "for n in range(nmom):\n",
    "    plt.plot(t_eval * tscale, errs[:,n], label=\"M{}\".format(moments[n]))\n",
    "ymax = 100\n",
    "for i in range(num_time_steps+1):\n",
    "    if autos[i] < accrs[i]:\n",
    "        time = t_eval[i] * tscale\n",
    "        break\n",
    "plt.vlines(time, 0., ymax, 'k', label='Accr > Auto')\n",
    "for i in range(num_time_steps+1):\n",
    "    if autos[i] > 0.01 * autos.max():\n",
    "        time = t_eval[i] * tscale\n",
    "        break\n",
    "plt.vlines(time, 0., ymax, 'r', linestyle='--', label='Auto at 1% max')\n",
    "plt.ylim([0., ymax])\n",
    "plt.legend(loc='best')"
   ]
  },
  {
   "cell_type": "code",
   "execution_count": null,
   "id": "261a7736-c482-400f-94c9-fd505532d516",
   "metadata": {},
   "outputs": [],
   "source": [
    "moments = [0, 1, 2]\n",
    "nmom = len(moments)\n",
    "errs = np.zeros((num_time_steps+1, nmom))\n",
    "cum_err = np.zeros(nmom)\n",
    "err_source = pm.MvNormal.dist(mu=np.zeros((nmom,)), cov=np.eye(nmom), shape=(nmom,))\n",
    "for i in range(num_time_steps):\n",
    "    cum_err += dt * half_decibel * err_source.random(1)\n",
    "    mom_inv = la.pinv(full_mom_jacobian[i,moments,:])\n",
    "    pj = full_scaled_rate_jacobian[i,moments,:]\n",
    "    new_err = pj @ mom_inv @ cum_err\n",
    "    cum_err += dt * new_err\n",
    "    for n in range(nmom):\n",
    "        errs[i,n] = np.abs(cum_err[n])"
   ]
  },
  {
   "cell_type": "code",
   "execution_count": null,
   "id": "32a8dd49-ae4e-45ef-a43b-4c80121d601d",
   "metadata": {},
   "outputs": [],
   "source": [
    "fig = plt.figure(figsize=(5, 4))\n",
    "for n in range(nmom):\n",
    "    plt.plot(t_eval * tscale, errs[:,n], label=\"M{}\".format(moments[n]))\n",
    "ymax = 100\n",
    "for i in range(num_time_steps+1):\n",
    "    if autos[i] < accrs[i]:\n",
    "        time = t_eval[i] * tscale\n",
    "        break\n",
    "plt.vlines(time, 0., ymax, 'k', label='Accr > Auto')\n",
    "for i in range(num_time_steps+1):\n",
    "    if autos[i] > 0.01 * autos.max():\n",
    "        time = t_eval[i] * tscale\n",
    "        break\n",
    "plt.vlines(time, 0., ymax, 'r', linestyle='--', label='Auto at 1% max')\n",
    "plt.ylim([0., ymax])\n",
    "plt.legend(loc='best')"
   ]
  },
  {
   "cell_type": "code",
   "execution_count": null,
   "id": "8d46f29e-2296-44e1-8ed1-093d63280470",
   "metadata": {},
   "outputs": [],
   "source": [
    "moments = [0, 4, 5]\n",
    "nmom = len(moments)\n",
    "errs = np.zeros((num_time_steps+1, nmom))\n",
    "cum_err = np.zeros(nmom)\n",
    "err_source = pm.MvNormal.dist(mu=np.zeros((nmom,)), cov=np.eye(nmom), shape=(nmom,))\n",
    "for i in range(num_time_steps):\n",
    "    cum_err += dt * half_decibel * err_source.random(1)\n",
    "    mom_inv = la.pinv(full_mom_jacobian[i,moments,:])\n",
    "    pj = full_scaled_rate_jacobian[i,moments,:]\n",
    "    new_err = pj @ mom_inv @ cum_err\n",
    "    cum_err += dt * new_err\n",
    "    for n in range(nmom):\n",
    "        errs[i,n] = np.abs(cum_err[n])"
   ]
  },
  {
   "cell_type": "code",
   "execution_count": null,
   "id": "6d1edb50-4039-4691-9e41-7cfc8b6ba3f1",
   "metadata": {},
   "outputs": [],
   "source": [
    "fig = plt.figure(figsize=(5, 4))\n",
    "for n in range(nmom):\n",
    "    plt.plot(t_eval * tscale, errs[:,n], label=\"M{}\".format(moments[n]))\n",
    "ymax = 100\n",
    "for i in range(num_time_steps+1):\n",
    "    if autos[i] < accrs[i]:\n",
    "        time = t_eval[i] * tscale\n",
    "        break\n",
    "plt.vlines(time, 0., ymax, 'k', label='Accr > Auto')\n",
    "for i in range(num_time_steps+1):\n",
    "    if autos[i] > 0.01 * autos.max():\n",
    "        time = t_eval[i] * tscale\n",
    "        break\n",
    "plt.vlines(time, 0., ymax, 'r', linestyle='--', label='Auto at 1% max')\n",
    "plt.ylim([0., ymax])\n",
    "plt.legend(loc='best')"
   ]
  },
  {
   "cell_type": "code",
   "execution_count": null,
   "id": "48a2a0c5-2069-48ac-971a-7dc21db35d42",
   "metadata": {},
   "outputs": [],
   "source": []
  }
 ],
 "metadata": {
  "kernelspec": {
   "display_name": "Python 3 (ipykernel)",
   "language": "python",
   "name": "python3"
  },
  "language_info": {
   "codemirror_mode": {
    "name": "ipython",
    "version": 3
   },
   "file_extension": ".py",
   "mimetype": "text/x-python",
   "name": "python",
   "nbconvert_exporter": "python",
   "pygments_lexer": "ipython3",
   "version": "3.9.5"
  },
  "toc": {
   "base_numbering": 1,
   "nav_menu": {},
   "number_sections": true,
   "sideBar": true,
   "skip_h1_title": false,
   "title_cell": "Table of Contents",
   "title_sidebar": "Contents",
   "toc_cell": true,
   "toc_position": {},
   "toc_section_display": true,
   "toc_window_display": false
  }
 },
 "nbformat": 4,
 "nbformat_minor": 5
}
