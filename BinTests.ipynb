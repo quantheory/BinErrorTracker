{
 "cells": [
  {
   "cell_type": "code",
   "execution_count": null,
   "id": "0385dd25",
   "metadata": {
    "ExecuteTime": {
     "end_time": "2022-02-08T16:35:13.781622Z",
     "start_time": "2022-02-08T16:35:13.674321Z"
    }
   },
   "outputs": [],
   "source": [
    "from math import isqrt\n",
    "import os.path\n",
    "from time import perf_counter\n",
    "\n",
    "import numpy as np\n",
    "from scipy.special import gamma, gammaln, gammainc\n",
    "import scipy.linalg as la\n",
    "import scipy.integrate as spi\n",
    "import matplotlib\n",
    "import matplotlib.pyplot as plt\n",
    "import netCDF4 as nc4\n",
    "import matplotlib.animation as animation\n",
    "\n",
    "import bin_model as bm"
   ]
  },
  {
   "cell_type": "code",
   "execution_count": null,
   "id": "86d96460-b66f-4c6f-a90f-523d12ced929",
   "metadata": {},
   "outputs": [],
   "source": [
    "# Define physical constants.\n",
    "RHO_WATER = 1000. # Density of water (kg/m^3)\n",
    "RHO_AIR = 1.2 # Density of air (kg/m^3)\n",
    "\n",
    "# Model physical parameters.\n",
    "RAIN_D = 8.e-5 # Cutoff diameter between particle sizes defined as cloud vs. rain (m).\n",
    "\n",
    "# Grid parameters\n",
    "D_MIN = 1.e-6 # Minimum particle diameter (m).\n",
    "D_MAX = 1.6384e-2 # Maximum particle diameter (m).\n",
    "NUM_BINS = 126 # Number of evenly spaced bins in the simulation\n",
    "\n",
    "# Initial conditions\n",
    "INITIAL_MASS = 1.e-3 # Initial mass concentration (kg/m^3)\n",
    "INITIAL_NC = 100. # Initial number concentration (cm^-3)\n",
    "INITIAL_NU = 6. # Shape parameter for initial condition\n",
    "\n",
    "# Numerical tuning parameters.\n",
    "STD_DIAMETER = 1.e-4 # Internal scaling for particle size (m)\n",
    "MASS_CONC_SCALE = 1.e-3\n",
    "# Long's kernel magnitude kc (m^3/kg^2/s)\n",
    "long_kernel_size = 9.44e9\n",
    "TIME_SCALE = 1. / (long_kernel_size * ((np.pi*RHO_WATER/6.)*STD_DIAMETER**3)\n",
    "                       * MASS_CONC_SCALE)"
   ]
  },
  {
   "cell_type": "code",
   "execution_count": null,
   "id": "5d8dc1d9-f6c2-4047-8718-c2e3da9602e9",
   "metadata": {},
   "outputs": [],
   "source": [
    "const = bm.ModelConstants(rho_water=RHO_WATER, rho_air=RHO_AIR, std_diameter=STD_DIAMETER,\n",
    "                          rain_d=RAIN_D, mass_conc_scale=MASS_CONC_SCALE,\n",
    "                          time_scale=TIME_SCALE)\n",
    "#kernel = bm.LongKernel(const)\n",
    "kernel = bm.HallKernel(const, 'ScottChen')\n",
    "grid = bm.GeometricMassGrid(const, d_min=D_MIN, d_max=D_MAX, num_bins=NUM_BINS)"
   ]
  },
  {
   "cell_type": "code",
   "execution_count": null,
   "id": "c5d1b802-d3e0-4a0c-8130-38db8c9b09c8",
   "metadata": {},
   "outputs": [],
   "source": [
    "ktens = bm.KernelTensor(kernel, grid)"
   ]
  },
  {
   "cell_type": "code",
   "execution_count": null,
   "id": "150ca30f",
   "metadata": {
    "ExecuteTime": {
     "end_time": "2022-02-08T16:35:16.601541Z",
     "start_time": "2022-02-08T16:35:16.595166Z"
    }
   },
   "outputs": [],
   "source": [
    "mass_init = INITIAL_MASS\n",
    "m3_scaled_init = mass_init / const.std_mass # kg^-1\n",
    "m3_init = mass_init / (const.rho_water * np.pi/6.) # m^3 / kg 3rd moment\n",
    "m0_init = INITIAL_NC * 1.e6 * const.rho_air # kg^-1 number concentration\n",
    "lambda_init = ( m0_init * gamma(INITIAL_NU + 3)/ (m3_init * gamma(INITIAL_NU)) )**(1./3.) # m^-1 scale parameter"
   ]
  },
  {
   "cell_type": "code",
   "execution_count": null,
   "id": "4dd9249f",
   "metadata": {
    "ExecuteTime": {
     "end_time": "2022-02-08T16:35:27.508927Z",
     "start_time": "2022-02-08T16:35:27.503469Z"
    }
   },
   "outputs": [],
   "source": [
    "dsd_deriv_names = ['lambda', 'nu']\n",
    "dsd_deriv_scales = [const.std_diameter, 1.]\n",
    "desc = bm.ModelStateDescriptor(const, grid,\n",
    "                               dsd_deriv_names=dsd_deriv_names,\n",
    "                               dsd_deriv_scales=dsd_deriv_scales)\n",
    "dsd = bm.gamma_dist_d(grid, lambda_init, INITIAL_NU)\n",
    "dsd_scale = mass_init / np.dot(dsd, grid.bin_widths)\n",
    "dsd *= dsd_scale\n",
    "dsd_deriv = np.zeros((2, grid.num_bins))\n",
    "dsd_deriv[0,:] = bm.gamma_dist_d_lam_deriv(grid, lambda_init, INITIAL_NU) * dsd_scale\n",
    "dsd_deriv[1,:] = bm.gamma_dist_d_nu_deriv(grid, lambda_init, INITIAL_NU) * dsd_scale\n",
    "raw = desc.construct_raw(dsd, dsd_deriv=dsd_deriv)\n",
    "init_state = bm.ModelState(desc, raw)"
   ]
  },
  {
   "cell_type": "code",
   "execution_count": null,
   "id": "0c543e44-402e-4cc1-b6d5-908c620e9589",
   "metadata": {},
   "outputs": [],
   "source": [
    "nb = grid.num_bins\n",
    "y_init = np.zeros((3*nb,))\n",
    "y_init[:nb] = desc.dsd_raw(raw)\n",
    "y_init[nb:2*nb] = desc.dsd_deriv_raw(raw, 'lambda')\n",
    "y_init[2*nb:] = desc.dsd_deriv_raw(raw, 'nu')"
   ]
  },
  {
   "cell_type": "code",
   "execution_count": null,
   "id": "5fde86be",
   "metadata": {
    "ExecuteTime": {
     "end_time": "2022-02-08T16:36:02.876693Z",
     "start_time": "2022-02-08T16:35:45.997103Z"
    }
   },
   "outputs": [],
   "source": [
    "tscale = const.time_scale\n",
    "end_time = 3600.\n",
    "num_time_steps = 120\n",
    "dt = end_time / num_time_steps\n",
    "integrator = bm.RK45Integrator(const, dt)\n",
    "exp = integrator.integrate(end_time, init_state, [ktens])\n",
    "t_eval = exp.times\n",
    "states = exp.states\n",
    "all_y = np.zeros((len(t_eval), 3*grid.num_bins,))\n",
    "for i in range(len(t_eval)):\n",
    "    raw = states[i].raw\n",
    "    all_y[i,:grid.num_bins] = desc.dsd_raw(raw)\n",
    "    all_y[i,grid.num_bins:2*grid.num_bins] = desc.dsd_deriv_raw(raw,\n",
    "                                                                'lambda')\n",
    "    all_y[i,2*grid.num_bins:] = desc.dsd_deriv_raw(raw, 'nu')"
   ]
  },
  {
   "cell_type": "code",
   "execution_count": null,
   "id": "08f34a90",
   "metadata": {},
   "outputs": [],
   "source": [
    "bin_midpoints = 0.5 * (grid.bin_bounds[:-1] + grid.bin_bounds[1:])\n",
    "plot_lxs = 2. + bin_midpoints / (3.*np.log(10))"
   ]
  },
  {
   "cell_type": "code",
   "execution_count": null,
   "id": "680bc3e7",
   "metadata": {
    "ExecuteTime": {
     "end_time": "2022-02-08T16:36:04.524051Z",
     "start_time": "2022-02-08T16:36:02.902396Z"
    }
   },
   "outputs": [],
   "source": [
    "mass_convert = mass_init * 1.e3 * (3.*np.log(10))\n",
    "ymin = 0.\n",
    "ymax = 0.4*mass_convert\n",
    "fig = plt.figure(figsize=(5, 4))\n",
    "ax = fig.add_subplot(autoscale_on=False,\n",
    "                     xlim=(2. + grid.lx_min/(3.*np.log(10)), 2. + grid.lx_max/(3.*np.log(10))),\n",
    "                     ylim=(ymin, ymax))\n",
    "ax.set_xlabel(\"$log_{10}(D)$ ($D$ in microns)\")\n",
    "ax.set_ylabel(\"$dm/dlog_{10}(D)$ (g/kg)\")\n",
    "ax.grid()\n",
    "\n",
    "line, = ax.plot(plot_lxs, y_init[:grid.num_bins], 'o-', lw=2)\n",
    "time_template = 'time = %.1fs'\n",
    "time_text = ax.text(0.05, 0.9, '', transform=ax.transAxes)\n",
    "plt.vlines(np.log10(const.rain_d)+6., ymin, ymax, 'k')\n",
    "\n",
    "def animate(i):\n",
    "    thisy = mass_convert*all_y[i,:grid.num_bins]\n",
    "    line.set_data(plot_lxs, thisy)\n",
    "    time_text.set_text(time_template % (i*dt))\n",
    "    return line, time_text\n",
    "\n",
    "ani = animation.FuncAnimation(\n",
    "    fig, animate, len(t_eval), interval=dt*1000*(5./end_time), blit=True)\n",
    "ani.save(\"mass_evolution.gif\")\n",
    "plt.show()"
   ]
  },
  {
   "cell_type": "code",
   "execution_count": null,
   "id": "ed18a2ce",
   "metadata": {
    "ExecuteTime": {
     "end_time": "2022-02-08T16:36:28.959713Z",
     "start_time": "2022-02-08T16:36:28.953325Z"
    }
   },
   "outputs": [],
   "source": [
    "m3_init"
   ]
  },
  {
   "cell_type": "code",
   "execution_count": null,
   "id": "39c8e28b-9a99-459b-9986-be6eef876ef1",
   "metadata": {},
   "outputs": [],
   "source": [
    "print(init_state.dsd_moment(3))"
   ]
  },
  {
   "cell_type": "code",
   "execution_count": null,
   "id": "fb243930",
   "metadata": {
    "ExecuteTime": {
     "end_time": "2022-02-08T16:36:30.102074Z",
     "start_time": "2022-02-08T16:36:30.094322Z"
    }
   },
   "outputs": [],
   "source": [
    "final = states[-1].dsd_moment(3)\n",
    "fallout = states[-1].fallout()/(np.pi*const.rho_water/6.)\n",
    "print(final+fallout, final, fallout)"
   ]
  },
  {
   "cell_type": "code",
   "execution_count": null,
   "id": "5196c335-5bcd-4f48-8327-70050e17cc64",
   "metadata": {},
   "outputs": [],
   "source": [
    "autos = np.zeros((num_time_steps+1,))\n",
    "accrs = np.zeros((num_time_steps+1,))\n",
    "cloud_lx = np.log(const.rain_m)\n",
    "cloud_idx = grid.find_bin(cloud_lx)\n",
    "if (grid.bin_bounds[cloud_idx+1] - cloud_lx) < 1.e-10:\n",
    "    cloud_idx += 1\n",
    "cloud_vector = np.zeros((nb,))\n",
    "cloud_vector[:cloud_idx] = 1.\n",
    "for i in range(num_time_steps+1):\n",
    "    autos[i], accrs[i] = states[i].rain_prod_breakdown(ktens, cloud_vector)"
   ]
  },
  {
   "cell_type": "code",
   "execution_count": null,
   "id": "2d34ddc0-5a4e-47f7-9f31-230c0da39ec6",
   "metadata": {},
   "outputs": [],
   "source": [
    "wv0 = grid.moment_weight_vector(0)\n",
    "wv3 = grid.moment_weight_vector(3)\n",
    "wv6 = grid.moment_weight_vector(6)\n",
    "wv9 = grid.moment_weight_vector(9)\n",
    "db_scale = 10. / np.log(10.)\n",
    "perturbed_variables = [\n",
    "    (wv0, bm.LogTransform(), db_scale),\n",
    "    (wv3, bm.LogTransform(), db_scale),\n",
    "    (wv6, bm.LogTransform(), db_scale),\n",
    "    (wv9, bm.LogTransform(), db_scale),\n",
    "]\n",
    "error_rate = 1. # db after one hour\n",
    "perturbation_rate = error_rate**2 * np.eye(4) / 3600.\n",
    "dsd_deriv_names = [\"lambda\", \"nu\", \"M3\"]\n",
    "dsd_deriv_scales = [const.std_diameter, 1., 1 / const.mass_conc_scale]\n",
    "desc2 = bm.ModelStateDescriptor(const, grid,\n",
    "                                dsd_deriv_names=dsd_deriv_names,\n",
    "                                dsd_deriv_scales=dsd_deriv_scales,\n",
    "                                perturbed_variables=perturbed_variables,\n",
    "                                perturbation_rate=perturbation_rate)\n",
    "dsd = bm.gamma_dist_d(grid, lambda_init, INITIAL_NU)\n",
    "dsd_scale = mass_init / np.dot(dsd, grid.bin_widths)\n",
    "dsd *= dsd_scale\n",
    "dsd_deriv = np.zeros((3, grid.num_bins))\n",
    "dsd_deriv[0,:] = bm.gamma_dist_d_lam_deriv(grid, lambda_init, INITIAL_NU) * dsd_scale\n",
    "dsd_deriv[1,:] = bm.gamma_dist_d_nu_deriv(grid, lambda_init, INITIAL_NU) * dsd_scale\n",
    "dsd_deriv[2,:] = dsd / const.mass_conc_scale\n",
    "raw2 = desc2.construct_raw(dsd, dsd_deriv=dsd_deriv)\n",
    "init_state2 = bm.ModelState(desc2, raw2)"
   ]
  },
  {
   "cell_type": "code",
   "execution_count": null,
   "id": "20516f02-80a6-4302-9f57-e78bbf368a88",
   "metadata": {},
   "outputs": [],
   "source": [
    "exp2 = integrator.integrate(end_time, init_state2, [ktens])\n",
    "states2 = exp2.states"
   ]
  },
  {
   "cell_type": "code",
   "execution_count": null,
   "id": "dfa3959f-e76c-42b8-8d3b-feac62fdcbd8",
   "metadata": {},
   "outputs": [],
   "source": [
    "moments = [0, 3, 6, 9]\n",
    "nmom = len(moments)\n",
    "sigma_diags = np.zeros((num_time_steps+1, nmom))\n",
    "for i in range(num_time_steps+1):\n",
    "    perturb_cov = states2[i].perturb_cov()\n",
    "    for j in range(nmom):\n",
    "        sigma_diags[i,j] = np.sqrt(perturb_cov[j,j])"
   ]
  },
  {
   "cell_type": "code",
   "execution_count": null,
   "id": "5649f2f7-6938-4fec-9343-f93850e9dcda",
   "metadata": {},
   "outputs": [],
   "source": [
    "fig = plt.figure(figsize=(5, 4))\n",
    "for n in range(nmom):\n",
    "    plt.plot(t_eval, sigma_diags[:,n], label=\"M{}\".format(moments[n]))\n",
    "ymax = 10.\n",
    "for i in range(num_time_steps+1):\n",
    "    if autos[i] < accrs[i]:\n",
    "        time = t_eval[i]\n",
    "        break\n",
    "plt.vlines(time, 0., ymax, 'k', label='Accr > Auto')\n",
    "for i in range(num_time_steps+1):\n",
    "    if autos[i] > 0.01 * autos.max():\n",
    "        time = t_eval[i]\n",
    "        break\n",
    "plt.vlines(time, 0., ymax, 'r', linestyle='--', label='Auto at 1% max')\n",
    "plt.ylim([0., ymax])\n",
    "plt.legend(loc='best')"
   ]
  },
  {
   "cell_type": "code",
   "execution_count": null,
   "id": "b484888d-af6a-4867-981b-4b4c252f197f",
   "metadata": {},
   "outputs": [],
   "source": [
    "wvc0 = grid.moment_weight_vector(0, cloud_only=True)\n",
    "wvc3 = grid.moment_weight_vector(3, cloud_only=True)\n",
    "wvr0 = grid.moment_weight_vector(0, rain_only=True)\n",
    "wvr3 = grid.moment_weight_vector(3, rain_only=True)\n",
    "db_scale = 10. / np.log(10.)\n",
    "perturbed_variables = [\n",
    "    (wvc0, bm.LogTransform(), db_scale),\n",
    "    (wvc3, bm.LogTransform(), db_scale),\n",
    "    (wvr0, bm.LogTransform(), db_scale),\n",
    "    (wvr3, bm.LogTransform(), db_scale),\n",
    "]\n",
    "error_rate = 1. # db after one day\n",
    "perturbation_rate = error_rate**2 * np.eye(4) / 3600.\n",
    "dsd_deriv_names = [\"lambda\", \"nu\", \"M3\"]\n",
    "dsd_deriv_scales = [const.std_diameter, 1., 1 / const.mass_conc_scale]\n",
    "desc3 = bm.ModelStateDescriptor(const, grid,\n",
    "                                dsd_deriv_names=dsd_deriv_names,\n",
    "                                dsd_deriv_scales=dsd_deriv_scales,\n",
    "                                perturbed_variables=perturbed_variables,\n",
    "                                perturbation_rate=perturbation_rate)\n",
    "dsd = bm.gamma_dist_d(grid, lambda_init, INITIAL_NU)\n",
    "dsd_scale = mass_init / np.dot(dsd, grid.bin_widths)\n",
    "dsd *= dsd_scale\n",
    "dsd_deriv = np.zeros((3, grid.num_bins))\n",
    "dsd_deriv[0,:] = bm.gamma_dist_d_lam_deriv(grid, lambda_init, INITIAL_NU) * dsd_scale\n",
    "dsd_deriv[1,:] = bm.gamma_dist_d_nu_deriv(grid, lambda_init, INITIAL_NU) * dsd_scale\n",
    "dsd_deriv[2,:] = dsd / const.mass_conc_scale\n",
    "raw3 = desc3.construct_raw(dsd, dsd_deriv=dsd_deriv)\n",
    "init_state3 = bm.ModelState(desc3, raw3)"
   ]
  },
  {
   "cell_type": "code",
   "execution_count": null,
   "id": "bc2a9f64-bf3c-444a-8188-a8a574c6558f",
   "metadata": {},
   "outputs": [],
   "source": [
    "exp3 = integrator.integrate(end_time, init_state3, [ktens])\n",
    "states3 = exp3.states"
   ]
  },
  {
   "cell_type": "code",
   "execution_count": null,
   "id": "dd29925d-b17d-40ec-a336-b148743b4298",
   "metadata": {},
   "outputs": [],
   "source": [
    "nmom = 4\n",
    "sigma_diags = np.zeros((num_time_steps+1, nmom))\n",
    "for i in range(num_time_steps+1):\n",
    "    perturb_cov = states3[i].perturb_cov()\n",
    "    for j in range(nmom):\n",
    "        sigma_diags[i,j] = np.sqrt(perturb_cov[j,j])"
   ]
  },
  {
   "cell_type": "code",
   "execution_count": null,
   "id": "78929308-76a6-4778-9186-7149d7084d2d",
   "metadata": {},
   "outputs": [],
   "source": [
    "fig = plt.figure(figsize=(5, 4))\n",
    "labels = [\"Cloud M0\", \"Cloud M3\", \"Rain M0\", \"Rain M3\"]\n",
    "for n in range(nmom):\n",
    "    plt.plot(t_eval, sigma_diags[:,n], label=labels[n])\n",
    "ymax = 10.\n",
    "for i in range(num_time_steps+1):\n",
    "    if autos[i] < accrs[i]:\n",
    "        time = t_eval[i]\n",
    "        break\n",
    "plt.vlines(time, 0., ymax, 'k', label='Accr > Auto')\n",
    "for i in range(num_time_steps+1):\n",
    "    if autos[i] > 0.01 * autos.max():\n",
    "        time = t_eval[i]\n",
    "        break\n",
    "plt.vlines(time, 0., ymax, 'r', linestyle='--', label='Auto at 1% max')\n",
    "plt.ylim([0., ymax])\n",
    "plt.legend(loc='best')"
   ]
  },
  {
   "cell_type": "code",
   "execution_count": null,
   "id": "12fc10c7-d0e0-4910-9382-1f4c3e786566",
   "metadata": {},
   "outputs": [],
   "source": [
    "wvc0 = grid.moment_weight_vector(0, cloud_only=True)\n",
    "wvc3 = grid.moment_weight_vector(3, cloud_only=True)\n",
    "wvc6 = grid.moment_weight_vector(6, cloud_only=True)\n",
    "wvr0 = grid.moment_weight_vector(0, rain_only=True)\n",
    "wvr3 = grid.moment_weight_vector(3, rain_only=True)\n",
    "wvr6 = grid.moment_weight_vector(6, rain_only=True)\n",
    "db_scale = 10. / np.log(10.)\n",
    "perturbed_variables = [\n",
    "    (wvc0, bm.LogTransform(), db_scale),\n",
    "    (wvc3, bm.LogTransform(), db_scale),\n",
    "    (wvc6, bm.LogTransform(), db_scale),\n",
    "    (wvr0, bm.LogTransform(), db_scale),\n",
    "    (wvr3, bm.LogTransform(), db_scale),\n",
    "    (wvr6, bm.LogTransform(), db_scale),\n",
    "]\n",
    "error_rate = 1. # db after one day\n",
    "perturbation_rate = error_rate**2 * np.eye(6) / 3600.\n",
    "dsd_deriv_names = [\"lambda\", \"nu\", \"M3\"]\n",
    "dsd_deriv_scales = [const.std_diameter, 1., 1 / const.mass_conc_scale]\n",
    "correction_time = 5.\n",
    "desc4 = bm.ModelStateDescriptor(const, grid,\n",
    "                                dsd_deriv_names=dsd_deriv_names,\n",
    "                                dsd_deriv_scales=dsd_deriv_scales,\n",
    "                                perturbed_variables=perturbed_variables,\n",
    "                                perturbation_rate=perturbation_rate,\n",
    "                                correction_time=correction_time)\n",
    "dsd = bm.gamma_dist_d(grid, lambda_init, INITIAL_NU)\n",
    "dsd_scale = mass_init / np.dot(dsd, grid.bin_widths)\n",
    "dsd *= dsd_scale\n",
    "dsd_deriv = np.zeros((3, grid.num_bins))\n",
    "dsd_deriv[0,:] = bm.gamma_dist_d_lam_deriv(grid, lambda_init, INITIAL_NU) * dsd_scale\n",
    "dsd_deriv[1,:] = bm.gamma_dist_d_nu_deriv(grid, lambda_init, INITIAL_NU) * dsd_scale\n",
    "dsd_deriv[2,:] = dsd / const.mass_conc_scale\n",
    "raw4 = desc4.construct_raw(dsd, dsd_deriv=dsd_deriv)\n",
    "init_state4 = bm.ModelState(desc4, raw4)"
   ]
  },
  {
   "cell_type": "code",
   "execution_count": null,
   "id": "211f7936-99d6-41c2-ae7a-2da863d8d401",
   "metadata": {},
   "outputs": [],
   "source": [
    "exp4 = integrator.integrate(end_time, init_state4, [ktens])\n",
    "states4 = exp4.states"
   ]
  },
  {
   "cell_type": "code",
   "execution_count": null,
   "id": "854467ce-7917-4af5-8690-e256c9474cfd",
   "metadata": {},
   "outputs": [],
   "source": [
    "nmom = 6\n",
    "sigma_diags = np.zeros((num_time_steps+1, nmom))\n",
    "for i in range(num_time_steps+1):\n",
    "    perturb_cov = states4[i].perturb_cov()\n",
    "    for j in range(nmom):\n",
    "        sigma_diags[i,j] = np.sqrt(perturb_cov[j,j])"
   ]
  },
  {
   "cell_type": "code",
   "execution_count": null,
   "id": "1ae296ac-3d8d-4ccf-8537-195f464f337c",
   "metadata": {},
   "outputs": [],
   "source": [
    "fig = plt.figure(figsize=(5, 4))\n",
    "labels = [\"Cloud M0\", \"Cloud M3\", \"Cloud M6\", \"Rain M0\", \"Rain M3\", \"Rain M6\"]\n",
    "colors = ['tab:blue', 'tab:orange', 'tab:purple', 'tab:green', 'tab:red', 'tab:brown']\n",
    "for n in range(nmom):\n",
    "    plt.plot(t_eval, sigma_diags[:,n], label=labels[n], color=colors[n])\n",
    "ymax = 10.\n",
    "for i in range(num_time_steps+1):\n",
    "    if autos[i] < accrs[i]:\n",
    "        time = t_eval[i]\n",
    "        break\n",
    "plt.vlines(time, 0., ymax, 'k', label='Accr > Auto')\n",
    "for i in range(num_time_steps+1):\n",
    "    if autos[i] > 0.01 * autos.max():\n",
    "        time = t_eval[i]\n",
    "        break\n",
    "plt.vlines(time, 0., ymax, 'r', linestyle='--', label='Auto at 1% max')\n",
    "plt.ylim([0., ymax])\n",
    "plt.legend(loc='best')"
   ]
  },
  {
   "cell_type": "code",
   "execution_count": null,
   "id": "370da063-37e1-400c-8cb3-7984edf3f01a",
   "metadata": {},
   "outputs": [],
   "source": [
    "wv0 = grid.moment_weight_vector(0)\n",
    "wv3 = grid.moment_weight_vector(3)\n",
    "wv6 = grid.moment_weight_vector(6)\n",
    "wv9 = grid.moment_weight_vector(9)\n",
    "wv12 = grid.moment_weight_vector(12)\n",
    "db_scale = 10. / np.log(10.)\n",
    "perturbed_variables = [\n",
    "    (wv0, bm.LogTransform(), db_scale),\n",
    "    (wv3, bm.LogTransform(), db_scale),\n",
    "    (wv6, bm.LogTransform(), db_scale),\n",
    "    (wv9, bm.LogTransform(), db_scale),\n",
    "    (wv12, bm.LogTransform(), db_scale),\n",
    "]\n",
    "error_rate = 1. # db after one hour\n",
    "perturbation_rate = error_rate**2 * np.eye(5) / 3600.\n",
    "dsd_deriv_names = [\"lambda\", \"nu\", \"M3\"]\n",
    "dsd_deriv_scales = [const.std_diameter, 1., 1 / const.mass_conc_scale]\n",
    "correction_time = 5.\n",
    "desc5 = bm.ModelStateDescriptor(const, grid,\n",
    "                                dsd_deriv_names=dsd_deriv_names,\n",
    "                                dsd_deriv_scales=dsd_deriv_scales,\n",
    "                                perturbed_variables=perturbed_variables,\n",
    "                                perturbation_rate=perturbation_rate,\n",
    "                                correction_time=correction_time)\n",
    "dsd = bm.gamma_dist_d(grid, lambda_init, INITIAL_NU)\n",
    "dsd_scale = mass_init / np.dot(dsd, grid.bin_widths)\n",
    "dsd *= dsd_scale\n",
    "dsd_deriv = np.zeros((3, grid.num_bins))\n",
    "dsd_deriv[0,:] = bm.gamma_dist_d_lam_deriv(grid, lambda_init, INITIAL_NU) * dsd_scale\n",
    "dsd_deriv[1,:] = bm.gamma_dist_d_nu_deriv(grid, lambda_init, INITIAL_NU) * dsd_scale\n",
    "dsd_deriv[2,:] = dsd / const.mass_conc_scale\n",
    "raw5 = desc5.construct_raw(dsd, dsd_deriv=dsd_deriv)\n",
    "init_state5 = bm.ModelState(desc5, raw5)"
   ]
  },
  {
   "cell_type": "code",
   "execution_count": null,
   "id": "395bf5e1-8414-4657-a4e2-53922b5ab8ad",
   "metadata": {},
   "outputs": [],
   "source": [
    "exp5 = integrator.integrate(end_time, init_state5, [ktens])\n",
    "states5 = exp5.states"
   ]
  },
  {
   "cell_type": "code",
   "execution_count": null,
   "id": "5903c9ee-0e85-42c2-bf52-d64e67b5b1fb",
   "metadata": {},
   "outputs": [],
   "source": [
    "moments = [0, 3, 6, 9, 12]\n",
    "nmom = len(moments)\n",
    "sigma_diags = np.zeros((num_time_steps+1, nmom))\n",
    "for i in range(num_time_steps+1):\n",
    "    perturb_cov = states5[i].perturb_cov()\n",
    "    for j in range(nmom):\n",
    "        sigma_diags[i,j] = np.sqrt(perturb_cov[j,j])"
   ]
  },
  {
   "cell_type": "code",
   "execution_count": null,
   "id": "0e816b4a-a5a4-4046-9083-992be2a25d74",
   "metadata": {},
   "outputs": [],
   "source": [
    "fig = plt.figure(figsize=(5, 4))\n",
    "for n in range(nmom):\n",
    "    plt.plot(t_eval, sigma_diags[:,n], label=\"M{}\".format(moments[n]))\n",
    "ymax = 10.\n",
    "for i in range(num_time_steps+1):\n",
    "    if autos[i] < accrs[i]:\n",
    "        time = t_eval[i]\n",
    "        break\n",
    "plt.vlines(time, 0., ymax, 'k', label='Accr > Auto')\n",
    "for i in range(num_time_steps+1):\n",
    "    if autos[i] > 0.01 * autos.max():\n",
    "        time = t_eval[i]\n",
    "        break\n",
    "plt.vlines(time, 0., ymax, 'r', linestyle='--', label='Auto at 1% max')\n",
    "plt.ylim([0., ymax])\n",
    "plt.legend(loc='best')"
   ]
  },
  {
   "cell_type": "code",
   "execution_count": null,
   "id": "ce22b0f4-e5f6-4e5a-8728-667fd6a48f9d",
   "metadata": {},
   "outputs": [],
   "source": [
    "covar_volume_single_cat = np.zeros((num_time_steps+1,))\n",
    "covar_volume_two_cat_2m = np.zeros((num_time_steps+1,))\n",
    "covar_volume_two_cat_3m = np.zeros((num_time_steps+1,))\n",
    "covar_volume_one_cat_5m = np.zeros((num_time_steps+1,))\n",
    "for i in range(num_time_steps+1):\n",
    "    perturb_cov = states2[i].perturb_cov()\n",
    "    covar_volume_single_cat[i] = np.prod(la.svdvals(perturb_cov)[:4])\n",
    "    perturb_cov = states3[i].perturb_cov()\n",
    "    covar_volume_two_cat_2m[i] = np.prod(la.svdvals(perturb_cov)[:4])\n",
    "    perturb_cov = states4[i].perturb_cov()\n",
    "    covar_volume_two_cat_3m[i] = np.prod(la.svdvals(perturb_cov)[:4])\n",
    "    perturb_cov = states5[i].perturb_cov()\n",
    "    covar_volume_one_cat_5m[i] = np.prod(la.svdvals(perturb_cov)[:4])"
   ]
  },
  {
   "cell_type": "code",
   "execution_count": null,
   "id": "029156fe-7941-4293-b230-a9fd8137bbaa",
   "metadata": {},
   "outputs": [],
   "source": [
    "fig = plt.figure(figsize=(5, 4))\n",
    "plt.plot(t_eval, covar_volume_single_cat, label='1-cat 0-3-6-9')\n",
    "plt.plot(t_eval, covar_volume_one_cat_5m, label='1-cat 0-3-6-9-12')\n",
    "plt.plot(t_eval, covar_volume_two_cat_2m, label='2-cat c03r03')\n",
    "plt.plot(t_eval, covar_volume_two_cat_3m, label='2-cat c036r036')\n",
    "#ymax = 4.5e-6\n",
    "for i in range(num_time_steps+1):\n",
    "    if autos[i] < accrs[i]:\n",
    "        time = t_eval[i]\n",
    "        break\n",
    "#plt.vlines(time, 0., ymax, 'k', label='Accr > Auto')\n",
    "for i in range(num_time_steps+1):\n",
    "    if autos[i] > 0.01 * autos.max():\n",
    "        time = t_eval[i]\n",
    "        break\n",
    "#plt.vlines(time, 0., ymax, 'r', linestyle='--', label='Auto at 1% max')\n",
    "#plt.ylim([0., ymax])\n",
    "plt.legend(loc='best')"
   ]
  },
  {
   "cell_type": "code",
   "execution_count": null,
   "id": "5d442947-cf47-4e8d-a912-a46b96e3bb73",
   "metadata": {},
   "outputs": [],
   "source": [
    "ddsddt_single_cat = exp2.ddsddt\n",
    "ddsddt_two_cat_2m = exp3.ddsddt\n",
    "ddsddt_two_cat_3m = exp4.ddsddt\n",
    "ddsddt_one_cat_5m = exp5.ddsddt\n",
    "zeta_covar_single_cat = exp2.zeta_cov\n",
    "zeta_covar_two_cat_2m = exp3.zeta_cov\n",
    "zeta_covar_two_cat_3m = exp4.zeta_cov\n",
    "zeta_covar_one_cat_5m = exp5.zeta_cov"
   ]
  },
  {
   "cell_type": "code",
   "execution_count": null,
   "id": "c0ffa111-f823-40e7-8f5f-b7377c455e72",
   "metadata": {},
   "outputs": [],
   "source": [
    "cm3_amount = np.zeros((num_time_steps+1,))\n",
    "single_cat_cm3_uncertainty = np.zeros((num_time_steps+1,))\n",
    "two_cat_2m_cm3_uncertainty = np.zeros((num_time_steps+1,))\n",
    "two_cat_3m_cm3_uncertainty = np.zeros((num_time_steps+1,))\n",
    "one_cat_5m_cm3_uncertainty = np.zeros((num_time_steps+1,))\n",
    "cm3_vector = grid.moment_weight_vector(3, cloud_only=True)\n",
    "for i in range(num_time_steps+1):\n",
    "    cm3_amount[i], deriv = states2[i].linear_func_raw(cm3_vector, derivative=True,\n",
    "                                          dfdt=ddsddt_single_cat[i,:])\n",
    "    single_cat_cm3_uncertainty[i] = deriv @ zeta_covar_single_cat[i,:,:] @ deriv\n",
    "    _, deriv = states3[i].linear_func_raw(cm3_vector, derivative=True,\n",
    "                                          dfdt=ddsddt_two_cat_2m[i,:])\n",
    "    two_cat_2m_cm3_uncertainty[i] = deriv @ zeta_covar_two_cat_2m[i,:,:] @ deriv\n",
    "    _, deriv = states4[i].linear_func_raw(cm3_vector, derivative=True,\n",
    "                                          dfdt=ddsddt_two_cat_3m[i,:])\n",
    "    two_cat_3m_cm3_uncertainty[i] = deriv @ zeta_covar_two_cat_3m[i,:,:] @ deriv\n",
    "    _, deriv = states4[i].linear_func_raw(cm3_vector, derivative=True,\n",
    "                                          dfdt=ddsddt_one_cat_5m[i,:])\n",
    "    one_cat_5m_cm3_uncertainty[i] = deriv @ zeta_covar_one_cat_5m[i,:,:] @ deriv\n",
    "scale = const.mass_conc_scale / mass_init\n",
    "single_cat_cm3_uncertainty *= scale\n",
    "two_cat_2m_cm3_uncertainty *= scale\n",
    "two_cat_3m_cm3_uncertainty *= scale\n",
    "one_cat_5m_cm3_uncertainty *= scale\n",
    "cm3_amount *= scale"
   ]
  },
  {
   "cell_type": "code",
   "execution_count": null,
   "id": "12213aeb-a95b-43cb-8eec-0e2c6572e304",
   "metadata": {},
   "outputs": [],
   "source": [
    "fig = plt.figure(figsize=(5, 4))\n",
    "plt.plot(t_eval, cm3_amount, 'k', label='Total remaining')\n",
    "plt.plot(t_eval, single_cat_cm3_uncertainty, label='1-cat 0-3-6-9')\n",
    "plt.plot(t_eval, one_cat_5m_cm3_uncertainty, label='1-cat 0-3-6-9-12')\n",
    "plt.plot(t_eval, two_cat_2m_cm3_uncertainty, label='2-cat c03r03')\n",
    "plt.plot(t_eval, two_cat_3m_cm3_uncertainty, label='2-cat c036r036')\n",
    "#ymax = 0.1\n",
    "for i in range(num_time_steps+1):\n",
    "    if autos[i] < accrs[i]:\n",
    "        time = t_eval[i]\n",
    "        break\n",
    "#plt.vlines(time, 0., ymax, 'k', label='Accr > Auto')\n",
    "for i in range(num_time_steps+1):\n",
    "    if autos[i] > 0.01 * autos.max():\n",
    "        time = t_eval[i]\n",
    "        break\n",
    "#plt.vlines(time, 0., ymax, 'r', linestyle='--', label='Auto at 1% max')\n",
    "#plt.ylim([0., ymax])\n",
    "plt.legend(loc='best')"
   ]
  },
  {
   "cell_type": "code",
   "execution_count": null,
   "id": "71b0b479-c4da-4acb-a9c6-17bf48cb4ab4",
   "metadata": {},
   "outputs": [],
   "source": [
    "single_cat_m6 = np.zeros((num_time_steps+1,))\n",
    "single_cat_m6_uncertainty = np.zeros((num_time_steps+1,))\n",
    "two_cat_2m_m6 = np.zeros((num_time_steps+1,))\n",
    "two_cat_2m_m6_uncertainty = np.zeros((num_time_steps+1,))\n",
    "two_cat_3m_m6 = np.zeros((num_time_steps+1,))\n",
    "two_cat_3m_m6_uncertainty = np.zeros((num_time_steps+1,))\n",
    "one_cat_5m_m6 = np.zeros((num_time_steps+1,))\n",
    "one_cat_5m_m6_uncertainty = np.zeros((num_time_steps+1,))\n",
    "m6_vector = grid.moment_weight_vector(6)\n",
    "for i in range(num_time_steps+1):\n",
    "    single_cat_m6[i], deriv = states2[i].linear_func_raw(m6_vector, derivative=True,\n",
    "                                          dfdt=ddsddt_single_cat[i,:])\n",
    "    single_cat_m6_uncertainty[i] = deriv @ zeta_covar_single_cat[i,:,:] @ deriv\n",
    "    two_cat_2m_m6[i], deriv = states3[i].linear_func_raw(m6_vector, derivative=True,\n",
    "                                          dfdt=ddsddt_two_cat_2m[i,:])\n",
    "    two_cat_2m_m6_uncertainty[i] = deriv @ zeta_covar_two_cat_2m[i,:,:] @ deriv\n",
    "    two_cat_3m_m6[i], deriv = states4[i].linear_func_raw(m6_vector, derivative=True,\n",
    "                                          dfdt=ddsddt_two_cat_3m[i,:])\n",
    "    two_cat_3m_m6_uncertainty[i] = deriv @ zeta_covar_two_cat_3m[i,:,:] @ deriv\n",
    "    one_cat_5m_m6[i], deriv = states5[i].linear_func_raw(m6_vector, derivative=True,\n",
    "                                          dfdt=ddsddt_one_cat_5m[i,:])\n",
    "    one_cat_5m_m6_uncertainty[i] = deriv @ zeta_covar_one_cat_5m[i,:,:] @ deriv\n",
    "scale = const.mass_conc_scale * const.std_diameter**6 / const.std_mass\n",
    "single_cat_m6_uncertainty = np.sqrt(single_cat_m6_uncertainty) * scale\n",
    "two_cat_2m_m6_uncertainty = np.sqrt(two_cat_2m_m6_uncertainty) * scale\n",
    "two_cat_3m_m6_uncertainty = np.sqrt(two_cat_3m_m6_uncertainty) * scale\n",
    "one_cat_5m_m6_uncertainty = np.sqrt(one_cat_5m_m6_uncertainty) * scale\n",
    "single_cat_m6 *= scale\n",
    "two_cat_2m_m6 *= scale\n",
    "two_cat_3m_m6 *= scale\n",
    "one_cat_5m_m6 *= scale"
   ]
  },
  {
   "cell_type": "code",
   "execution_count": null,
   "id": "bb1c1a43-e27e-4bf7-888e-a8f9c6257716",
   "metadata": {},
   "outputs": [],
   "source": [
    "fig = plt.figure(figsize=(5, 4))\n",
    "plt.plot(t_eval, single_cat_m6, label='Total M6', color='k')\n",
    "plt.plot(t_eval, single_cat_m6_uncertainty, label='1-cat 0-3-6-9')\n",
    "plt.plot(t_eval, one_cat_5m_m6_uncertainty, label='1-cat 0-3-6-9-12')\n",
    "plt.plot(t_eval, two_cat_2m_m6_uncertainty, label='2-cat c03r03')\n",
    "plt.plot(t_eval, two_cat_3m_m6_uncertainty, label='2-cat c036r036')\n",
    "#ymax = 1.e-17\n",
    "for i in range(num_time_steps+1):\n",
    "    if autos[i] < accrs[i]:\n",
    "        time = t_eval[i]\n",
    "        break\n",
    "#plt.vlines(time, 0., ymax, 'k', label='Accr > Auto')\n",
    "for i in range(num_time_steps+1):\n",
    "    if autos[i] > 0.01 * autos.max():\n",
    "        time = t_eval[i]\n",
    "        break\n",
    "#plt.vlines(time, 0., ymax, 'r', linestyle='--', label='Auto at 1% max')\n",
    "#plt.ylim([0., ymax])\n",
    "plt.legend(loc='best')"
   ]
  },
  {
   "cell_type": "code",
   "execution_count": null,
   "id": "f9a8cebc-4f06-4b4a-bb0a-f610f200492c",
   "metadata": {},
   "outputs": [],
   "source": [
    "fig = plt.figure(figsize=(5, 4))\n",
    "plt.plot(t_eval, single_cat_m6, label='1-cat 0369')\n",
    "plt.plot(t_eval, two_cat_2m_m6, label='2-cat c03r03')\n",
    "plt.plot(t_eval, two_cat_3m_m6, label='2-cat c036r036')\n",
    "#ymax = 1.e-17\n",
    "for i in range(num_time_steps+1):\n",
    "    if autos[i] < accrs[i]:\n",
    "        time = t_eval[i]\n",
    "        break\n",
    "#plt.vlines(time, 0., ymax, 'k', label='Accr > Auto')\n",
    "for i in range(num_time_steps+1):\n",
    "    if autos[i] > 0.01 * autos.max():\n",
    "        time = t_eval[i]\n",
    "        break\n",
    "#plt.vlines(time, 0., ymax, 'r', linestyle='--', label='Auto at 1% max')\n",
    "#plt.ylim([0., ymax])\n",
    "plt.legend(loc='best')"
   ]
  },
  {
   "cell_type": "code",
   "execution_count": null,
   "id": "0249906c-d83a-4d7d-8d21-bb3d5ee0daad",
   "metadata": {},
   "outputs": [],
   "source": [
    "single_cat_m0 = np.zeros((num_time_steps+1,))\n",
    "single_cat_m0_uncertainty = np.zeros((num_time_steps+1,))\n",
    "two_cat_2m_m0 = np.zeros((num_time_steps+1,))\n",
    "two_cat_2m_m0_uncertainty = np.zeros((num_time_steps+1,))\n",
    "two_cat_3m_m0 = np.zeros((num_time_steps+1,))\n",
    "two_cat_3m_m0_uncertainty = np.zeros((num_time_steps+1,))\n",
    "one_cat_5m_m0 = np.zeros((num_time_steps+1,))\n",
    "one_cat_5m_m0_uncertainty = np.zeros((num_time_steps+1,))\n",
    "m0_vector = grid.moment_weight_vector(0)\n",
    "for i in range(num_time_steps+1):\n",
    "    single_cat_m0[i], deriv = states2[i].linear_func_raw(m0_vector, derivative=True,\n",
    "                                          dfdt=ddsddt_single_cat[i,:])\n",
    "    single_cat_m0_uncertainty[i] = deriv @ zeta_covar_single_cat[i,:,:] @ deriv\n",
    "    two_cat_2m_m0[i], deriv = states3[i].linear_func_raw(m0_vector, derivative=True,\n",
    "                                          dfdt=ddsddt_two_cat_2m[i,:])\n",
    "    two_cat_2m_m0_uncertainty[i] = deriv @ zeta_covar_two_cat_2m[i,:,:] @ deriv\n",
    "    two_cat_3m_m0[i], deriv = states4[i].linear_func_raw(m0_vector, derivative=True,\n",
    "                                          dfdt=ddsddt_two_cat_3m[i,:])\n",
    "    two_cat_3m_m0_uncertainty[i] = deriv @ zeta_covar_two_cat_3m[i,:,:] @ deriv\n",
    "    one_cat_5m_m0[i], deriv = states4[i].linear_func_raw(m0_vector, derivative=True,\n",
    "                                          dfdt=ddsddt_one_cat_5m[i,:])\n",
    "    one_cat_5m_m0_uncertainty[i] = deriv @ zeta_covar_one_cat_5m[i,:,:] @ deriv\n",
    "scale = const.mass_conc_scale / const.std_mass\n",
    "single_cat_m0_uncertainty = np.sqrt(single_cat_m0_uncertainty) * scale\n",
    "two_cat_2m_m0_uncertainty = np.sqrt(two_cat_2m_m0_uncertainty) * scale\n",
    "two_cat_3m_m0_uncertainty = np.sqrt(two_cat_3m_m0_uncertainty) * scale\n",
    "one_cat_5m_m0_uncertainty = np.sqrt(one_cat_5m_m0_uncertainty) * scale\n",
    "single_cat_m0 *= scale\n",
    "two_cat_2m_m0 *= scale\n",
    "two_cat_3m_m0 *= scale"
   ]
  },
  {
   "cell_type": "code",
   "execution_count": null,
   "id": "acd5a676-54a6-4501-8eff-dbd2803a8b4c",
   "metadata": {},
   "outputs": [],
   "source": [
    "fig = plt.figure(figsize=(5, 4))\n",
    "plt.plot(t_eval, single_cat_m0, label='Total M0', color='k')\n",
    "plt.plot(t_eval, single_cat_m0_uncertainty, label='1-cat 0-3-6-9')\n",
    "plt.plot(t_eval, one_cat_5m_m0_uncertainty, label='1-cat 0-3-6-9-12')\n",
    "plt.plot(t_eval, two_cat_2m_m0_uncertainty, label='2-cat c03r03')\n",
    "plt.plot(t_eval, two_cat_3m_m0_uncertainty, label='2-cat c036r036')\n",
    "#ymax = 1.e-17\n",
    "for i in range(num_time_steps+1):\n",
    "    if autos[i] < accrs[i]:\n",
    "        time = t_eval[i]\n",
    "        break\n",
    "#plt.vlines(time, 0., ymax, 'k', label='Accr > Auto')\n",
    "for i in range(num_time_steps+1):\n",
    "    if autos[i] > 0.01 * autos.max():\n",
    "        time = t_eval[i]\n",
    "        break\n",
    "#plt.vlines(time, 0., ymax, 'r', linestyle='--', label='Auto at 1% max')\n",
    "#plt.ylim([0., ymax])\n",
    "plt.legend(loc='best')"
   ]
  },
  {
   "cell_type": "code",
   "execution_count": null,
   "id": "67c5ef33-f9b9-4fc3-8761-db14e5a46570",
   "metadata": {},
   "outputs": [],
   "source": [
    "fig = plt.figure(figsize=(5, 4))\n",
    "plt.plot(t_eval, single_cat_m0, label='1-cat 0369')\n",
    "plt.plot(t_eval, two_cat_2m_m0, label='2-cat c03r03')\n",
    "plt.plot(t_eval, two_cat_3m_m0, label='2-cat c036r036')\n",
    "#ymax = 1.e-17\n",
    "for i in range(num_time_steps+1):\n",
    "    if autos[i] < accrs[i]:\n",
    "        time = t_eval[i]\n",
    "        break\n",
    "#plt.vlines(time, 0., ymax, 'k', label='Accr > Auto')\n",
    "for i in range(num_time_steps+1):\n",
    "    if autos[i] > 0.01 * autos.max():\n",
    "        time = t_eval[i]\n",
    "        break\n",
    "#plt.vlines(time, 0., ymax, 'r', linestyle='--', label='Auto at 1% max')\n",
    "#plt.ylim([0., ymax])\n",
    "plt.legend(loc='best')"
   ]
  },
  {
   "cell_type": "code",
   "execution_count": null,
   "id": "9c242ab8-1ac8-4a6c-923b-a11d78c2ff3e",
   "metadata": {},
   "outputs": [],
   "source": []
  }
 ],
 "metadata": {
  "kernelspec": {
   "display_name": "Python 3 (ipykernel)",
   "language": "python",
   "name": "python3"
  },
  "language_info": {
   "codemirror_mode": {
    "name": "ipython",
    "version": 3
   },
   "file_extension": ".py",
   "mimetype": "text/x-python",
   "name": "python",
   "nbconvert_exporter": "python",
   "pygments_lexer": "ipython3",
   "version": "3.9.5"
  },
  "toc": {
   "base_numbering": 1,
   "nav_menu": {},
   "number_sections": true,
   "sideBar": true,
   "skip_h1_title": false,
   "title_cell": "Table of Contents",
   "title_sidebar": "Contents",
   "toc_cell": true,
   "toc_position": {},
   "toc_section_display": true,
   "toc_window_display": false
  }
 },
 "nbformat": 4,
 "nbformat_minor": 5
}
