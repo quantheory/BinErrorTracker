{
 "cells": [
  {
   "cell_type": "code",
   "execution_count": null,
   "id": "0385dd25",
   "metadata": {
    "ExecuteTime": {
     "end_time": "2022-02-08T16:35:13.781622Z",
     "start_time": "2022-02-08T16:35:13.674321Z"
    }
   },
   "outputs": [],
   "source": [
    "from math import isqrt\n",
    "import os.path\n",
    "from time import perf_counter\n",
    "\n",
    "import numpy as np\n",
    "from scipy.special import gamma, gammaln, gammainc\n",
    "import scipy.linalg as la\n",
    "import scipy.integrate as spi\n",
    "import matplotlib\n",
    "import matplotlib.pyplot as plt\n",
    "import netCDF4 as nc4\n",
    "import matplotlib.animation as animation\n",
    "\n",
    "import bin_model as bm"
   ]
  },
  {
   "cell_type": "code",
   "execution_count": null,
   "id": "86d96460-b66f-4c6f-a90f-523d12ced929",
   "metadata": {},
   "outputs": [],
   "source": [
    "# Define physical constants.\n",
    "RHO_WATER = 1000. # Density of water (kg/m^3)\n",
    "RHO_AIR = 1.2 # Density of air (kg/m^3)\n",
    "\n",
    "# Model physical parameters.\n",
    "RAIN_D = 1.e-4 # Cutoff diameter between particle sizes defined as cloud vs. rain (m).\n",
    "\n",
    "# Grid parameters\n",
    "D_MIN = 1.e-6 # Minimum particle diameter (m).\n",
    "D_MAX = 1.e-3 # Maximum particle diameter (m).\n",
    "NUM_BINS = 90 # Number of evenly spaced bins in the simulation\n",
    "\n",
    "# Initial conditions\n",
    "INITIAL_MASS = 4.e-4 # Initial mass concentration (kg/m^3)\n",
    "INITIAL_NC = 100. # Initial number concentration (cm^-3)\n",
    "INITIAL_NU = 11. # Shape parameter for initial condition\n",
    "\n",
    "# Numerical tuning parameters.\n",
    "STD_DIAMETER = 1.e-4 # Internal scaling for particle size (m)\n",
    "MASS_CONC_SCALE = INITIAL_MASS\n",
    "# Long's kernel magnitude kc (m^3/kg^2/s)\n",
    "long_kernel_size = 9.44e9\n",
    "TIME_SCALE = 1. / (long_kernel_size * ((np.pi*RHO_WATER/6.)*STD_DIAMETER**3)\n",
    "                       * MASS_CONC_SCALE)"
   ]
  },
  {
   "cell_type": "code",
   "execution_count": null,
   "id": "22aba06e-c40d-423f-b67c-9192423ad05f",
   "metadata": {},
   "outputs": [],
   "source": [
    "const = bm.ModelConstants(rho_water=RHO_WATER, rho_air=RHO_AIR, std_diameter=STD_DIAMETER,\n",
    "                          rain_d=RAIN_D, mass_conc_scale=MASS_CONC_SCALE,\n",
    "                          time_scale=TIME_SCALE)\n",
    "kernel = bm.LongKernel(const)\n",
    "grid = bm.GeometricMassGrid(const, d_min=D_MIN, d_max=D_MAX, num_bins=NUM_BINS)\n",
    "ktens = bm.KernelTensor(kernel, grid)"
   ]
  },
  {
   "cell_type": "code",
   "execution_count": null,
   "id": "150ca30f",
   "metadata": {
    "ExecuteTime": {
     "end_time": "2022-02-08T16:35:16.601541Z",
     "start_time": "2022-02-08T16:35:16.595166Z"
    }
   },
   "outputs": [],
   "source": [
    "mass_init = INITIAL_MASS\n",
    "m3_scaled_init = mass_init / const.std_mass # kg^-1\n",
    "m3_init = mass_init / (const.rho_water * np.pi/6.) # m^3 / kg 3rd moment\n",
    "m0_init = INITIAL_NC * 1.e6 * const.rho_air # kg^-1 number concentration\n",
    "lambda_init = ( m0_init * gamma(INITIAL_NU + 3)/ (m3_init * gamma(INITIAL_NU)) )**(1./3.) # m^-1 scale parameter"
   ]
  },
  {
   "cell_type": "code",
   "execution_count": null,
   "id": "4dd9249f",
   "metadata": {
    "ExecuteTime": {
     "end_time": "2022-02-08T16:35:27.508927Z",
     "start_time": "2022-02-08T16:35:27.503469Z"
    }
   },
   "outputs": [],
   "source": [
    "dsd_deriv_names = ['lambda', 'nu']\n",
    "dsd_deriv_scales = [const.std_diameter, 1.]\n",
    "desc = bm.ModelStateDescriptor(const, grid,\n",
    "                               dsd_deriv_names=dsd_deriv_names,\n",
    "                               dsd_deriv_scales=dsd_deriv_scales)\n",
    "dsd = bm.gamma_dist_d(grid, lambda_init, INITIAL_NU)\n",
    "dsd_scale = mass_init / np.dot(dsd, grid.bin_widths)\n",
    "dsd *= dsd_scale\n",
    "dsd_deriv = np.zeros((2, grid.num_bins))\n",
    "dsd_deriv[0,:] = bm.gamma_dist_d_lam_deriv(grid, lambda_init, INITIAL_NU) * dsd_scale\n",
    "dsd_deriv[1,:] = bm.gamma_dist_d_nu_deriv(grid, lambda_init, INITIAL_NU) * dsd_scale\n",
    "raw = desc.construct_raw(dsd, dsd_deriv=dsd_deriv)\n",
    "init_state = bm.ModelState(desc, raw)"
   ]
  },
  {
   "cell_type": "code",
   "execution_count": null,
   "id": "0c543e44-402e-4cc1-b6d5-908c620e9589",
   "metadata": {},
   "outputs": [],
   "source": [
    "nb = grid.num_bins\n",
    "y_init = np.zeros((3*nb,))\n",
    "y_init[:nb] = desc.dsd_raw(raw)\n",
    "y_init[nb:2*nb] = desc.dsd_deriv_raw(raw, 'lambda')\n",
    "y_init[2*nb:] = desc.dsd_deriv_raw(raw, 'nu')"
   ]
  },
  {
   "cell_type": "code",
   "execution_count": null,
   "id": "5fde86be",
   "metadata": {
    "ExecuteTime": {
     "end_time": "2022-02-08T16:36:02.876693Z",
     "start_time": "2022-02-08T16:35:45.997103Z"
    }
   },
   "outputs": [],
   "source": [
    "tscale = const.time_scale\n",
    "end_time = 5400.\n",
    "num_time_steps = 120\n",
    "dt = end_time / num_time_steps\n",
    "integrator = bm.RK45Integrator(const, dt)\n",
    "t_eval, states = integrator.integrate(end_time, init_state, [ktens])\n",
    "all_y = np.zeros((len(t_eval), 3*grid.num_bins,))\n",
    "for i in range(len(t_eval)):\n",
    "    raw = states[i].raw\n",
    "    all_y[i,:grid.num_bins] = desc.dsd_raw(raw)\n",
    "    all_y[i,grid.num_bins:2*grid.num_bins] = desc.dsd_deriv_raw(raw,\n",
    "                                                                'lambda')\n",
    "    all_y[i,2*grid.num_bins:] = desc.dsd_deriv_raw(raw, 'nu')"
   ]
  },
  {
   "cell_type": "code",
   "execution_count": null,
   "id": "08f34a90",
   "metadata": {},
   "outputs": [],
   "source": [
    "bin_midpoints = 0.5 * (grid.bin_bounds[:-1] + grid.bin_bounds[1:])\n",
    "plot_lxs = 2. + bin_midpoints / (3.*np.log(10))"
   ]
  },
  {
   "cell_type": "code",
   "execution_count": null,
   "id": "680bc3e7",
   "metadata": {
    "ExecuteTime": {
     "end_time": "2022-02-08T16:36:04.524051Z",
     "start_time": "2022-02-08T16:36:02.902396Z"
    }
   },
   "outputs": [],
   "source": [
    "mass_convert = mass_init * 1.e3 * (3.*np.log(10))\n",
    "ymin = 0.\n",
    "ymax = 0.4*mass_convert\n",
    "fig = plt.figure(figsize=(5, 4))\n",
    "ax = fig.add_subplot(autoscale_on=False,\n",
    "                     xlim=(2. + grid.lx_min/(3.*np.log(10)), 2. + grid.lx_max/(3.*np.log(10))),\n",
    "                     ylim=(ymin, ymax))\n",
    "ax.set_xlabel(\"$log_{10}(D)$ ($D$ in microns)\")\n",
    "ax.set_ylabel(\"$dm/dlog_{10}(D)$ (g/kg)\")\n",
    "ax.grid()\n",
    "\n",
    "line, = ax.plot(plot_lxs, y_init[:grid.num_bins], 'o-', lw=2)\n",
    "time_template = 'time = %.1fs'\n",
    "time_text = ax.text(0.05, 0.9, '', transform=ax.transAxes)\n",
    "plt.vlines(2., ymin, ymax, 'k')\n",
    "\n",
    "def animate(i):\n",
    "    thisy = mass_convert*all_y[i,:grid.num_bins]\n",
    "    line.set_data(plot_lxs, thisy)\n",
    "    time_text.set_text(time_template % (i*dt))\n",
    "    return line, time_text\n",
    "\n",
    "ani = animation.FuncAnimation(\n",
    "    fig, animate, len(t_eval), interval=dt*1000*(5./end_time), blit=True)\n",
    "ani.save(\"mass_evolution.gif\")\n",
    "plt.show()"
   ]
  },
  {
   "cell_type": "code",
   "execution_count": null,
   "id": "ed18a2ce",
   "metadata": {
    "ExecuteTime": {
     "end_time": "2022-02-08T16:36:28.959713Z",
     "start_time": "2022-02-08T16:36:28.953325Z"
    }
   },
   "outputs": [],
   "source": [
    "m3_init"
   ]
  },
  {
   "cell_type": "code",
   "execution_count": null,
   "id": "39c8e28b-9a99-459b-9986-be6eef876ef1",
   "metadata": {},
   "outputs": [],
   "source": [
    "print(init_state.dsd_moment(3))"
   ]
  },
  {
   "cell_type": "code",
   "execution_count": null,
   "id": "fb243930",
   "metadata": {
    "ExecuteTime": {
     "end_time": "2022-02-08T16:36:30.102074Z",
     "start_time": "2022-02-08T16:36:30.094322Z"
    }
   },
   "outputs": [],
   "source": [
    "final = states[-1].dsd_moment(3)\n",
    "fallout = states[-1].fallout()/(np.pi*const.rho_water/6.)\n",
    "print(final+fallout, final, fallout)"
   ]
  },
  {
   "cell_type": "code",
   "execution_count": null,
   "id": "76440506",
   "metadata": {
    "ExecuteTime": {
     "end_time": "2022-02-08T16:36:31.078526Z",
     "start_time": "2022-02-08T16:36:31.066524Z"
    }
   },
   "outputs": [],
   "source": [
    "def calc_moment_and_gradient(state, dfdt_val, n, cloud_only=None, rain_only=None):\n",
    "    weight_vector = grid.moment_weight_vector(n, cloud_only, rain_only)\n",
    "    mom, grad = state.linear_func_raw(weight_vector, derivative=True, dfdt=dfdt_val)\n",
    "    scale = const.mass_conc_scale * const.std_diameter**(n) / const.std_mass\n",
    "    mom *= scale\n",
    "    grad *= scale\n",
    "    return mom, grad / mom"
   ]
  },
  {
   "cell_type": "code",
   "execution_count": null,
   "id": "2da56c9f-5ab8-490c-a237-97f673483bfe",
   "metadata": {},
   "outputs": [],
   "source": [
    "def dfdt_and_deriv(state, proc_tens):\n",
    "    nb = grid.num_bins\n",
    "    dsd_raw = state.desc.dsd_raw(state.raw)\n",
    "    dfdt = np.zeros((nb,))\n",
    "    ddn = state.desc.dsd_deriv_num\n",
    "    deriv_tot = np.zeros((nb, nb))\n",
    "    for pt in proc_tens:\n",
    "        rate, derivative = pt.calc_rate(dsd_raw, out_flux=True, derivative=True)\n",
    "        dfdt += rate[:nb]\n",
    "        deriv_tot += derivative[:nb,:nb]\n",
    "    dsd_deriv_raw = state.desc.dsd_deriv_raw(state.raw)\n",
    "    deriv_len = ddn + 1\n",
    "    dfdt_deriv = np.zeros((deriv_len, nb))\n",
    "    dfdt_deriv[0,:] += deriv_tot @ dfdt\n",
    "    dfdt_deriv[1:,:] += dsd_deriv_raw @ deriv_tot.T\n",
    "    return dfdt, dfdt_deriv"
   ]
  },
  {
   "cell_type": "code",
   "execution_count": null,
   "id": "1fcd4a04",
   "metadata": {},
   "outputs": [],
   "source": [
    "def moment_rate_and_grad(state, dfdt, dfdt_deriv, n,\n",
    "                         cloud_only=None, rain_only=None):\n",
    "    weight_vector = grid.moment_weight_vector(n, cloud_only, rain_only)\n",
    "    rate, grad = state.linear_func_rate_raw(weight_vector, dfdt,\n",
    "                                            dfdt_deriv=dfdt_deriv)\n",
    "    scale = const.mass_conc_scale * const.std_diameter**(n) / const.std_mass \\\n",
    "        / const.time_scale\n",
    "    rate *= scale\n",
    "    grad *= scale\n",
    "    return rate, grad / rate"
   ]
  },
  {
   "cell_type": "code",
   "execution_count": null,
   "id": "d5fb2e82",
   "metadata": {
    "ExecuteTime": {
     "end_time": "2022-02-08T16:36:41.781048Z",
     "start_time": "2022-02-08T16:36:37.496721Z"
    }
   },
   "outputs": [],
   "source": [
    "mom0s = np.zeros((num_time_steps+1,))\n",
    "mom3s = np.zeros((num_time_steps+1,))\n",
    "mom6s = np.zeros((num_time_steps+1,))\n",
    "mom9s = np.zeros((num_time_steps+1,))\n",
    "mom_jacobian = np.zeros((num_time_steps+1, 4, 3))\n",
    "autos = np.zeros((num_time_steps+1,))\n",
    "accrs = np.zeros((num_time_steps+1,))\n",
    "cloud_lx = np.log(const.rain_m)\n",
    "cloud_idx = grid.find_bin(cloud_lx)\n",
    "if (grid.bin_bounds[cloud_idx+1] - cloud_lx) < 1.e-10:\n",
    "    cloud_idx += 1\n",
    "cloud_vector = np.zeros((nb,))\n",
    "cloud_vector[:cloud_idx] = 1.\n",
    "for i in range(num_time_steps+1):\n",
    "    dfdt_val = states[i].dsd_time_deriv_raw([ktens])[:grid.num_bins]\n",
    "    mom0s[i], mom_jacobian[i,0,:] = calc_moment_and_gradient(states[i], dfdt_val, 0)\n",
    "    mom3s[i], mom_jacobian[i,1,:] = calc_moment_and_gradient(states[i], dfdt_val, 3)\n",
    "    mom6s[i], mom_jacobian[i,2,:] = calc_moment_and_gradient(states[i], dfdt_val, 6)\n",
    "    mom9s[i], mom_jacobian[i,3,:] = calc_moment_and_gradient(states[i], dfdt_val, 9)\n",
    "    autos[i], accrs[i] = states[i].rain_prod_breakdown(ktens, cloud_vector)"
   ]
  },
  {
   "cell_type": "code",
   "execution_count": null,
   "id": "4b845d49",
   "metadata": {
    "ExecuteTime": {
     "end_time": "2022-02-08T18:25:06.557836Z",
     "start_time": "2022-02-08T18:25:03.997381Z"
    }
   },
   "outputs": [],
   "source": [
    "momc0s = np.zeros((num_time_steps+1,))\n",
    "momc3s = np.zeros((num_time_steps+1,))\n",
    "momr0s = np.zeros((num_time_steps+1,))\n",
    "momr3s = np.zeros((num_time_steps+1,))\n",
    "mom_2cat_jacobian = np.zeros((num_time_steps+1, 4, 3))\n",
    "for i in range(num_time_steps+1):\n",
    "    dfdt_val = states[i].dsd_time_deriv_raw([ktens])[:grid.num_bins]\n",
    "    momc0s[i], mom_2cat_jacobian[i,0,:] = calc_moment_and_gradient(states[i], dfdt_val, 0,\n",
    "                                                                   cloud_only=True)\n",
    "    momc3s[i], mom_2cat_jacobian[i,1,:] = calc_moment_and_gradient(states[i], dfdt_val, 3,\n",
    "                                                                   cloud_only=True)\n",
    "    momr0s[i], mom_2cat_jacobian[i,2,:] = calc_moment_and_gradient(states[i], dfdt_val, 0,\n",
    "                                                                   rain_only=True)\n",
    "    momr3s[i], mom_2cat_jacobian[i,3,:] = calc_moment_and_gradient(states[i], dfdt_val, 3,\n",
    "                                                                   rain_only=True)"
   ]
  },
  {
   "cell_type": "code",
   "execution_count": null,
   "id": "198a798a",
   "metadata": {
    "ExecuteTime": {
     "end_time": "2022-02-08T16:37:54.234990Z",
     "start_time": "2022-02-08T16:37:51.428759Z"
    }
   },
   "outputs": [],
   "source": [
    "mom0s = np.zeros((num_time_steps+1,))\n",
    "mom3s = np.zeros((num_time_steps+1,))\n",
    "mom4s = np.zeros((num_time_steps+1,))\n",
    "mom5s = np.zeros((num_time_steps+1,))\n",
    "mom_small_jacobian = np.zeros((num_time_steps+1, 4, 3))\n",
    "for i in range(num_time_steps+1):\n",
    "    dfdt_val = states[i].dsd_time_deriv_raw([ktens])[:grid.num_bins]\n",
    "    mom0s[i], mom_small_jacobian[i,0,:] = calc_moment_and_gradient(states[i], dfdt_val, 0)\n",
    "    mom3s[i], mom_small_jacobian[i,1,:] = calc_moment_and_gradient(states[i], dfdt_val, 3)\n",
    "    mom4s[i], mom_small_jacobian[i,2,:] = calc_moment_and_gradient(states[i], dfdt_val, 4)\n",
    "    mom5s[i], mom_small_jacobian[i,3,:] = calc_moment_and_gradient(states[i], dfdt_val, 5)"
   ]
  },
  {
   "cell_type": "code",
   "execution_count": null,
   "id": "ff432c89",
   "metadata": {
    "ExecuteTime": {
     "end_time": "2022-02-08T18:03:03.291994Z",
     "start_time": "2022-02-08T18:03:00.710370Z"
    }
   },
   "outputs": [],
   "source": [
    "mom_6_jacobian = np.zeros((num_time_steps+1, 6, 3))\n",
    "mom_6_jacobian[:,0,:] = mom_small_jacobian[:,0,:]\n",
    "mom_6_jacobian[:,3:,:] = mom_small_jacobian[:,1:,:]\n",
    "mom1s = np.zeros((num_time_steps+1,))\n",
    "mom2s = np.zeros((num_time_steps+1,))\n",
    "for i in range(num_time_steps+1):\n",
    "    dfdt_val = states[i].dsd_time_deriv_raw([ktens])[:grid.num_bins]\n",
    "    mom1s[i], mom_6_jacobian[i,1,:] = calc_moment_and_gradient(states[i], dfdt_val, 1)\n",
    "    mom2s[i], mom_6_jacobian[i,2,:] = calc_moment_and_gradient(states[i], dfdt_val, 2)"
   ]
  },
  {
   "cell_type": "code",
   "execution_count": null,
   "id": "4a53692d",
   "metadata": {
    "ExecuteTime": {
     "end_time": "2022-02-08T16:39:02.654986Z",
     "start_time": "2022-02-08T16:38:14.627388Z"
    }
   },
   "outputs": [],
   "source": [
    "mom0_rates = np.zeros((num_time_steps+1,))\n",
    "mom3_rates = np.zeros((num_time_steps+1,))\n",
    "mom6_rates = np.zeros((num_time_steps+1,))\n",
    "mom9_rates = np.zeros((num_time_steps+1,))\n",
    "process_mom_jacobian = np.zeros((num_time_steps+1, 4, 3))\n",
    "for i in range(num_time_steps+1):\n",
    "    dfdt_val, dfdt_deriv = dfdt_and_deriv(states[i], [ktens])\n",
    "    rate_out = moment_rate_and_grad(states[i], dfdt_val, dfdt_deriv, 0)\n",
    "    mom0_rates[i], process_mom_jacobian[i,0,:] = rate_out\n",
    "    rate_out = moment_rate_and_grad(states[i], dfdt_val, dfdt_deriv, 3)\n",
    "    mom3_rates[i], process_mom_jacobian[i,1,:] = rate_out\n",
    "    rate_out = moment_rate_and_grad(states[i], dfdt_val, dfdt_deriv, 6)\n",
    "    mom6_rates[i], process_mom_jacobian[i,2,:] = rate_out\n",
    "    rate_out = moment_rate_and_grad(states[i], dfdt_val, dfdt_deriv, 9)\n",
    "    mom9_rates[i], process_mom_jacobian[i,3,:] = rate_out"
   ]
  },
  {
   "cell_type": "code",
   "execution_count": null,
   "id": "8d3b7db3",
   "metadata": {
    "ExecuteTime": {
     "end_time": "2022-02-08T16:39:02.704029Z",
     "start_time": "2022-02-08T16:39:02.678107Z"
    }
   },
   "outputs": [],
   "source": [
    "fig = plt.figure(figsize=(5, 4))\n",
    "plt.plot(t_eval, mom9_rates)"
   ]
  },
  {
   "cell_type": "code",
   "execution_count": null,
   "id": "cd40d997",
   "metadata": {
    "ExecuteTime": {
     "end_time": "2022-02-08T17:29:23.992438Z",
     "start_time": "2022-02-08T17:29:23.962513Z"
    }
   },
   "outputs": [],
   "source": [
    "sigma_mom0_rate = np.zeros((num_time_steps+1,))\n",
    "sigma_mom3_rate = np.zeros((num_time_steps+1,))\n",
    "sigma_mom6_rate = np.zeros((num_time_steps+1,))\n",
    "sigma_mom9_rate = np.zeros((num_time_steps+1,))\n",
    "for i in range(num_time_steps+1):\n",
    "    mom_inv = la.pinv(mom_jacobian[i,:,:])\n",
    "    pj = process_mom_jacobian[i,:,:]\n",
    "    pj[0,:] = mom0_rates[i] / mom0s[i] * (pj[0,:] - mom_jacobian[i,0,:])\n",
    "    pj[1,:] = mom3_rates[i] / mom3s[i] * (pj[1,:] - mom_jacobian[i,1,:])\n",
    "    pj[2,:] = mom6_rates[i] / mom6s[i] * (pj[2,:] - mom_jacobian[i,2,:])\n",
    "    pj[3,:] = mom9_rates[i] / mom9s[i] * (pj[3,:] - mom_jacobian[i,3,:])\n",
    "    cov = pj @ mom_inv @ np.eye(4) @ mom_inv.T @ pj.T\n",
    "    sigma_mom0_rate[i] = np.sqrt(cov[0,0])\n",
    "    sigma_mom3_rate[i] = np.sqrt(cov[1,1])\n",
    "    sigma_mom6_rate[i] = np.sqrt(cov[2,2])\n",
    "    sigma_mom9_rate[i] = np.sqrt(cov[3,3])"
   ]
  },
  {
   "cell_type": "code",
   "execution_count": null,
   "id": "423f4a62",
   "metadata": {
    "ExecuteTime": {
     "end_time": "2022-02-08T17:36:00.925921Z",
     "start_time": "2022-02-08T17:36:00.792906Z"
    }
   },
   "outputs": [],
   "source": [
    "fig = plt.figure(figsize=(5, 4))\n",
    "plt.plot(t_eval, sigma_mom0_rate, label=\"M0\")\n",
    "#plt.plot(t_eval, sigma_mom3_rate)\n",
    "plt.plot(t_eval, sigma_mom6_rate, label=\"M6\")\n",
    "plt.plot(t_eval, sigma_mom9_rate, label=\"M9\")\n",
    "ymax = 0.1\n",
    "for i in range(num_time_steps+1):\n",
    "    if autos[i] < accrs[i]:\n",
    "        time = t_eval[i]\n",
    "        break\n",
    "plt.vlines(time, 0., ymax, 'k', label='Accr > Auto')\n",
    "for i in range(num_time_steps+1):\n",
    "    if autos[i] > 0.01 * autos.max():\n",
    "        time = t_eval[i]\n",
    "        break\n",
    "plt.vlines(time, 0., ymax, 'r', linestyle='--', label='Auto at 1% max')\n",
    "plt.ylim([0., ymax])\n",
    "plt.legend(loc='best')\n",
    "plt.savefig('m0369_predictability.png')"
   ]
  },
  {
   "cell_type": "code",
   "execution_count": null,
   "id": "3f0dec8f",
   "metadata": {
    "ExecuteTime": {
     "end_time": "2022-02-08T16:40:06.121186Z",
     "start_time": "2022-02-08T16:39:40.768021Z"
    }
   },
   "outputs": [],
   "source": [
    "mom4_rates = np.zeros((num_time_steps+1,))\n",
    "mom5_rates = np.zeros((num_time_steps+1,))\n",
    "process_small_jacobian = np.zeros((num_time_steps+1, 4, 3))\n",
    "process_small_jacobian[:,:2,:] = process_mom_jacobian[:,:2,:]\n",
    "for i in range(num_time_steps+1):\n",
    "    dfdt_val, dfdt_deriv = dfdt_and_deriv(states[i], [ktens])\n",
    "    rate_out = moment_rate_and_grad(states[i], dfdt_val, dfdt_deriv, 4)\n",
    "    mom4_rates[i], process_small_jacobian[i,2,:] = rate_out\n",
    "    rate_out = moment_rate_and_grad(states[i], dfdt_val, dfdt_deriv, 5)\n",
    "    mom5_rates[i], process_small_jacobian[i,3,:] = rate_out"
   ]
  },
  {
   "cell_type": "code",
   "execution_count": null,
   "id": "ab0cb5ea",
   "metadata": {
    "ExecuteTime": {
     "end_time": "2022-02-08T17:29:00.168598Z",
     "start_time": "2022-02-08T17:29:00.137416Z"
    }
   },
   "outputs": [],
   "source": [
    "sigma_small_mom0_rate = np.zeros((num_time_steps+1,))\n",
    "sigma_small_mom3_rate = np.zeros((num_time_steps+1,))\n",
    "sigma_small_mom4_rate = np.zeros((num_time_steps+1,))\n",
    "sigma_small_mom5_rate = np.zeros((num_time_steps+1,))\n",
    "for i in range(num_time_steps+1):\n",
    "    mom_inv = la.pinv(mom_small_jacobian[i,:,:])\n",
    "    pj = process_small_jacobian[i,:,:]\n",
    "    pj[0,:] = mom0_rates[i] / mom0s[i] * (pj[0,:] - mom_small_jacobian[i,0,:])\n",
    "    pj[1,:] = mom3_rates[i] / mom3s[i] * (pj[1,:] - mom_small_jacobian[i,1,:])\n",
    "    pj[2,:] = mom4_rates[i] / mom4s[i] * (pj[2,:] - mom_small_jacobian[i,2,:])\n",
    "    pj[3,:] = mom5_rates[i] / mom5s[i] * (pj[3,:] - mom_small_jacobian[i,3,:])\n",
    "    cov = pj @ mom_inv @ np.eye(4) @ mom_inv.T @ pj.T\n",
    "    sigma_small_mom0_rate[i] = np.sqrt(cov[0,0])\n",
    "    sigma_small_mom3_rate[i] = np.sqrt(cov[1,1])\n",
    "    sigma_small_mom4_rate[i] = np.sqrt(cov[2,2])\n",
    "    sigma_small_mom5_rate[i] = np.sqrt(cov[3,3])"
   ]
  },
  {
   "cell_type": "code",
   "execution_count": null,
   "id": "a14e2edd",
   "metadata": {
    "ExecuteTime": {
     "end_time": "2022-02-08T17:36:22.614293Z",
     "start_time": "2022-02-08T17:36:22.483653Z"
    }
   },
   "outputs": [],
   "source": [
    "fig = plt.figure(figsize=(5, 4))\n",
    "plt.plot(t_eval, sigma_small_mom0_rate, label=\"M0\")\n",
    "#plt.plot(t_eval, sigma_small_mom3_rate)\n",
    "plt.plot(t_eval, sigma_small_mom4_rate, label=\"M4\")\n",
    "plt.plot(t_eval, sigma_small_mom5_rate, label=\"M5\")\n",
    "ymax = 0.1\n",
    "for i in range(num_time_steps+1):\n",
    "    if autos[i] < accrs[i]:\n",
    "        time = t_eval[i]\n",
    "        break\n",
    "plt.vlines(time, 0., ymax, 'k', label='Accr > Auto')\n",
    "for i in range(num_time_steps+1):\n",
    "    if autos[i] > 0.01 * autos.max():\n",
    "        time = t_eval[i]\n",
    "        break\n",
    "plt.vlines(time, 0., ymax, 'r', linestyle='--', label='Auto at 1% max')\n",
    "plt.ylim([0., ymax])\n",
    "plt.legend(loc='best')\n",
    "plt.savefig('m0345_predictability.png')"
   ]
  },
  {
   "cell_type": "code",
   "execution_count": null,
   "id": "6913fb1b",
   "metadata": {
    "ExecuteTime": {
     "end_time": "2022-02-08T16:40:49.453501Z",
     "start_time": "2022-02-08T16:40:49.404548Z"
    }
   },
   "outputs": [],
   "source": [
    "fig = plt.figure(figsize=(5, 4))\n",
    "ax = fig.gca()\n",
    "ax.plot(t_eval, 10.*np.log10(mom5s), 'k')\n",
    "ax.plot(t_eval, 10.*np.log10(mom5_rates), 'r--')"
   ]
  },
  {
   "cell_type": "code",
   "execution_count": null,
   "id": "c69d3628",
   "metadata": {
    "ExecuteTime": {
     "end_time": "2022-02-08T16:40:52.680336Z",
     "start_time": "2022-02-08T16:40:52.629440Z"
    }
   },
   "outputs": [],
   "source": [
    "fig = plt.figure(figsize=(5, 4))\n",
    "ax = fig.gca()\n",
    "ax.plot(t_eval, 10.*np.log10(mom9s), 'k')\n",
    "ax.plot(t_eval, 10.*np.log10(mom9_rates), 'r--')"
   ]
  },
  {
   "cell_type": "code",
   "execution_count": null,
   "id": "f4aa4d27",
   "metadata": {
    "ExecuteTime": {
     "end_time": "2022-02-08T16:41:25.304143Z",
     "start_time": "2022-02-08T16:40:55.744199Z"
    }
   },
   "outputs": [],
   "source": [
    "momc0_rates = np.zeros((num_time_steps+1,))\n",
    "momc3_rates = np.zeros((num_time_steps+1,))\n",
    "momr0_rates = np.zeros((num_time_steps+1,))\n",
    "momr3_rates = np.zeros((num_time_steps+1,))\n",
    "process_2cat_jacobian = np.zeros((num_time_steps+1, 4, 3))\n",
    "for i in range(num_time_steps+1):\n",
    "    dfdt_val, dfdt_deriv = dfdt_and_deriv(states[i], [ktens])\n",
    "    rate_out = moment_rate_and_grad(states[i], dfdt_val, dfdt_deriv, 0,\n",
    "                                    cloud_only=True)\n",
    "    momc0_rates[i], process_2cat_jacobian[i,0,:] = rate_out\n",
    "    rate_out = moment_rate_and_grad(states[i], dfdt_val, dfdt_deriv, 3,\n",
    "                                    cloud_only=True)\n",
    "    momc3_rates[i], process_2cat_jacobian[i,1,:] = rate_out\n",
    "    rate_out = moment_rate_and_grad(states[i], dfdt_val, dfdt_deriv, 0,\n",
    "                                    rain_only=True)\n",
    "    momr0_rates[i], process_2cat_jacobian[i,2,:] = rate_out\n",
    "    rate_out = moment_rate_and_grad(states[i], dfdt_val, dfdt_deriv, 3,\n",
    "                                    rain_only=True)\n",
    "    momr3_rates[i], process_2cat_jacobian[i,3,:] = rate_out"
   ]
  },
  {
   "cell_type": "code",
   "execution_count": null,
   "id": "90c38aa5",
   "metadata": {
    "ExecuteTime": {
     "end_time": "2022-02-08T17:30:44.270467Z",
     "start_time": "2022-02-08T17:30:44.238897Z"
    }
   },
   "outputs": [],
   "source": [
    "sigma_2cat_momc0_rate = np.zeros((num_time_steps+1,))\n",
    "sigma_2cat_momc3_rate = np.zeros((num_time_steps+1,))\n",
    "sigma_2cat_momr0_rate = np.zeros((num_time_steps+1,))\n",
    "sigma_2cat_momr3_rate = np.zeros((num_time_steps+1,))\n",
    "for i in range(num_time_steps+1):\n",
    "    mom_inv = la.pinv(mom_2cat_jacobian[i,:,:])\n",
    "    pj = process_2cat_jacobian[i,:,:]\n",
    "    pj[0,:] = momc0_rates[i] / momc0s[i] * (pj[0,:] - mom_2cat_jacobian[i,0,:])\n",
    "    pj[1,:] = momc3_rates[i] / momc3s[i] * (pj[1,:] - mom_2cat_jacobian[i,1,:])\n",
    "    pj[2,:] = momr0_rates[i] / momr0s[i] * (pj[2,:] - mom_2cat_jacobian[i,2,:])\n",
    "    pj[3,:] = momr3_rates[i] / momr3s[i] * (pj[3,:] - mom_2cat_jacobian[i,3,:])\n",
    "    cov = pj @ mom_inv @ np.eye(4) @ mom_inv.T @ pj.T\n",
    "    sigma_2cat_momc0_rate[i] = np.sqrt(cov[0,0])\n",
    "    sigma_2cat_momc3_rate[i] = np.sqrt(cov[1,1])\n",
    "    sigma_2cat_momr0_rate[i] = np.sqrt(cov[2,2])\n",
    "    sigma_2cat_momr3_rate[i] = np.sqrt(cov[3,3])"
   ]
  },
  {
   "cell_type": "code",
   "execution_count": null,
   "id": "e1524cab",
   "metadata": {
    "ExecuteTime": {
     "end_time": "2022-02-08T18:28:07.238651Z",
     "start_time": "2022-02-08T18:28:07.106395Z"
    }
   },
   "outputs": [],
   "source": [
    "fig = plt.figure(figsize=(5, 4))\n",
    "plt.plot(t_eval, sigma_2cat_momc0_rate, label=\"Cloud M0\")\n",
    "plt.plot(t_eval, sigma_2cat_momc3_rate, label=\"Cloud M3\")\n",
    "plt.plot(t_eval, sigma_2cat_momr0_rate, label=\"Rain M0\")\n",
    "plt.plot(t_eval, sigma_2cat_momr3_rate, label=\"Rain M3\")\n",
    "ymax = 0.1\n",
    "for i in range(num_time_steps+1):\n",
    "    if autos[i] < accrs[i]:\n",
    "        time = t_eval[i]\n",
    "        break\n",
    "plt.vlines(time, 0., ymax, 'k', label='Accr > Auto')\n",
    "for i in range(num_time_steps+1):\n",
    "    if autos[i] > 0.01 * autos.max():\n",
    "        time = t_eval[i]\n",
    "        break\n",
    "plt.vlines(time, 0., ymax, 'r', linestyle='--', label='Auto at 1% max')\n",
    "plt.ylim([0., ymax])\n",
    "plt.legend(loc='best')\n",
    "plt.savefig('cm03_rm03_predictability.png')"
   ]
  },
  {
   "cell_type": "code",
   "execution_count": null,
   "id": "765f42b6",
   "metadata": {
    "ExecuteTime": {
     "end_time": "2022-02-08T18:05:17.449705Z",
     "start_time": "2022-02-08T18:04:51.916981Z"
    }
   },
   "outputs": [],
   "source": [
    "process_6_jacobian = np.zeros((num_time_steps+1, 6, 3))\n",
    "process_6_jacobian[:,0,:] = process_small_jacobian[:,0,:]\n",
    "process_6_jacobian[:,3:,:] = process_small_jacobian[:,1:,:]\n",
    "mom1_rates = np.zeros((num_time_steps+1,))\n",
    "mom2_rates = np.zeros((num_time_steps+1,))\n",
    "for i in range(num_time_steps+1):\n",
    "    dfdt_val, dfdt_deriv = dfdt_and_deriv(states[i], [ktens])\n",
    "    rate_out = moment_rate_and_grad(states[i], dfdt_val, dfdt_deriv, 1)\n",
    "    mom1_rates[i], process_small_jacobian[i,1,:] = rate_out\n",
    "    rate_out = moment_rate_and_grad(states[i], dfdt_val, dfdt_deriv, 2)\n",
    "    mom2_rates[i], process_small_jacobian[i,2,:] = rate_out"
   ]
  },
  {
   "cell_type": "code",
   "execution_count": null,
   "id": "644cdda3",
   "metadata": {
    "ExecuteTime": {
     "end_time": "2022-02-08T18:06:47.517198Z",
     "start_time": "2022-02-08T18:06:47.480703Z"
    }
   },
   "outputs": [],
   "source": [
    "sigma_6_mom0_rate = np.zeros((num_time_steps+1,))\n",
    "sigma_6_mom1_rate = np.zeros((num_time_steps+1,))\n",
    "sigma_6_mom2_rate = np.zeros((num_time_steps+1,))\n",
    "sigma_6_mom3_rate = np.zeros((num_time_steps+1,))\n",
    "sigma_6_mom4_rate = np.zeros((num_time_steps+1,))\n",
    "sigma_6_mom5_rate = np.zeros((num_time_steps+1,))\n",
    "for i in range(num_time_steps+1):\n",
    "    mom_inv = la.pinv(mom_6_jacobian[i,:,:])\n",
    "    pj = process_6_jacobian[i,:,:]\n",
    "    pj[0,:] = mom0_rates[i] / mom0s[i] * (pj[0,:] - mom_6_jacobian[i,0,:])\n",
    "    pj[1,:] = mom1_rates[i] / mom1s[i] * (pj[1,:] - mom_6_jacobian[i,1,:])\n",
    "    pj[2,:] = mom2_rates[i] / mom2s[i] * (pj[2,:] - mom_6_jacobian[i,2,:])\n",
    "    pj[3,:] = mom3_rates[i] / mom3s[i] * (pj[3,:] - mom_6_jacobian[i,3,:])\n",
    "    pj[4,:] = mom4_rates[i] / mom4s[i] * (pj[4,:] - mom_6_jacobian[i,4,:])\n",
    "    pj[5,:] = mom5_rates[i] / mom5s[i] * (pj[5,:] - mom_6_jacobian[i,5,:])\n",
    "    cov = pj @ mom_inv @ np.eye(6) @ mom_inv.T @ pj.T\n",
    "    sigma_6_mom0_rate[i] = np.sqrt(cov[0,0])\n",
    "    sigma_6_mom1_rate[i] = np.sqrt(cov[1,1])\n",
    "    sigma_6_mom2_rate[i] = np.sqrt(cov[2,2])\n",
    "    sigma_6_mom3_rate[i] = np.sqrt(cov[3,3])\n",
    "    sigma_6_mom4_rate[i] = np.sqrt(cov[4,4])\n",
    "    sigma_6_mom5_rate[i] = np.sqrt(cov[5,5])"
   ]
  },
  {
   "cell_type": "code",
   "execution_count": null,
   "id": "ed59c0dc",
   "metadata": {
    "ExecuteTime": {
     "end_time": "2022-02-08T18:07:39.181607Z",
     "start_time": "2022-02-08T18:07:39.025022Z"
    }
   },
   "outputs": [],
   "source": [
    "fig = plt.figure(figsize=(5, 4))\n",
    "plt.plot(t_eval, sigma_6_mom0_rate, label=\"M0\")\n",
    "plt.plot(t_eval, sigma_6_mom1_rate, label=\"M1\")\n",
    "plt.plot(t_eval, sigma_6_mom2_rate, label=\"M2\")\n",
    "plt.plot(t_eval, sigma_6_mom4_rate, label=\"M4\")\n",
    "plt.plot(t_eval, sigma_6_mom5_rate, label=\"M5\")\n",
    "ymax = 0.1\n",
    "for i in range(num_time_steps+1):\n",
    "    if autos[i] < accrs[i]:\n",
    "        time = t_eval[i]\n",
    "        break\n",
    "plt.vlines(time, 0., ymax, 'k', label='Accr > Auto')\n",
    "for i in range(num_time_steps+1):\n",
    "    if autos[i] > 0.01 * autos.max():\n",
    "        time = t_eval[i]\n",
    "        break\n",
    "plt.vlines(time, 0., ymax, 'r', linestyle='--', label='Auto at 1% max')\n",
    "plt.ylim([0., ymax])\n",
    "plt.legend(loc='best')\n",
    "plt.savefig('m012345_predictability.png')"
   ]
  },
  {
   "cell_type": "code",
   "execution_count": null,
   "id": "c21b73ca",
   "metadata": {
    "ExecuteTime": {
     "end_time": "2022-02-08T19:48:45.570001Z",
     "start_time": "2022-02-08T19:48:43.040739Z"
    }
   },
   "outputs": [],
   "source": [
    "momc6s = np.zeros((num_time_steps+1,))\n",
    "momr6s = np.zeros((num_time_steps+1,))\n",
    "mom_2cat_3m_jacobian = np.zeros((num_time_steps+1, 6, 3))\n",
    "mom_2cat_3m_jacobian[:,:2,:] = mom_2cat_jacobian[:,:2,:]\n",
    "mom_2cat_3m_jacobian[:,3:5,:] = mom_2cat_jacobian[:,2:,:]\n",
    "for i in range(num_time_steps+1):\n",
    "    dfdt_val = states[i].dsd_time_deriv_raw([ktens])[:grid.num_bins]\n",
    "    mom_out = calc_moment_and_gradient(states[i], dfdt_val, 6, cloud_only=True)\n",
    "    momc6s[i], mom_2cat_3m_jacobian[i,2,:] = mom_out\n",
    "    mom_out = calc_moment_and_gradient(states[i], dfdt_val, 6, rain_only=True)\n",
    "    momr6s[i], mom_2cat_3m_jacobian[i,5,:] = mom_out"
   ]
  },
  {
   "cell_type": "code",
   "execution_count": null,
   "id": "f6e50241",
   "metadata": {
    "ExecuteTime": {
     "end_time": "2022-02-08T18:21:41.458582Z",
     "start_time": "2022-02-08T18:21:25.472780Z"
    }
   },
   "outputs": [],
   "source": [
    "momc6_rates = np.zeros((num_time_steps+1,))\n",
    "momr6_rates = np.zeros((num_time_steps+1,))\n",
    "process_2cat_3m_jacobian = np.zeros((num_time_steps+1, 6, 3))\n",
    "process_2cat_3m_jacobian[:,:2,:] = process_2cat_jacobian[:,:2,:]\n",
    "process_2cat_3m_jacobian[:,3:5,:] = process_2cat_jacobian[:,2:,:]\n",
    "for i in range(num_time_steps+1):\n",
    "    dfdt_val, dfdt_deriv = dfdt_and_deriv(states[i], [ktens])\n",
    "    rate_out = moment_rate_and_grad(states[i], dfdt_val, dfdt_deriv, 6,\n",
    "                                    cloud_only=True)\n",
    "    momc6_rates[i], process_2cat_3m_jacobian[i,2,:] = rate_out\n",
    "    rate_out = moment_rate_and_grad(states[i], dfdt_val, dfdt_deriv, 6,\n",
    "                                    rain_only=True)\n",
    "    momr6_rates[i], process_2cat_3m_jacobian[i,5,:] = rate_out"
   ]
  },
  {
   "cell_type": "code",
   "execution_count": null,
   "id": "cfbd6c8a",
   "metadata": {
    "ExecuteTime": {
     "end_time": "2022-02-08T18:27:32.793946Z",
     "start_time": "2022-02-08T18:27:32.759007Z"
    }
   },
   "outputs": [],
   "source": [
    "sigma_2cat_3m_momc0_rate = np.zeros((num_time_steps+1,))\n",
    "sigma_2cat_3m_momc3_rate = np.zeros((num_time_steps+1,))\n",
    "sigma_2cat_3m_momc6_rate = np.zeros((num_time_steps+1,))\n",
    "sigma_2cat_3m_momr0_rate = np.zeros((num_time_steps+1,))\n",
    "sigma_2cat_3m_momr3_rate = np.zeros((num_time_steps+1,))\n",
    "sigma_2cat_3m_momr6_rate = np.zeros((num_time_steps+1,))\n",
    "for i in range(num_time_steps+1):\n",
    "    mom_inv = la.pinv(mom_2cat_3m_jacobian[i,:,:])\n",
    "    pj = process_2cat_3m_jacobian[i,:,:]\n",
    "    pj[0,:] = momc0_rates[i] / momc0s[i] * (pj[0,:] - mom_2cat_3m_jacobian[i,0,:])\n",
    "    pj[1,:] = momc3_rates[i] / momc3s[i] * (pj[1,:] - mom_2cat_3m_jacobian[i,1,:])\n",
    "    pj[2,:] = momc6_rates[i] / momc6s[i] * (pj[2,:] - mom_2cat_3m_jacobian[i,2,:])\n",
    "    pj[3,:] = momr0_rates[i] / momr0s[i] * (pj[3,:] - mom_2cat_3m_jacobian[i,3,:])\n",
    "    pj[4,:] = momr3_rates[i] / momr3s[i] * (pj[4,:] - mom_2cat_3m_jacobian[i,4,:])\n",
    "    pj[5,:] = momr6_rates[i] / momr6s[i] * (pj[5,:] - mom_2cat_3m_jacobian[i,5,:])\n",
    "    cov = pj @ mom_inv @ np.eye(6) @ mom_inv.T @ pj.T\n",
    "    sigma_2cat_3m_momc0_rate[i] = np.sqrt(cov[0,0])\n",
    "    sigma_2cat_3m_momc3_rate[i] = np.sqrt(cov[1,1])\n",
    "    sigma_2cat_3m_momc6_rate[i] = np.sqrt(cov[2,2])\n",
    "    sigma_2cat_3m_momr0_rate[i] = np.sqrt(cov[3,3])\n",
    "    sigma_2cat_3m_momr3_rate[i] = np.sqrt(cov[4,4])\n",
    "    sigma_2cat_3m_momr6_rate[i] = np.sqrt(cov[5,5])"
   ]
  },
  {
   "cell_type": "code",
   "execution_count": null,
   "id": "d35ed7e9",
   "metadata": {
    "ExecuteTime": {
     "end_time": "2022-02-08T18:32:55.690510Z",
     "start_time": "2022-02-08T18:32:55.477878Z"
    }
   },
   "outputs": [],
   "source": [
    "fig = plt.figure(figsize=(5, 4))\n",
    "plt.plot(t_eval, sigma_2cat_3m_momc0_rate, label=\"Cloud M0\")\n",
    "#plt.plot(t_eval, sigma_2cat_momc3_rate)\n",
    "plt.plot(t_eval, sigma_2cat_3m_momc6_rate, label=\"Cloud M6\")\n",
    "plt.plot(t_eval, sigma_2cat_3m_momr0_rate, label=\"Rain M0\")\n",
    "plt.plot(t_eval, sigma_2cat_3m_momr3_rate, label=\"Rain M3\")\n",
    "plt.plot(t_eval, sigma_2cat_3m_momr6_rate, label=\"Rain M6\")\n",
    "ymax = 0.1\n",
    "for i in range(num_time_steps+1):\n",
    "    if autos[i] < accrs[i]:\n",
    "        time = t_eval[i]\n",
    "        break\n",
    "plt.vlines(time, 0., ymax, 'k', label='Accr > Auto')\n",
    "for i in range(num_time_steps+1):\n",
    "    if autos[i] > 0.01 * autos.max():\n",
    "        time = t_eval[i]\n",
    "        break\n",
    "plt.vlines(time, 0., ymax, 'r', linestyle='--', label='Auto at 1% max')\n",
    "plt.ylim([0., ymax])\n",
    "plt.legend(loc='best')\n",
    "plt.savefig('cm036_rm036_predictability.png')"
   ]
  },
  {
   "cell_type": "markdown",
   "id": "2c2e448c",
   "metadata": {},
   "source": [
    "# Comparison plots"
   ]
  },
  {
   "cell_type": "code",
   "execution_count": null,
   "id": "784ca2bc",
   "metadata": {
    "ExecuteTime": {
     "end_time": "2022-02-08T20:03:48.644501Z",
     "start_time": "2022-02-08T20:03:48.639393Z"
    }
   },
   "outputs": [],
   "source": [
    "for i in range(num_time_steps+1):\n",
    "    if momr3s[i] >= 0.99*mom3s[i]:\n",
    "        half_time = i//2\n",
    "        print(t_eval[half_time])\n",
    "        break"
   ]
  },
  {
   "cell_type": "code",
   "execution_count": null,
   "id": "7c40a1f6",
   "metadata": {
    "ExecuteTime": {
     "end_time": "2022-02-08T19:52:56.677840Z",
     "start_time": "2022-02-08T19:50:58.751951Z"
    }
   },
   "outputs": [],
   "source": [
    "nmom = 10\n",
    "full_moms = np.zeros((num_time_steps+1, nmom))\n",
    "full_mom_rates = np.zeros((num_time_steps+1, nmom))\n",
    "full_mom_jacobian = np.zeros((num_time_steps+1, nmom, 3))\n",
    "full_mom_rate_jacobian = np.zeros((num_time_steps+1, nmom, 3))\n",
    "for i in range(num_time_steps+1):\n",
    "    dfdt_val, dfdt_deriv = dfdt_and_deriv(states[i], [ktens])\n",
    "    for n in range(nmom):\n",
    "        mom_out = calc_moment_and_gradient(states[i], dfdt_val, n)\n",
    "        full_moms[i,n], full_mom_jacobian[i,n,:] = mom_out\n",
    "        rate_out = moment_rate_and_grad(states[i], dfdt_val, dfdt_deriv, n)\n",
    "        full_mom_rates[i,n], full_mom_rate_jacobian[i,n,:] = rate_out"
   ]
  },
  {
   "cell_type": "code",
   "execution_count": null,
   "id": "97eb515a",
   "metadata": {
    "ExecuteTime": {
     "end_time": "2022-02-08T20:20:24.669502Z",
     "start_time": "2022-02-08T20:20:24.654991Z"
    }
   },
   "outputs": [],
   "source": [
    "full_scaled_rate_jacobian = np.zeros((num_time_steps+1, nmom, 3))\n",
    "for i in range(num_time_steps+1):\n",
    "    mj = full_mom_jacobian[i,:,:]\n",
    "    pj = full_mom_rate_jacobian[i,:,:]\n",
    "    for n in range(nmom):\n",
    "        full_scaled_rate_jacobian[i,n,:] = full_mom_rates[i,n] / full_moms[i,n] * (pj[n,:] - mj[n,:])"
   ]
  },
  {
   "cell_type": "code",
   "execution_count": null,
   "id": "db352441-cabf-4a5c-b451-50572e9108a8",
   "metadata": {},
   "outputs": [],
   "source": [
    "moments = [0, 4, 5]\n",
    "nmom = len(moments)\n",
    "j_eigs = np.zeros((num_time_steps+1, nmom), dtype=np.complex128)\n",
    "j_evals = np.zeros((num_time_steps+1, nmom, nmom), dtype=np.complex128)\n",
    "for i in range(num_time_steps):\n",
    "    mom_inv = la.pinv(full_mom_jacobian[i,moments,:])\n",
    "    pj = full_scaled_rate_jacobian[i,moments,:]\n",
    "    j_eigs[i,:], j_evals[i,:,:] = la.eig(pj @ mom_inv)"
   ]
  },
  {
   "cell_type": "code",
   "execution_count": null,
   "id": "bf346afe-6b9c-466e-afc3-68677d8bb642",
   "metadata": {},
   "outputs": [],
   "source": [
    "print(j_eigs[0,:], j_evals[0,:,:])"
   ]
  },
  {
   "cell_type": "code",
   "execution_count": null,
   "id": "7e60286f-a352-47db-9113-3e257c590f31",
   "metadata": {},
   "outputs": [],
   "source": [
    "plt.scatter(np.repeat(t_eval, len(moments)), np.ravel(np.real(j_eigs)))"
   ]
  },
  {
   "cell_type": "code",
   "execution_count": null,
   "id": "07b7d83c-70e4-4c2e-8541-48c164de35b9",
   "metadata": {},
   "outputs": [],
   "source": [
    "plt.scatter(np.repeat(t_eval, len(moments)), np.ravel(np.imag(j_eigs)))"
   ]
  },
  {
   "cell_type": "code",
   "execution_count": null,
   "id": "4246f37b-6432-459b-8b52-b70064fd12b4",
   "metadata": {},
   "outputs": [],
   "source": [
    "full_mom_jacobian[0,[0,3,6,9],:]"
   ]
  },
  {
   "cell_type": "code",
   "execution_count": null,
   "id": "4f7f8128-9c63-4fb0-ac94-93b20fabf665",
   "metadata": {},
   "outputs": [],
   "source": [
    "mom_jacobian[0,:,:]"
   ]
  },
  {
   "cell_type": "code",
   "execution_count": null,
   "id": "05a881fa",
   "metadata": {},
   "outputs": [],
   "source": [
    "moments = [0, 6, 9]\n",
    "nmom = len(moments)\n",
    "sigma_diags = np.zeros((num_time_steps+1, nmom))\n",
    "for i in range(num_time_steps):\n",
    "    mom_inv = la.pinv(full_mom_jacobian[i,moments,:])\n",
    "    pj = full_scaled_rate_jacobian[i,moments,:]\n",
    "    cov = pj @ mom_inv @ np.eye(nmom) @ mom_inv.T @ pj.T\n",
    "    for n in range(nmom):\n",
    "        sigma_diags[i,n] = np.sqrt(cov[n,n])"
   ]
  },
  {
   "cell_type": "code",
   "execution_count": null,
   "id": "3a64abaa-ff42-41d5-8efe-f718284fc126",
   "metadata": {},
   "outputs": [],
   "source": [
    "fig = plt.figure(figsize=(5, 4))\n",
    "for n in range(nmom):\n",
    "    plt.plot(t_eval, sigma_diags[:,n], label=\"M{}\".format(moments[n]))\n",
    "ymax = 0.1\n",
    "for i in range(num_time_steps+1):\n",
    "    if autos[i] < accrs[i]:\n",
    "        time = t_eval[i]\n",
    "        break\n",
    "plt.vlines(time, 0., ymax, 'k', label='Accr > Auto')\n",
    "for i in range(num_time_steps+1):\n",
    "    if autos[i] > 0.01 * autos.max():\n",
    "        time = t_eval[i]\n",
    "        break\n",
    "plt.vlines(time, 0., ymax, 'r', linestyle='--', label='Auto at 1% max')\n",
    "plt.ylim([0., ymax])\n",
    "plt.legend(loc='best')"
   ]
  },
  {
   "cell_type": "code",
   "execution_count": null,
   "id": "420f04c2-429c-4f2d-a8fd-c309d84da841",
   "metadata": {},
   "outputs": [],
   "source": [
    "initial_error = 0.#0005 * np.log(10.)\n",
    "error_per_sec = 0.000005 * np.log(10.) / 60."
   ]
  },
  {
   "cell_type": "code",
   "execution_count": null,
   "id": "f1aff704-0ae0-44cc-87ed-0593b6fb363f",
   "metadata": {},
   "outputs": [],
   "source": [
    "moments = [0, 6, 9]\n",
    "nmom = len(moments)\n",
    "sigma_diags = np.zeros((num_time_steps+1, nmom))\n",
    "for i in range(num_time_steps):\n",
    "    mom_inv = la.pinv(full_mom_jacobian[i,moments,:])\n",
    "    pj = full_scaled_rate_jacobian[i,moments,:]\n",
    "    cov = pj @ mom_inv @ np.eye(nmom)# @ mom_inv.T @ pj.T\n",
    "    cov = cov + cov.T\n",
    "    for n in range(nmom):\n",
    "        sigma_diags[i,n] = cov[n,n]#np.sqrt(cov[n,n])"
   ]
  },
  {
   "cell_type": "code",
   "execution_count": null,
   "id": "14d1e8f4-5b19-4eb1-b1b1-1bbfa30ad234",
   "metadata": {},
   "outputs": [],
   "source": [
    "fig = plt.figure(figsize=(5, 4))\n",
    "for n in range(nmom):\n",
    "    plt.plot(t_eval, sigma_diags[:,n], label=\"M{}\".format(moments[n]))\n",
    "ymax = 0.1\n",
    "for i in range(num_time_steps+1):\n",
    "    if autos[i] < accrs[i]:\n",
    "        time = t_eval[i]\n",
    "        break\n",
    "plt.vlines(time, -ymax, ymax, 'k', label='Accr > Auto')\n",
    "for i in range(num_time_steps+1):\n",
    "    if autos[i] > 0.01 * autos.max():\n",
    "        time = t_eval[i]\n",
    "        break\n",
    "plt.vlines(time, -ymax, ymax, 'r', linestyle='--', label='Auto at 1% max')\n",
    "plt.ylim([-ymax, ymax])\n",
    "plt.legend(loc='best')"
   ]
  },
  {
   "cell_type": "code",
   "execution_count": null,
   "id": "199f71dc-9676-4193-990a-0ac75efc665a",
   "metadata": {},
   "outputs": [],
   "source": [
    "moments = [0, 6, 9]\n",
    "nmom = len(moments)\n",
    "sigma_diags = np.zeros((num_time_steps+1, nmom))\n",
    "cum_cov = initial_error * np.eye(nmom)\n",
    "for i in range(num_time_steps):\n",
    "    cum_cov += dt * error_per_sec * np.eye(nmom)\n",
    "    mom_inv = la.pinv(full_mom_jacobian[i,moments,:])\n",
    "    pj = full_scaled_rate_jacobian[i,moments,:]\n",
    "    h = (np.eye(nmom) + dt * (pj @ mom_inv))\n",
    "    new_cov = h @ cum_cov @ h.T\n",
    "    cum_cov = new_cov\n",
    "    for n in range(nmom):\n",
    "        sigma_diags[i,n] = np.sqrt(cum_cov[n,n])"
   ]
  },
  {
   "cell_type": "code",
   "execution_count": null,
   "id": "59885fc7-06af-44ca-98f2-b05a52e02634",
   "metadata": {},
   "outputs": [],
   "source": [
    "fig = plt.figure(figsize=(5, 4))\n",
    "for n in range(nmom):\n",
    "    plt.plot(t_eval, sigma_diags[:,n], label=\"M{}\".format(moments[n]))\n",
    "ymax = 20.\n",
    "for i in range(num_time_steps+1):\n",
    "    if autos[i] < accrs[i]:\n",
    "        time = t_eval[i]\n",
    "        break\n",
    "plt.vlines(time, 0., ymax, 'k', label='Accr > Auto')\n",
    "for i in range(num_time_steps+1):\n",
    "    if autos[i] > 0.01 * autos.max():\n",
    "        time = t_eval[i]\n",
    "        break\n",
    "plt.vlines(time, 0., ymax, 'r', linestyle='--', label='Auto at 1% max')\n",
    "plt.ylim([0., ymax])\n",
    "plt.legend(loc='best')"
   ]
  },
  {
   "cell_type": "code",
   "execution_count": null,
   "id": "2c275fec-eedb-4528-8e42-2866c028ec79",
   "metadata": {},
   "outputs": [],
   "source": [
    "nmom = 4\n",
    "sigma_diags = np.zeros((num_time_steps+1, nmom))\n",
    "for i in range(num_time_steps):\n",
    "    mom_inv = la.pinv(mom_2cat_jacobian[i,:,:])\n",
    "    pj = process_2cat_jacobian[i,:,:]\n",
    "    pj[0,:] = momc0_rates[i] / momc0s[i] * (pj[0,:] - mom_2cat_jacobian[i,0,:])\n",
    "    pj[1,:] = momc3_rates[i] / momc3s[i] * (pj[1,:] - mom_2cat_jacobian[i,1,:])\n",
    "    pj[2,:] = momr0_rates[i] / momr0s[i] * (pj[2,:] - mom_2cat_jacobian[i,2,:])\n",
    "    pj[3,:] = momr3_rates[i] / momr3s[i] * (pj[3,:] - mom_2cat_jacobian[i,3,:])\n",
    "    cov = pj @ mom_inv @ np.eye(nmom)# @ mom_inv.T @ pj.T\n",
    "    cov = cov + cov.T\n",
    "    for n in range(nmom):\n",
    "        sigma_diags[i,n] = cov[n,n]#np.sqrt(cov[n,n])"
   ]
  },
  {
   "cell_type": "code",
   "execution_count": null,
   "id": "c789b4b7-d79c-41da-a6ab-c0cab636f9c7",
   "metadata": {},
   "outputs": [],
   "source": [
    "fig = plt.figure(figsize=(5, 4))\n",
    "labels = [\"Cloud M0\", \"Cloud M3\", \"Rain M0\", \"Rain M3\"]\n",
    "for n in range(nmom):\n",
    "    plt.plot(t_eval, sigma_diags[:,n], label=labels[n])\n",
    "ymax = 0.1\n",
    "for i in range(num_time_steps+1):\n",
    "    if autos[i] < accrs[i]:\n",
    "        time = t_eval[i]\n",
    "        break\n",
    "plt.vlines(time, -ymax, ymax, 'k', label='Accr > Auto')\n",
    "for i in range(num_time_steps+1):\n",
    "    if autos[i] > 0.01 * autos.max():\n",
    "        time = t_eval[i]\n",
    "        break\n",
    "plt.vlines(time, -ymax, ymax, 'r', linestyle='--', label='Auto at 1% max')\n",
    "plt.ylim([-ymax, ymax])\n",
    "plt.legend(loc='best')"
   ]
  },
  {
   "cell_type": "code",
   "execution_count": null,
   "id": "35e0f19b-a2fb-4ddf-a307-cf1327356dfd",
   "metadata": {},
   "outputs": [],
   "source": [
    "nmom = 4\n",
    "sigma_diags = np.zeros((num_time_steps+1, nmom))\n",
    "cum_cov = initial_error * np.eye(nmom)\n",
    "for i in range(num_time_steps):\n",
    "    cum_cov += dt * error_per_sec * np.eye(nmom)\n",
    "    mom_inv = la.pinv(mom_2cat_jacobian[i,:,:])\n",
    "    pj = process_2cat_jacobian[i,:,:]\n",
    "    pj[0,:] = momc0_rates[i] / momc0s[i] * (pj[0,:] - mom_2cat_jacobian[i,0,:])\n",
    "    pj[1,:] = momc3_rates[i] / momc3s[i] * (pj[1,:] - mom_2cat_jacobian[i,1,:])\n",
    "    pj[2,:] = momr0_rates[i] / momr0s[i] * (pj[2,:] - mom_2cat_jacobian[i,2,:])\n",
    "    pj[3,:] = momr3_rates[i] / momr3s[i] * (pj[3,:] - mom_2cat_jacobian[i,3,:])\n",
    "    h = (np.eye(nmom) + dt * (pj @ mom_inv))\n",
    "    new_cov = h @ cum_cov @ h.T\n",
    "    cum_cov = new_cov\n",
    "    for n in range(nmom):\n",
    "        sigma_diags[i,n] = np.sqrt(cum_cov[n,n])"
   ]
  },
  {
   "cell_type": "code",
   "execution_count": null,
   "id": "0241975e-47a2-4925-a797-df16102c916d",
   "metadata": {},
   "outputs": [],
   "source": [
    "fig = plt.figure(figsize=(5, 4))\n",
    "labels = [\"Cloud M0\", \"Cloud M3\", \"Rain M0\", \"Rain M3\"]\n",
    "for n in range(nmom):\n",
    "    plt.plot(t_eval, sigma_diags[:,n], label=labels[n])\n",
    "ymax = 20.\n",
    "for i in range(num_time_steps+1):\n",
    "    if autos[i] < accrs[i]:\n",
    "        time = t_eval[i]\n",
    "        break\n",
    "plt.vlines(time, 0., ymax, 'k', label='Accr > Auto')\n",
    "for i in range(num_time_steps+1):\n",
    "    if autos[i] > 0.01 * autos.max():\n",
    "        time = t_eval[i]\n",
    "        break\n",
    "plt.vlines(time, 0., ymax, 'r', linestyle='--', label='Auto at 1% max')\n",
    "plt.ylim([0., ymax])\n",
    "plt.legend(loc='best')"
   ]
  },
  {
   "cell_type": "code",
   "execution_count": null,
   "id": "9d90d5b9-444e-4360-9db0-3ce8bae14d0c",
   "metadata": {},
   "outputs": [],
   "source": [
    "nmom = 6\n",
    "sigma_diags = np.zeros((num_time_steps+1, nmom))\n",
    "cum_cov = initial_error * np.eye(nmom)\n",
    "for i in range(num_time_steps):\n",
    "    cum_cov += dt * error_per_sec * np.eye(nmom)\n",
    "    proj = mom_2cat_3m_jacobian[i,:,:]\n",
    "    inv_part = la.inv(proj.T @ np.eye(nmom) @ proj)\n",
    "    proj_full = proj @ inv_part @ proj.T @ la.inv(np.eye(nmom))\n",
    "    cum_cov = proj_full @ cum_cov @ proj_full.T\n",
    "    mom_inv = la.pinv(mom_2cat_3m_jacobian[i,:,:])\n",
    "    pj = process_2cat_3m_jacobian[i,:,:]\n",
    "    pj[0,:] = momc0_rates[i] / momc0s[i] * (pj[0,:] - mom_2cat_3m_jacobian[i,0,:])\n",
    "    pj[1,:] = momc3_rates[i] / momc3s[i] * (pj[1,:] - mom_2cat_3m_jacobian[i,1,:])\n",
    "    pj[2,:] = momr0_rates[i] / momr0s[i] * (pj[2,:] - mom_2cat_3m_jacobian[i,2,:])\n",
    "    pj[3,:] = momr3_rates[i] / momr3s[i] * (pj[3,:] - mom_2cat_3m_jacobian[i,3,:])\n",
    "    pj[4,:] = momr3_rates[i] / momr3s[i] * (pj[4,:] - mom_2cat_3m_jacobian[i,4,:])\n",
    "    pj[5,:] = momr6_rates[i] / momr6s[i] * (pj[5,:] - mom_2cat_3m_jacobian[i,5,:])\n",
    "    h = (np.eye(nmom) + dt * (pj @ mom_inv))\n",
    "    new_cov = h @ cum_cov @ h.T\n",
    "    cum_cov = new_cov\n",
    "    for n in range(nmom):\n",
    "        sigma_diags[i,n] = np.sqrt(cum_cov[n,n])"
   ]
  },
  {
   "cell_type": "code",
   "execution_count": null,
   "id": "2f70e5a2-ad35-4b16-ba7b-b6e7a93d9e42",
   "metadata": {},
   "outputs": [],
   "source": [
    "fig = plt.figure(figsize=(5, 4))\n",
    "labels = [\"Cloud M0\", \"Cloud M3\", \"Cloud M6\", \"Rain M0\", \"Rain M3\", \"Rain M6\"]\n",
    "for n in range(nmom):\n",
    "    plt.plot(t_eval, sigma_diags[:,n], label=labels[n])\n",
    "ymax = 20.\n",
    "for i in range(num_time_steps+1):\n",
    "    if autos[i] < accrs[i]:\n",
    "        time = t_eval[i]\n",
    "        break\n",
    "plt.vlines(time, 0., ymax, 'k', label='Accr > Auto')\n",
    "for i in range(num_time_steps+1):\n",
    "    if autos[i] > 0.01 * autos.max():\n",
    "        time = t_eval[i]\n",
    "        break\n",
    "plt.vlines(time, 0., ymax, 'r', linestyle='--', label='Auto at 1% max')\n",
    "plt.ylim([0., ymax])\n",
    "plt.legend(loc='best')"
   ]
  },
  {
   "cell_type": "code",
   "execution_count": null,
   "id": "2d97ce3d-3533-498e-9c37-ae5c0862e410",
   "metadata": {},
   "outputs": [],
   "source": [
    "moments = [0, 1, 2]\n",
    "nmom = len(moments)\n",
    "sigma_diags = np.zeros((num_time_steps+1, nmom))\n",
    "cum_cov = initial_error * np.eye(nmom)\n",
    "for i in range(num_time_steps):\n",
    "    cum_cov += dt * error_per_sec * np.eye(nmom)\n",
    "    mom_inv = la.pinv(full_mom_jacobian[i,moments,:])\n",
    "    pj = full_scaled_rate_jacobian[i,moments,:]\n",
    "    h = (np.eye(nmom) + dt * (pj @ mom_inv))\n",
    "    new_cov = h @ cum_cov @ h.T\n",
    "    cum_cov = new_cov\n",
    "    for n in range(nmom):\n",
    "        sigma_diags[i,n] = np.sqrt(cum_cov[n,n])"
   ]
  },
  {
   "cell_type": "code",
   "execution_count": null,
   "id": "6860f79b-c3d9-4f8b-bdfa-10a2cbd80279",
   "metadata": {},
   "outputs": [],
   "source": [
    "fig = plt.figure(figsize=(5, 4))\n",
    "for n in range(nmom):\n",
    "    plt.plot(t_eval, sigma_diags[:,n], label=\"M{}\".format(moments[n]))\n",
    "ymax = 20.\n",
    "for i in range(num_time_steps+1):\n",
    "    if autos[i] < accrs[i]:\n",
    "        time = t_eval[i]\n",
    "        break\n",
    "plt.vlines(time, 0., ymax, 'k', label='Accr > Auto')\n",
    "for i in range(num_time_steps+1):\n",
    "    if autos[i] > 0.01 * autos.max():\n",
    "        time = t_eval[i]\n",
    "        break\n",
    "plt.vlines(time, 0., ymax, 'r', linestyle='--', label='Auto at 1% max')\n",
    "plt.ylim([0., ymax])\n",
    "plt.legend(loc='best')"
   ]
  },
  {
   "cell_type": "code",
   "execution_count": null,
   "id": "c573da94-fb50-4878-b16c-ffae820cb0fe",
   "metadata": {},
   "outputs": [],
   "source": [
    "moments = [0, 4, 5]\n",
    "nmom = len(moments)\n",
    "sigma_diags = np.zeros((num_time_steps+1, nmom))\n",
    "cum_cov = initial_error * np.eye(nmom)\n",
    "for i in range(num_time_steps):\n",
    "    cum_cov += dt * error_per_sec * np.eye(nmom)\n",
    "    mom_inv = la.pinv(full_mom_jacobian[i,moments,:])\n",
    "    pj = full_scaled_rate_jacobian[i,moments,:]\n",
    "    h = (np.eye(nmom) + dt * (pj @ mom_inv))\n",
    "    new_cov = h @ cum_cov @ h.T\n",
    "    cum_cov = new_cov\n",
    "    for n in range(nmom):\n",
    "        sigma_diags[i,n] = np.sqrt(cum_cov[n,n])"
   ]
  },
  {
   "cell_type": "code",
   "execution_count": null,
   "id": "0ab6e1f9-96db-48c2-aeb7-5e562fea2f0a",
   "metadata": {},
   "outputs": [],
   "source": [
    "fig = plt.figure(figsize=(5, 4))\n",
    "for n in range(nmom):\n",
    "    plt.plot(t_eval, sigma_diags[:,n], label=\"M{}\".format(moments[n]))\n",
    "ymax = 20.\n",
    "for i in range(num_time_steps+1):\n",
    "    if autos[i] < accrs[i]:\n",
    "        time = t_eval[i]\n",
    "        break\n",
    "plt.vlines(time, 0., ymax, 'k', label='Accr > Auto')\n",
    "for i in range(num_time_steps+1):\n",
    "    if autos[i] > 0.01 * autos.max():\n",
    "        time = t_eval[i]\n",
    "        break\n",
    "plt.vlines(time, 0., ymax, 'r', linestyle='--', label='Auto at 1% max')\n",
    "plt.ylim([0., ymax])\n",
    "plt.legend(loc='best')"
   ]
  },
  {
   "cell_type": "code",
   "execution_count": null,
   "id": "7f81015d-e035-44d2-bebc-d9a14d88b20d",
   "metadata": {},
   "outputs": [],
   "source": [
    "moments = [0, 5, 6]\n",
    "nmom = len(moments)\n",
    "sigma_diags = np.zeros((num_time_steps+1, nmom))\n",
    "cum_cov = initial_error * np.eye(nmom)\n",
    "for i in range(num_time_steps):\n",
    "    cum_cov += dt * error_per_sec * np.eye(nmom)\n",
    "    mom_inv = la.pinv(full_mom_jacobian[i,moments,:])\n",
    "    pj = full_scaled_rate_jacobian[i,moments,:]\n",
    "    h = (np.eye(nmom) + dt * (pj @ mom_inv))\n",
    "    new_cov = h @ cum_cov @ h.T\n",
    "    cum_cov = new_cov\n",
    "    for n in range(nmom):\n",
    "        sigma_diags[i,n] = np.sqrt(cum_cov[n,n])"
   ]
  },
  {
   "cell_type": "code",
   "execution_count": null,
   "id": "70fc146a-c072-4aba-ad76-2dd155467c28",
   "metadata": {},
   "outputs": [],
   "source": [
    "fig = plt.figure(figsize=(5, 4))\n",
    "for n in range(nmom):\n",
    "    plt.plot(t_eval, sigma_diags[:,n], label=\"M{}\".format(moments[n]))\n",
    "ymax = 20.\n",
    "for i in range(num_time_steps+1):\n",
    "    if autos[i] < accrs[i]:\n",
    "        time = t_eval[i]\n",
    "        break\n",
    "plt.vlines(time, 0., ymax, 'k', label='Accr > Auto')\n",
    "for i in range(num_time_steps+1):\n",
    "    if autos[i] > 0.01 * autos.max():\n",
    "        time = t_eval[i]\n",
    "        break\n",
    "plt.vlines(time, 0., ymax, 'r', linestyle='--', label='Auto at 1% max')\n",
    "plt.ylim([0., ymax])\n",
    "plt.legend(loc='best')"
   ]
  },
  {
   "cell_type": "code",
   "execution_count": null,
   "id": "2d34ddc0-5a4e-47f7-9f31-230c0da39ec6",
   "metadata": {},
   "outputs": [],
   "source": []
  }
 ],
 "metadata": {
  "kernelspec": {
   "display_name": "Python 3 (ipykernel)",
   "language": "python",
   "name": "python3"
  },
  "language_info": {
   "codemirror_mode": {
    "name": "ipython",
    "version": 3
   },
   "file_extension": ".py",
   "mimetype": "text/x-python",
   "name": "python",
   "nbconvert_exporter": "python",
   "pygments_lexer": "ipython3",
   "version": "3.9.5"
  },
  "toc": {
   "base_numbering": 1,
   "nav_menu": {},
   "number_sections": true,
   "sideBar": true,
   "skip_h1_title": false,
   "title_cell": "Table of Contents",
   "title_sidebar": "Contents",
   "toc_cell": true,
   "toc_position": {},
   "toc_section_display": true,
   "toc_window_display": false
  }
 },
 "nbformat": 4,
 "nbformat_minor": 5
}
